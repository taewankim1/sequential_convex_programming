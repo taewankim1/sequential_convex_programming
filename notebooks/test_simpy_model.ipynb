{
 "cells": [
  {
   "cell_type": "code",
   "execution_count": null,
   "id": "blank-coffee",
   "metadata": {},
   "outputs": [],
   "source": [
    "import matplotlib.pyplot as plt\n",
    "# %matplotlib inline\n",
    "%matplotlib qt\n",
    "%load_ext autoreload\n",
    "%autoreload 2\n",
    "import numpy as np\n",
    "import simpy as sp\n",
    "import time\n",
    "import random\n",
    "def print_np(x):\n",
    "    print (\"Type is %s\" % (type(x)))\n",
    "    print (\"Shape is %s\" % (x.shape,))\n",
    "#     print (\"Values are: \\n%s\" % (x))"
   ]
  },
  {
   "cell_type": "code",
   "execution_count": null,
   "id": "entertaining-sugar",
   "metadata": {},
   "outputs": [],
   "source": [
    "from sympy import symbols, Matrix\n",
    "m,rx,ry,rz,vx,vy,vz,q1,q2,q3,q4,w1,w2,w3 = symbols('m,rx,ry,rz,vx,vy,vz,q1,q2,q3,q4,w1,w2,w3')\n",
    "alpha_m, r_t = symbols('alpha_m,r_t')"
   ]
  },
  {
   "cell_type": "code",
   "execution_count": null,
   "id": "utility-partnership",
   "metadata": {},
   "outputs": [],
   "source": [
    "import sys\n",
    "# sys.path.append('../')\n",
    "sys.path.append('../')\n",
    "sys.path.append('../model')\n",
    "sys.path.append('../cost')\n",
    "sys.path.append('../constraints')\n",
    "import Landing3DModel\n",
    "import Landing3DCost\n",
    "import Landing3DConstraints\n",
    "from scipy.integrate import solve_ivp\n",
    "from Scvx import Scvx"
   ]
  },
  {
   "cell_type": "code",
   "execution_count": null,
   "id": "ongoing-arnold",
   "metadata": {},
   "outputs": [],
   "source": [
    "ix = 14\n",
    "iu = 3\n",
    "ih = 7\n",
    "tf = 5\n",
    "N = 50\n",
    "delT = tf/N\n",
    "max_iter = 15"
   ]
  },
  {
   "cell_type": "code",
   "execution_count": null,
   "id": "unknown-invite",
   "metadata": {},
   "outputs": [],
   "source": [
    "xi = np.array([2,1,1,2,0,0,0,1,0,0,0,0,0,0])\n",
    "xf = np.array([1,0,0,0,0,0,0,1,0,0,0,0,0,0])\n",
    "\n",
    "myModel = Landing3DModel.Landing3D('Hello',ix,iu,delT)\n",
    "myCost = Landing3DCost.Landing3D('Hello',ix,iu,N)\n",
    "myConst = Landing3DConstraints.Landing3D('Hello',ix,iu,ih)\n",
    "\n",
    "x0 = np.zeros((N+1,ix))\n",
    "for i in range(N+1) :\n",
    "    x0[i] = (N-i)/N * xi + i/N * xf\n",
    "\n",
    "u0 = np.zeros((N+1,iu))\n",
    "u0[:,2] = 2"
   ]
  },
  {
   "cell_type": "code",
   "execution_count": null,
   "id": "powerful-floor",
   "metadata": {},
   "outputs": [],
   "source": [
    "idx = 2\n",
    "fx,fu = myModel.diff_numeric(x0[0],u0[0])\n",
    "print(fu[idx])\n",
    "fx,fu = myModel.diff_numeric_central(x0[0],u0[0])\n",
    "print(fu[idx])"
   ]
  },
  {
   "cell_type": "code",
   "execution_count": null,
   "id": "written-confirmation",
   "metadata": {},
   "outputs": [],
   "source": []
  }
 ],
 "metadata": {
  "kernelspec": {
   "display_name": "Python 3",
   "language": "python",
   "name": "python3"
  },
  "language_info": {
   "codemirror_mode": {
    "name": "ipython",
    "version": 3
   },
   "file_extension": ".py",
   "mimetype": "text/x-python",
   "name": "python",
   "nbconvert_exporter": "python",
   "pygments_lexer": "ipython3",
   "version": "3.8.5"
  }
 },
 "nbformat": 4,
 "nbformat_minor": 5
}
