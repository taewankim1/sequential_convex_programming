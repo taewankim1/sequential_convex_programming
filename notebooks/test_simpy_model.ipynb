{
 "cells": [
  {
   "cell_type": "code",
   "execution_count": 1,
   "id": "blank-coffee",
   "metadata": {},
   "outputs": [],
   "source": [
    "import matplotlib.pyplot as plt\n",
    "# %matplotlib inline\n",
    "%matplotlib qt\n",
    "%load_ext autoreload\n",
    "%autoreload 2\n",
    "import numpy as np\n",
    "import simpy as sp\n",
    "import time\n",
    "import random\n",
    "def print_np(x):\n",
    "    print (\"Type is %s\" % (type(x)))\n",
    "    print (\"Shape is %s\" % (x.shape,))\n",
    "#     print (\"Values are: \\n%s\" % (x))"
   ]
  },
  {
   "cell_type": "code",
   "execution_count": 2,
   "id": "utility-partnership",
   "metadata": {},
   "outputs": [],
   "source": [
    "import sys\n",
    "# sys.path.append('../')\n",
    "sys.path.append('../')\n",
    "sys.path.append('../model')\n",
    "sys.path.append('../cost')\n",
    "sys.path.append('../constraints')\n",
    "import Landing3DModel\n",
    "import Landing3DCost\n",
    "import Landing3DConstraints\n",
    "from scipy.integrate import solve_ivp\n",
    "from Scvx import Scvx"
   ]
  },
  {
   "cell_type": "code",
   "execution_count": 3,
   "id": "ongoing-arnold",
   "metadata": {},
   "outputs": [],
   "source": [
    "ix = 14\n",
    "iu = 3\n",
    "tf = 5\n",
    "N = 50\n",
    "delT = tf/N\n",
    "max_iter = 15"
   ]
  },
  {
   "cell_type": "code",
   "execution_count": 4,
   "id": "unknown-invite",
   "metadata": {},
   "outputs": [],
   "source": [
    "xi = np.array([2,2,1,1,0,1,2,1,0,0,0,0,0,0])\n",
    "xf = np.array([1,0,0,0,0,1,2,1,0,0,0,0,0,0])\n",
    "\n",
    "myModel = Landing3DModel.Landing3D('Hello',ix,iu,delT)\n",
    "myCost = Landing3DCost.Landing3D('Hello',ix,iu,N)\n",
    "myConst = Landing3DConstraints.Landing3D('Hello',ix,iu)\n",
    "\n",
    "x0 = np.zeros((N+1,ix))\n",
    "for i in range(N+1) :\n",
    "    x0[i] = (N-i)/N * xi + i/N * xf\n",
    "\n",
    "u0 = np.zeros((N+1,iu))\n",
    "u0[:,0] = 2"
   ]
  },
  {
   "cell_type": "code",
   "execution_count": 14,
   "id": "surgical-input",
   "metadata": {},
   "outputs": [
    {
     "name": "stdout",
     "output_type": "stream",
     "text": [
      "0.016493533764448964\n",
      "5.389137694300364e-06\n"
     ]
    }
   ],
   "source": [
    "idx = 15\n",
    "ix = 14\n",
    "iu = 3\n",
    "# x = x0[idx]\n",
    "# u = u0[idx]\n",
    "x = np.random.randn(10,ix)\n",
    "u = np.random.randn(10,iu)\n",
    "\n",
    "# fdot_original = myModel.forward(x,u)\n",
    "# fdot_analytic = myModel.forward_temp(x,u)\n",
    "\n",
    "# print(np.sum(np.abs(fdot_original - fdot_analytic)))\n",
    "\n",
    "fx,fu = myModel.diff_numeric(x,u,discrete=False)\n",
    "fx_,fu_ = myModel.diff(x,u,discrete=False)\n",
    "\n",
    "print(np.sum(np.abs(fx - fx_)))\n",
    "print(np.sum(np.abs(fu - fu_)))"
   ]
  },
  {
   "cell_type": "code",
   "execution_count": null,
   "id": "written-confirmation",
   "metadata": {},
   "outputs": [],
   "source": [
    "from sympy import symbols, Matrix\n",
    "J,r_t,g,alpha_m = symbols('J,r_t,g,alpha_m')"
   ]
  },
  {
   "cell_type": "code",
   "execution_count": null,
   "id": "previous-insider",
   "metadata": {},
   "outputs": [],
   "source": [
    "def dir_cosine(q):\n",
    "        return np.matrix([\n",
    "            [1 - 2 * (q[2] ** 2 + q[3] ** 2), 2 * (q[1] * q[2] +\n",
    "                                                   q[0] * q[3]), 2 * (q[1] * q[3] - q[0] * q[2])],\n",
    "            [2 * (q[1] * q[2] - q[0] * q[3]), 1 - 2 *\n",
    "             (q[1] ** 2 + q[3] ** 2), 2 * (q[2] * q[3] + q[0] * q[1])],\n",
    "            [2 * (q[1] * q[3] + q[0] * q[2]), 2 * (q[2] * q[3] -\n",
    "                                                   q[0] * q[1]), 1 - 2 * (q[1] ** 2 + q[2] ** 2)]\n",
    "        ])\n",
    "\n",
    "def omega(w):\n",
    "        return np.matrix([\n",
    "            [0, -w[0], -w[1], -w[2]],\n",
    "            [w[0], 0, w[2], -w[1]],\n",
    "            [w[1], -w[2], 0, w[0]],\n",
    "            [w[2], w[1], -w[0], 0],\n",
    "        ])\n",
    "\n",
    "def skew(v):\n",
    "    return np.matrix([\n",
    "            [0, -v[2], v[1]],\n",
    "            [v[2], 0, -v[0]],\n",
    "            [-v[1], v[0], 0]\n",
    "        ])"
   ]
  },
  {
   "cell_type": "code",
   "execution_count": null,
   "id": "monthly-edgar",
   "metadata": {},
   "outputs": [],
   "source": [
    "from sympy.matrices import Matrix, eye, zeros, ones, diag, GramSchmidt\n",
    "from sympy import simplify, cos, sin\n",
    "f = zeros(14, 1)\n",
    "\n",
    "x = Matrix(symbols(\n",
    "    'm rx ry rz vx vy vz q0 q1 q2 q3 wx wy wz', real=True))\n",
    "u = Matrix(symbols('ux uy uz', real=True))\n",
    "\n",
    "g_I = g*Matrix(np.array([0,0,-1]))\n",
    "r_T_B = r_t*Matrix(np.array([0,0,-1]))\n",
    "J_B = J*Matrix(np.eye(3))\n",
    "\n",
    "C_B_I = dir_cosine(x[7:11, 0])\n",
    "C_I_B = C_B_I.transpose()\n",
    "\n",
    "f[0, 0] = - alpha_m * u.norm()\n",
    "f[1:4, 0] = x[4:7, 0]\n",
    "f[4:7, 0] = 1 / x[0, 0] * C_I_B * u + g_I\n",
    "f[7:11, 0] = 1 / 2 * omega(x[11:14, 0]) * x[7: 11, 0]\n",
    "f[11:14, 0] = J_B ** -1 * \\\n",
    "    (skew(r_T_B) * u - skew(x[11:14, 0]) * J_B * x[11:14, 0])"
   ]
  },
  {
   "cell_type": "code",
   "execution_count": null,
   "id": "cultural-ground",
   "metadata": {},
   "outputs": [],
   "source": [
    "display(simplify(f)) # f\n",
    "for i in range(ix) :\n",
    "    if f[i] == 0 :\n",
    "        continue\n",
    "    print(\"f[:,{:}] = {}\".format(i,f[i]))"
   ]
  },
  {
   "cell_type": "code",
   "execution_count": null,
   "id": "adjusted-berkeley",
   "metadata": {
    "scrolled": false
   },
   "outputs": [],
   "source": [
    "fx = f.jacobian(x)\n",
    "display(simplify(fx))# A\n",
    "ix = 14\n",
    "iu = 14\n",
    "for i in range(ix) :\n",
    "    for j in range(ix) :\n",
    "        if fx[i,j] == 0 :\n",
    "            continue\n",
    "        print(\"fx[:,{:},{:}] = {}\".format(i,j,fx[i,j]))"
   ]
  },
  {
   "cell_type": "code",
   "execution_count": null,
   "id": "romance-intro",
   "metadata": {},
   "outputs": [],
   "source": [
    "fu = f.jacobian(u)\n",
    "display(simplify(fu))# A\n",
    "ix = 14\n",
    "iu = 3\n",
    "for i in range(ix) :\n",
    "    for j in range(iu) :\n",
    "        if fu[i,j] == 0 :\n",
    "            continue\n",
    "        print(\"fu[:,{:},{:}] = {}\".format(i,j,fu[i,j]))"
   ]
  },
  {
   "cell_type": "code",
   "execution_count": null,
   "id": "specific-anderson",
   "metadata": {},
   "outputs": [],
   "source": []
  }
 ],
 "metadata": {
  "kernelspec": {
   "display_name": "Python 3",
   "language": "python",
   "name": "python3"
  },
  "language_info": {
   "codemirror_mode": {
    "name": "ipython",
    "version": 3
   },
   "file_extension": ".py",
   "mimetype": "text/x-python",
   "name": "python",
   "nbconvert_exporter": "python",
   "pygments_lexer": "ipython3",
   "version": "3.8.5"
  }
 },
 "nbformat": 4,
 "nbformat_minor": 5
}
