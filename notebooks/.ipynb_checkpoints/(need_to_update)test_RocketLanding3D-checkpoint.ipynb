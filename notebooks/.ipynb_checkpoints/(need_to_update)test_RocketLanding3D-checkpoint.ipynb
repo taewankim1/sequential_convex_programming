{
 "cells": [
  {
   "cell_type": "code",
   "execution_count": null,
   "metadata": {},
   "outputs": [],
   "source": [
    "import matplotlib.pyplot as plt\n",
    "%matplotlib inline\n",
    "# %matplotlib qt\n",
    "%load_ext autoreload\n",
    "%autoreload 2\n",
    "import numpy as np\n",
    "import time\n",
    "import random\n",
    "def print_np(x):\n",
    "    print (\"Type is %s\" % (type(x)))\n",
    "    print (\"Shape is %s\" % (x.shape,))\n",
    "#     print (\"Values are: \\n%s\" % (x))"
   ]
  },
  {
   "cell_type": "code",
   "execution_count": null,
   "metadata": {},
   "outputs": [],
   "source": [
    "import sys\n",
    "# sys.path.append('../')\n",
    "sys.path.append('../')\n",
    "sys.path.append('../model')\n",
    "sys.path.append('../cost')\n",
    "sys.path.append('../constraints')\n",
    "sys.path.append('../utils')\n",
    "import Landing3DModel\n",
    "import Landing3DCost\n",
    "import Landing3DConstraints\n",
    "from scipy.integrate import solve_ivp\n",
    "from Scvx import Scvx"
   ]
  },
  {
   "cell_type": "code",
   "execution_count": null,
   "metadata": {},
   "outputs": [],
   "source": [
    "def euler_to_quaternion(attitude):\n",
    "    roll, pitch, yaw = attitude[0],attitude[1],attitude[2]\n",
    "    qx = np.sin(roll/2) * np.cos(pitch/2) * np.cos(yaw/2) - np.cos(roll/2) * np.sin(pitch/2) * np.sin(yaw/2)\n",
    "    qy = np.cos(roll/2) * np.sin(pitch/2) * np.cos(yaw/2) + np.sin(roll/2) * np.cos(pitch/2) * np.sin(yaw/2)\n",
    "    qz = np.cos(roll/2) * np.cos(pitch/2) * np.sin(yaw/2) - np.sin(roll/2) * np.sin(pitch/2) * np.cos(yaw/2)\n",
    "    qw = np.cos(roll/2) * np.cos(pitch/2) * np.cos(yaw/2) + np.sin(roll/2) * np.sin(pitch/2) * np.sin(yaw/2)\n",
    "    return [qw, qx, qy, qz]\n",
    "\n",
    "def quaternion_to_euler(w, x, y, z):\n",
    "\n",
    "    t0 = +2.0 * (w * x + y * z)\n",
    "    t1 = +1.0 - 2.0 * (x * x + y * y)\n",
    "    roll_x = np.arctan2(t0, t1)\n",
    "\n",
    "    t2 = +2.0 * (w * y - z * x)\n",
    "    t2 = +1.0 if t2 > +1.0 else t2\n",
    "    t2 = -1.0 if t2 < -1.0 else t2\n",
    "    pitch_y = np.arcsin(t2)\n",
    "\n",
    "    t3 = +2.0 * (w * z + x * y)\n",
    "    t4 = +1.0 - 2.0 * (y * y + z * z)\n",
    "    yaw_z = np.arctan2(t3, t4)\n",
    "\n",
    "    return roll_x, pitch_y, yaw_z"
   ]
  },
  {
   "cell_type": "code",
   "execution_count": null,
   "metadata": {},
   "outputs": [],
   "source": [
    "ix = 14\n",
    "iu = 3\n",
    "ih = 7\n",
    "tf = 5\n",
    "N = 30\n",
    "delT = tf/N\n",
    "max_iter = 15"
   ]
  },
  {
   "cell_type": "code",
   "execution_count": null,
   "metadata": {},
   "outputs": [],
   "source": [
    "ei = np.array([np.deg2rad(15),np.deg2rad(0),0])\n",
    "qi = euler_to_quaternion(ei)\n",
    "xi = np.array([2,    3,0,3,     0.0,0.0,-1,         qi[0],qi[1],qi[2],qi[3],   0,0,0])\n",
    "xf = np.array([1,    0,0,0,     0.0,0.0,-0.1,       1,0,0,0,                   0,0,0])\n",
    "\n",
    "myModel = Landing3DModel.Landing3D('Hello',ix,iu,delT,linearization=\"analytic\")\n",
    "myCost = Landing3DCost.Landing3D('Hello',ix,iu,N)\n",
    "myConst = Landing3DConstraints.Landing3D('Hello',ix,iu)\n",
    "\n",
    "x0 = np.zeros((N+1,ix))\n",
    "for i in range(N+1) :\n",
    "    x0[i,0:7] = (N-i)/N * xi[0:7] + i/N * xf[0:7]\n",
    "    x0[i,7:11] = euler_to_quaternion( (N-i)/N * ei + i/N * np.zeros(3))\n",
    "    x0[i,11:] = (N-i)/N * xi[11:] + i/N * xf[11:]\n",
    "\n",
    "u0 = np.zeros((N+1,iu))\n",
    "u0[:,2] = x0[:,0] * 1"
   ]
  },
  {
   "cell_type": "code",
   "execution_count": null,
   "metadata": {
    "scrolled": false
   },
   "outputs": [],
   "source": [
    "i1 = Scvx('unicycle',N,max_iter,myModel,myCost,myConst,\n",
    "          type_discretization='zoh',w_c=1,w_vc=1e4,w_tr=1e1,tol_vc=1e-4,flag_policyopt=False)\n",
    "x,u,xbar,ubar,total_num_iter,flag_boundary,l,l_vc,l_tr = i1.run(x0,u0,xi,xf)"
   ]
  },
  {
   "cell_type": "code",
   "execution_count": null,
   "metadata": {},
   "outputs": [],
   "source": [
    "# xbar,ubar = x,u"
   ]
  },
  {
   "cell_type": "code",
   "execution_count": null,
   "metadata": {},
   "outputs": [],
   "source": [
    "list_time = delT * np.array([i for i in range(N+1)])\n",
    "u_norm = np.linalg.norm(ubar,axis=1)\n",
    "x_norm_12 = np.linalg.norm(xbar[:,1:3],axis=1)\n",
    "glide_slope_angle = np.arctan(xbar[:,3]/x_norm_12)\n",
    "tilt_angle = np.arccos(1 - 2 * (xbar[:,8]**2+xbar[:,9]**2))\n",
    "gimbal_angle = np.arccos(ubar[:,2] / u_norm)"
   ]
  },
  {
   "cell_type": "code",
   "execution_count": null,
   "metadata": {},
   "outputs": [],
   "source": [
    "from utils_plot import plot_rocket3d\n",
    "%matplotlib qt\n",
    "# %matplotlib inline\n",
    "fig = plt.figure(1,figsize=(15,15))\n",
    "plot_rocket3d(fig,xbar,ubar,x)"
   ]
  },
  {
   "cell_type": "code",
   "execution_count": null,
   "metadata": {
    "scrolled": false
   },
   "outputs": [],
   "source": [
    "%matplotlib inline\n",
    "from utils_plot import make_rocket3d_trajectory_fig\n",
    "fig = plt.figure(1,figsize=(15,15))\n",
    "plot_rocket3d(fig,xbar,ubar,x)\n",
    "\n",
    "fS = 15\n",
    "plt.figure(figsize=(15,6))\n",
    "plt.subplot(311)\n",
    "plt.plot(list_time[:N],ubar[:N,0])\n",
    "plt.xlabel('time (s)',fontsize=fS)\n",
    "plt.ylim([-6,6])\n",
    "plt.title('T1',fontsize=fS)\n",
    "plt.subplot(312)\n",
    "plt.plot(list_time[:N],ubar[:N,1])\n",
    "plt.xlabel('time (s)',fontsize=fS)\n",
    "plt.ylim([-6,6])\n",
    "plt.title('T2',fontsize=fS)\n",
    "plt.subplot(313)\n",
    "plt.plot(list_time[:N],ubar[:N,2])\n",
    "plt.xlabel('time (s)',fontsize=fS)\n",
    "plt.ylim([-6,6])\n",
    "plt.title('T3',fontsize=fS)\n",
    "\n",
    "plt.figure(figsize=(15,3))\n",
    "plt.plot(list_time[:N],u_norm[:N])\n",
    "plt.plot(list_time[:N],list_time[:N]*0+myConst.T_max,'--',color='tab:orange')\n",
    "plt.plot(list_time[:N],list_time[:N]*0+myConst.T_min,'--',color='tab:orange')\n",
    "plt.xlabel('time (s)',fontsize=fS)\n",
    "plt.ylim([-1+myConst.T_min,myConst.T_max+1])\n",
    "plt.title('u_norm',fontsize=fS)\n",
    "\n",
    "plt.figure(figsize=(15,3))\n",
    "plt.plot(list_time[:N],np.rad2deg(gimbal_angle[:N]))\n",
    "plt.plot(list_time[:N],list_time[:N]*0+np.rad2deg(myConst.delta_max),'--',color='tab:orange')\n",
    "plt.xlabel('time (s)',fontsize=fS)\n",
    "plt.title('gimbal angle',fontsize=fS)\n",
    "plt.ylim([0,np.rad2deg(myConst.delta_max)+10])\n",
    "\n",
    "plt.figure(figsize=(15,3))\n",
    "plt.plot(list_time,xbar[:,0])\n",
    "plt.plot(list_time,list_time*0+2,'--',color='tab:orange')\n",
    "plt.plot(list_time,list_time*0+myConst.m_dry,'--',color='tab:orange')\n",
    "plt.xlabel('time (s)',fontsize=fS)\n",
    "plt.title('mass',fontsize=fS)\n",
    "plt.ylim([-0.5+myConst.m_dry,2+0.5])\n",
    "\n",
    "plt.figure(figsize=(15,3))\n",
    "plt.plot(list_time,np.rad2deg(tilt_angle))\n",
    "plt.plot(list_time,list_time*0+np.rad2deg(myConst.theta_max),'--',color='tab:orange')\n",
    "plt.xlabel('time (s)',fontsize=fS)\n",
    "plt.title('tilt angle',fontsize=fS)\n",
    "plt.ylim([0,np.rad2deg(myConst.theta_max)+10])\n",
    "\n",
    "plt.figure(figsize=(15,3))\n",
    "plt.plot(list_time,np.rad2deg(glide_slope_angle))\n",
    "plt.plot(list_time,list_time*0+np.rad2deg(myConst.gamma_gs),'--',color='tab:orange')\n",
    "plt.xlabel('time (s)',fontsize=fS)\n",
    "plt.title('glide slope angle',fontsize=fS)\n",
    "plt.ylim([0,100])\n"
   ]
  },
  {
   "cell_type": "code",
   "execution_count": null,
   "metadata": {},
   "outputs": [],
   "source": [
    "# make_rocket3d_trajectory_fig(x,u,'Landing3D')"
   ]
  },
  {
   "cell_type": "code",
   "execution_count": null,
   "metadata": {},
   "outputs": [],
   "source": []
  }
 ],
 "metadata": {
  "kernelspec": {
   "display_name": "Python 3",
   "language": "python",
   "name": "python3"
  },
  "language_info": {
   "codemirror_mode": {
    "name": "ipython",
    "version": 3
   },
   "file_extension": ".py",
   "mimetype": "text/x-python",
   "name": "python",
   "nbconvert_exporter": "python",
   "pygments_lexer": "ipython3",
   "version": "3.8.13"
  }
 },
 "nbformat": 4,
 "nbformat_minor": 5
}
