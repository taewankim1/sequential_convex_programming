{
 "cells": [
  {
   "cell_type": "code",
   "execution_count": 1,
   "id": "specialized-kentucky",
   "metadata": {},
   "outputs": [],
   "source": [
    "import matplotlib.pyplot as plt\n",
    "%matplotlib inline\n",
    "# %matplotlib qt\n",
    "%load_ext autoreload\n",
    "%autoreload 2\n",
    "import numpy as np\n",
    "import time\n",
    "import random\n",
    "def print_np(x):\n",
    "    print (\"Type is %s\" % (type(x)))\n",
    "    print (\"Shape is %s\" % (x.shape,))\n",
    "#     print (\"Values are: \\n%s\" % (x))"
   ]
  },
  {
   "cell_type": "code",
   "execution_count": 2,
   "id": "divided-premium",
   "metadata": {},
   "outputs": [],
   "source": [
    "import sys\n",
    "# sys.path.append('../')\n",
    "sys.path.append('../')\n",
    "sys.path.append('../model')\n",
    "sys.path.append('../cost')\n",
    "sys.path.append('../constraints')\n",
    "sys.path.append('../utils')\n",
    "import Aircraft3dofModel\n",
    "import Aircraft3dofCost\n",
    "import Aircraft3dofConstraints\n",
    "from scipy.integrate import solve_ivp\n",
    "from Scvx import Scvx\n",
    "from Scaling import TrajectoryScaling"
   ]
  },
  {
   "cell_type": "code",
   "execution_count": 28,
   "id": "german-ferry",
   "metadata": {},
   "outputs": [],
   "source": [
    "ix = 6\n",
    "iu = 3\n",
    "tf = 800\n",
    "N = 200\n",
    "delT = tf/N\n",
    "max_iter = 1"
   ]
  },
  {
   "cell_type": "code",
   "execution_count": 29,
   "id": "inside-vector",
   "metadata": {},
   "outputs": [],
   "source": [
    "myModel = Aircraft3dofModel.Aircraft3dof('Hello',ix,iu,linearization=\"numeric_central\")\n",
    "myCost = Aircraft3dofCost.Aircraft3dof('Hello',ix,iu,N)\n",
    "myConst = Aircraft3dofConstraints.Aircraft3dof('Hello',ix,iu)\n",
    "\n",
    "x_min = np.zeros(ix)\n",
    "x_max = np.array([120*1e3,40*1e3,5000,270,np.deg2rad(20),np.pi])\n",
    "u_min = np.array([0,0,0])\n",
    "u_max = np.array([1,np.deg2rad(30),1126.3 * 1e3])\n",
    "\n",
    "myScaling = TrajectoryScaling(x_min,x_max,u_min,u_max)"
   ]
  },
  {
   "cell_type": "code",
   "execution_count": 30,
   "id": "empirical-replica",
   "metadata": {},
   "outputs": [],
   "source": [
    "xi = np.array([-120*1e3,40*1e3,5000,240,0,0])\n",
    "xf = np.array([0,0,0,95,0,0])\n",
    "\n",
    "x0 = np.zeros((N+1,ix))\n",
    "for i in range(N+1) :\n",
    "    x0[i] = (N-i)/N * xi + i/N * xf\n",
    "\n",
    "u0 = np.zeros((N+1,iu))\n",
    "u0[:,0] = 0.5 # setting not as zero is pretty critical\n",
    "u0[:,2] = 0.0"
   ]
  },
  {
   "cell_type": "code",
   "execution_count": 31,
   "id": "better-dating",
   "metadata": {
    "scrolled": true
   },
   "outputs": [
    {
     "name": "stdout",
     "output_type": "stream",
     "text": [
      "prop_n - prop -4.096585153983681e-05\n",
      "iteration   total_cost        cost        ||vc||     ||tr||       reduction   expected    w_tr        bounary\n",
      "1           1079.930          6.377       7.92e-10    10.7        -6.38e+06   -1.08e+03   100.000000  0(1.72e+04)\n",
      "NOT ENOUGH : reached to max iteration\n"
     ]
    }
   ],
   "source": [
    "i1 = Scvx('unicycle',N,tf,max_iter,myModel,myCost,myConst,myScaling,\n",
    "          type_discretization='foh',w_c=1e-6,w_vc=1e3,w_tr=1e2,tol_vc=1e-6,tol_tr=1e-4,tol_bc=1,flag_policyopt=False)\n",
    "x,u,xbar,ubar,total_num_iter,flag_boundary,l,l_vc,l_tr = i1.run(x0,u0,xi,xf)"
   ]
  },
  {
   "cell_type": "code",
   "execution_count": 40,
   "id": "expressed-citizenship",
   "metadata": {},
   "outputs": [],
   "source": [
    "tf_tmp = 200\n",
    "A,Bm,Bp,s,z,x_prop_n = myModel.diff_discrete_foh(x[0:N,:],u,tf_tmp/N,tf_tmp)\n",
    "output1 = [A,Bm,Bp,s,z,x_prop_n]\n",
    "A_,Bm_,Bp_,s_,z_,x_prop_n_ = myModel.diff_discrete_foh_test(x[0:N,:],u,1/N,tf_tmp)\n",
    "output2 = [A_,Bm_,Bp_,s_,z_,x_prop_n_]"
   ]
  },
  {
   "cell_type": "code",
   "execution_count": 41,
   "id": "swiss-domain",
   "metadata": {},
   "outputs": [
    {
     "name": "stdout",
     "output_type": "stream",
     "text": [
      "3.4006064344490155e-06\n",
      "1.8281725015511574e-07\n",
      "8.93575821745483e-08\n",
      "3.971258566672757e-10\n",
      "9.749294575150987e-05\n",
      "2.9417824608593546e-09\n"
     ]
    }
   ],
   "source": [
    "for x1,x2 in zip(output1,output2) :\n",
    "    print(np.sum(np.abs(x1-x2)))"
   ]
  },
  {
   "cell_type": "code",
   "execution_count": null,
   "id": "spanish-branch",
   "metadata": {},
   "outputs": [],
   "source": []
  },
  {
   "cell_type": "code",
   "execution_count": null,
   "id": "declared-kelly",
   "metadata": {},
   "outputs": [],
   "source": []
  },
  {
   "cell_type": "code",
   "execution_count": null,
   "id": "connected-kelly",
   "metadata": {},
   "outputs": [],
   "source": []
  },
  {
   "cell_type": "code",
   "execution_count": null,
   "id": "fantastic-leader",
   "metadata": {},
   "outputs": [],
   "source": []
  },
  {
   "cell_type": "code",
   "execution_count": null,
   "id": "mental-mitchell",
   "metadata": {},
   "outputs": [],
   "source": [
    "fig = plt.figure(1,figsize=(15,7))\n",
    "ax = fig.add_subplot(111, projection='3d')\n",
    "\n",
    "ax.set_xlabel('X')\n",
    "ax.set_ylabel('Y')\n",
    "ax.set_zlabel('Z')\n",
    "\n",
    "ax.plot(x[:, 0], x[:, 1], x[:, 2],label='single shooting')\n",
    "ax.plot(xbar[:, 0], xbar[:, 1], xbar[:, 2],label='solution')\n",
    "plt.legend()\n",
    "fig = plt.figure(2,figsize=(15,7))\n",
    "ax = fig.add_subplot(121)\n",
    "ax.plot(x[:, 0], x[:, 1],label='single shooting')\n",
    "ax.plot(xbar[:, 0], xbar[:, 1],label='solution')\n",
    "ax.set_xlabel('X')\n",
    "ax.set_ylabel('Y')\n",
    "plt.legend()\n",
    "ax = fig.add_subplot(122)\n",
    "ax.plot(x[:, 1], x[:, 2],label='single shooting')\n",
    "ax.plot(xbar[:, 1], xbar[:, 2],label='solution')\n",
    "ax.set_xlabel('Y')\n",
    "\n",
    "\n",
    "ax.set_ylabel('Z')\n",
    "plt.legend()\n",
    "# ax.plot(xbar[:, 0], xbar[:, 1], xbar[:, 2],'o')"
   ]
  },
  {
   "cell_type": "code",
   "execution_count": null,
   "id": "sunset-belfast",
   "metadata": {},
   "outputs": [],
   "source": [
    "plt.figure(figsize=(15,9))\n",
    "plt.subplot(231)\n",
    "plt.plot(xbar[:,3])\n",
    "plt.title('velocity')\n",
    "\n",
    "plt.subplot(232)\n",
    "plt.plot(xbar[:,4])\n",
    "plt.title('gamma')\n",
    "\n",
    "plt.subplot(233)\n",
    "plt.plot(xbar[:,5])\n",
    "plt.title('psi')\n",
    "\n",
    "plt.subplot(234)\n",
    "plt.plot(ubar[:,0])\n",
    "plt.title('CL')\n",
    "\n",
    "plt.subplot(235)\n",
    "plt.plot(ubar[:,1])\n",
    "plt.title('phi')\n",
    "\n",
    "plt.subplot(236)\n",
    "plt.plot(ubar[:,2])\n",
    "plt.title('thrust')"
   ]
  },
  {
   "cell_type": "code",
   "execution_count": null,
   "id": "useful-desert",
   "metadata": {},
   "outputs": [],
   "source": [
    "\n"
   ]
  }
 ],
 "metadata": {
  "kernelspec": {
   "display_name": "Python 3 (ipykernel)",
   "language": "python",
   "name": "python3"
  },
  "language_info": {
   "codemirror_mode": {
    "name": "ipython",
    "version": 3
   },
   "file_extension": ".py",
   "mimetype": "text/x-python",
   "name": "python",
   "nbconvert_exporter": "python",
   "pygments_lexer": "ipython3",
   "version": "3.10.0"
  }
 },
 "nbformat": 4,
 "nbformat_minor": 5
}
