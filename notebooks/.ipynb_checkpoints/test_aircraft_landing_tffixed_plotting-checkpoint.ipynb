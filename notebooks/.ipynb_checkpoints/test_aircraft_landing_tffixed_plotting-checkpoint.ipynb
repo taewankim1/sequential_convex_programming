{
 "cells": [
  {
   "cell_type": "code",
   "execution_count": null,
   "id": "specialized-kentucky",
   "metadata": {},
   "outputs": [],
   "source": [
    "import matplotlib.pyplot as plt\n",
    "%matplotlib inline\n",
    "# %matplotlib qt\n",
    "%load_ext autoreload\n",
    "%autoreload 2\n",
    "import numpy as np\n",
    "import time\n",
    "import random\n",
    "def print_np(x):\n",
    "    print (\"Type is %s\" % (type(x)))\n",
    "    print (\"Shape is %s\" % (x.shape,))\n",
    "#     print (\"Values are: \\n%s\" % (x))"
   ]
  },
  {
   "cell_type": "code",
   "execution_count": null,
   "id": "divided-premium",
   "metadata": {
    "scrolled": false
   },
   "outputs": [],
   "source": [
    "import sys\n",
    "# sys.path.append('../')\n",
    "sys.path.append('../')\n",
    "sys.path.append('../model')\n",
    "sys.path.append('../cost')\n",
    "sys.path.append('../constraints')\n",
    "sys.path.append('../utils')\n",
    "import Aircraft3dofApproxModel\n",
    "import Aircraft3dofModel\n",
    "import FinaltimeFreeCost\n",
    "import Aircraft3dofConstraints\n",
    "from scipy.integrate import solve_ivp\n",
    "from Scvx_tf_free import Scvx_tf_free\n",
    "from Scaling import TrajectoryScaling"
   ]
  },
  {
   "cell_type": "code",
   "execution_count": null,
   "id": "german-ferry",
   "metadata": {},
   "outputs": [],
   "source": [
    "ix = 6\n",
    "iu = 3\n",
    "tf = 800\n",
    "N = 100\n",
    "delT = tf/N\n",
    "max_iter = 40\n"
   ]
  },
  {
   "cell_type": "code",
   "execution_count": null,
   "id": "inside-vector",
   "metadata": {},
   "outputs": [],
   "source": [
    "# myModelApprox = Aircraft3dofApproxModel.Aircraft3dofApproxModel('Hello',ix,iu,linearization=\"numeric_central\")\n",
    "myModelApprox = Aircraft3dofModel.Aircraft3dofContDensity('Hello',ix,iu,linearization=\"numeric_central\")\n",
    "myModel = Aircraft3dofModel.Aircraft3dof('Hello',ix,iu,linearization=\"analytic\")\n",
    "myCost = FinaltimeFreeCost.Finaltime('Hello',ix,iu,N)\n",
    "myConst = Aircraft3dofConstraints.Aircraft3dof('Hello',ix,iu)\n",
    "\n",
    "\n",
    "x_max = np.array([110*1e3,60*1e3,10*1e3,240,np.deg2rad(20),np.pi/2])\n",
    "x_min = np.zeros(ix)\n",
    "# x_min = -x_max\n",
    "u_max = np.array([1.52,np.deg2rad(15),1]) \n",
    "u_min = np.array([0,0,0])\n",
    "# u_min = -u_max\n",
    "\n",
    "myScaling = TrajectoryScaling(x_min,x_max,u_min,u_max,tf)\n",
    "Sx,iSx,sx,Su,iSu,su = myScaling.get_scaling()"
   ]
  },
  {
   "cell_type": "code",
   "execution_count": null,
   "id": "empirical-replica",
   "metadata": {},
   "outputs": [],
   "source": [
    "xi = np.array([190*1e3,0*1e3,10*1e3,240,0,-np.pi])\n",
    "xf = np.array([110*1e3,-60*1e3,0,95,-np.deg2rad(3),np.deg2rad(0)])\n",
    "\n",
    "# xi = np.array([0*1e3,0*1e3,10*1e3,200,0,0])\n",
    "# xf = np.array([130*1e3,-65*1e3,0,110,-np.deg2rad(3),np.deg2rad(80)])\n",
    "\n",
    "x0 = np.zeros((N+1,ix))\n",
    "for i in range(N+1) :\n",
    "    x0[i] = (N-i)/N * xi + i/N * xf\n",
    "\n",
    "u0 = np.zeros((N+1,iu))\n",
    "ui = np.array([0.0,np.deg2rad(0),0])\n",
    "uf = np.array([0.0,-np.deg2rad(0),0])\n",
    "\n",
    "for i in range(N+1) :\n",
    "    u0[i] = (N-i)/N * ui + i/N * uf\n",
    "    \n",
    "# idx_c = int(26 * N / 50)\n",
    "# for i in range(0,idx_c+1) :\n",
    "#     u0[i,0] = (idx_c-i)/idx_c * 0.3 + i/idx_c * 0.15\n",
    "# for i in range(idx_c+1,N+1) :\n",
    "#     u0[i,0] = 1/2800* (i-idx_c-1)**2 + 0.15\n",
    "    \n",
    "# u0[0:10,1] = myConst.phi_max\n",
    "# u0[-10:,1] = myConst.phi_min\n",
    "    \n",
    "    \n",
    "# u0[0:2,2] = myConst.T_max\n",
    "\n",
    "# for i in range(2,40) :\n",
    "#     u0[i,2] = myConst.T_max*0.4/38 * (i-2)"
   ]
  },
  {
   "cell_type": "code",
   "execution_count": null,
   "id": "better-dating",
   "metadata": {
    "scrolled": false
   },
   "outputs": [],
   "source": [
    "# w_c=30,w_vc=1e3*5,w_tr=1e1\n",
    "i1 = Scvx_tf_free('aircraft',N,tf,max_iter,myModelApprox,myCost,myConst,myScaling,\n",
    "          type_discretization='foh',w_c=10,w_vc=1e4,w_tr=1e2,tol_vc=1e-6,tol_tr=1e-3,tol_bc=1,flag_policyopt=False)\n",
    "x,u,xbar,ubar,tfbar,total_num_iter,flag_boundary,l,l_vc,l_tr,x_traj,u_traj,T_traj = i1.run(x0,u0,xi,xf)"
   ]
  },
  {
   "cell_type": "code",
   "execution_count": null,
   "id": "0d444f78",
   "metadata": {},
   "outputs": [],
   "source": [
    "# np.save(\"/Users/keemtw/Documents/Code/Data/Airplane_landing/Presentation_data/0222/x_03\", xbar)\n",
    "# np.save(\"/Users/keemtw/Documents/Code/Data/Airplane_landing/Presentation_data/0222/u_03\", ubar)\n",
    "# np.save(\"/Users/keemtw/Documents/Code/Data/Airplane_landing/Presentation_data/0222/tf_03\", tfbar)"
   ]
  },
  {
   "cell_type": "code",
   "execution_count": null,
   "id": "88053930",
   "metadata": {},
   "outputs": [],
   "source": [
    "xbar = np.load(\"/Users/keemtw/Documents/Code/Data/Airplane_landing/Presentation_data/0222/x_03.npy\")\n",
    "ubar = np.load(\"/Users/keemtw/Documents/Code/Data/Airplane_landing/Presentation_data/0222/u_03.npy\")\n",
    "tfbar = np.load(\"/Users/keemtw/Documents/Code/Data/Airplane_landing/Presentation_data/0222/tf_03.npy\")"
   ]
  },
  {
   "cell_type": "code",
   "execution_count": null,
   "id": "268e3bcc",
   "metadata": {},
   "outputs": [],
   "source": [
    "print(tfbar)"
   ]
  },
  {
   "cell_type": "code",
   "execution_count": null,
   "id": "sunset-belfast",
   "metadata": {},
   "outputs": [],
   "source": [
    "t_index = np.array([i for i in range(N+1)]) / N * tfbar\n",
    "plt.figure(figsize=(15,15))\n",
    "plt.subplot(331)\n",
    "plt.plot(t_index,xbar[:,0],label='solution')\n",
    "plt.title('x (m)',fontsize=15)\n",
    "\n",
    "plt.subplot(332)\n",
    "plt.plot(t_index,xbar[:,1])\n",
    "plt.title('y (m)',fontsize=15)\n",
    "\n",
    "plt.subplot(333)\n",
    "plt.plot(t_index,xbar[:,2])\n",
    "plt.title('z (m)',fontsize=15)\n",
    "\n",
    "\n",
    "plt.subplot(334)\n",
    "plt.plot(t_index,xbar[:,3])\n",
    "plt.plot(t_index,ubar[:,2]*0 + myConst.v_max,'--',color='tab:red')\n",
    "# plt.plot(t_index,ubar[:,2]*0 + myConst.v_min,'--',color='tab:red')\n",
    "plt.title('velocity (m/s)',fontsize=15)\n",
    "\n",
    "plt.subplot(335)\n",
    "plt.plot(t_index,xbar[:,4])\n",
    "plt.plot(t_index,ubar[:,2]*0 + myConst.gamma_max,'--',color='tab:red')\n",
    "plt.plot(t_index,ubar[:,2]*0 + myConst.gamma_min,'--',color='tab:red')\n",
    "plt.title('gamma, flight path angle (rad)',fontsize=15)\n",
    "\n",
    "plt.subplot(336)\n",
    "plt.plot(t_index,xbar[:,5])\n",
    "plt.title('psi, heading angle (rad)',fontsize=15)\n",
    "\n",
    "plt.subplot(337)\n",
    "plt.plot(t_index,ubar[:,0])\n",
    "# plt.plot(t_index,ubar[:,2]*0 + myConst.CL_max,'--',color='tab:red')\n",
    "# plt.plot(t_index,ubar[:,2]*0 + myConst.CL_min,'--',color='tab:red')\n",
    "plt.title('CL',fontsize=15)\n",
    "plt.xlabel('time (s)',fontsize=15)\n",
    "plt.subplot(338)\n",
    "plt.plot(t_index,ubar[:,1])\n",
    "plt.plot(t_index,ubar[:,2]*0 + myConst.phi_max,'--',color='tab:red')\n",
    "plt.plot(t_index,ubar[:,2]*0 + myConst.phi_min,'--',color='tab:red')\n",
    "plt.title('phi, bank angle (rad)',fontsize=15)\n",
    "plt.xlabel('time (s)',fontsize=15)\n",
    "plt.subplot(339)\n",
    "plt.plot(t_index,ubar[:,2])\n",
    "plt.plot(t_index,ubar[:,2]*0 + myConst.T_max,'--',color='tab:red')\n",
    "plt.plot(t_index,ubar[:,2]*0 + myConst.T_min,'--',color='tab:red')\n",
    "plt.title('throttle (%)',fontsize=15)\n",
    "plt.xlabel('time (s)',fontsize=15)"
   ]
  },
  {
   "cell_type": "code",
   "execution_count": null,
   "id": "18c122f7",
   "metadata": {
    "scrolled": false
   },
   "outputs": [],
   "source": [
    "fig = plt.figure(1,figsize=(15,15))\n",
    "ax = fig.add_subplot(111, projection='3d')\n",
    "\n",
    "ax.set_xlabel('X (m)',fontsize=15)\n",
    "ax.set_ylabel('Y (m)',fontsize=15)\n",
    "ax.set_zlabel('Z (m)',fontsize=15)\n",
    "\n",
    "ax.plot(xbar[:, 0], xbar[:, 1], xbar[:, 2],'-')\n",
    "for x in xbar :\n",
    "    ax.plot([x[0],x[0]], [x[1],x[1]], [0,x[2]],'-',alpha=0.4,color='tab:blue')\n",
    "ax.set_box_aspect(aspect = (1,1,0.5))\n",
    "ax.view_init(10, -60)\n"
   ]
  },
  {
   "cell_type": "code",
   "execution_count": null,
   "id": "6f395f67",
   "metadata": {},
   "outputs": [],
   "source": [
    "# filenames = []\n",
    "# for idx in range(N+1) :\n",
    "#     rx,ry,rz = xbar[idx,0],xbar[idx,1],xbar[idx,2]\n",
    "#     phi,gamma,psi = ubar[idx,1],-xbar[idx,4],xbar[idx,5]\n",
    "#     C1 = np.array([[1,0,0],[0,np.cos(phi),np.sin(phi)],[0,-np.sin(phi),np.cos(phi)]])\n",
    "#     C2 = np.array([[np.cos(gamma),0,-np.sin(gamma)],[0,1,0],[np.sin(gamma),0,np.cos(gamma)]])\n",
    "#     C3 = np.array([[np.cos(psi),np.sin(psi),0],[-np.sin(psi),np.cos(psi),0],[0,0,1]])\n",
    "\n",
    "#     CIB = C1@C2@C3\n",
    "#     length = 5000\n",
    "\n",
    "#     d = []\n",
    "#     d.append(np.dot(np.transpose(CIB), np.array([length, 0, 0])))\n",
    "#     d.append(np.dot(np.transpose(CIB), np.array([0, length, 0])))\n",
    "#     d.append(np.dot(np.transpose(CIB), np.array([0, -length, 0])))\n",
    "#     d.append(np.dot(np.transpose(CIB), np.array([-length, 0, 0])))\n",
    "\n",
    "#     fig = plt.figure(1,figsize=(15,15))\n",
    "#     ax = fig.add_subplot(111, projection='3d')\n",
    "    \n",
    "\n",
    "#     ax.set_xlabel('X')\n",
    "#     ax.set_ylabel('Y')\n",
    "#     ax.set_zlabel('Z')\n",
    "\n",
    "#     ax.plot(xbar[:, 0], xbar[:, 1], xbar[:, 2],'-')\n",
    "#     for d1 in d[:4] :\n",
    "#         ax.quiver(rx,ry,rz,d1[0],d1[1],d1[2],arrow_length_ratio=0,color='tab:red')\n",
    "#     ax.plot(rx+d[0][0],ry+d[0][1],rz+d[0][2],'o',color='tab:green')\n",
    "\n",
    "\n",
    "#     ax.view_init(10, -80)\n",
    "#     ax.set_box_aspect(aspect = (1,1,0.2))\n",
    "#     if idx == 0 :\n",
    "#         x_scale = ax.get_xlim()\n",
    "#         y_scale = ax.get_ylim()\n",
    "#         z_scale = ax.get_zlim()\n",
    "#     ax.auto_scale_xyz(x_scale, y_scale, z_scale)\n",
    "#     ax.text(0,0,15000,\"simulation time : {:4.3f}\".format(t_index[idx]),fontsize=15)\n",
    "\n",
    "#     filename = '../images/{:d}.png'.format(idx)\n",
    "#     plt.savefig(filename)\n",
    "#     filenames.append(filename)\n",
    "#     plt.close()"
   ]
  },
  {
   "cell_type": "code",
   "execution_count": null,
   "id": "444f19e4",
   "metadata": {},
   "outputs": [],
   "source": [
    "# img_name = 'airplane_landing_0222_03'\n",
    "# with imageio.get_writer('../images/'+img_name+'.gif', mode='I') as writer:\n",
    "#         for filename in filenames:\n",
    "#             image = imageio.imread(filename)\n",
    "#             writer.append_data(image)\n",
    "# for filename in set(filenames):\n",
    "#     os.remove(filename)"
   ]
  },
  {
   "cell_type": "code",
   "execution_count": null,
   "id": "cacc6397",
   "metadata": {},
   "outputs": [],
   "source": [
    "import imageio\n",
    "import os"
   ]
  },
  {
   "cell_type": "code",
   "execution_count": null,
   "id": "47cb1ca2",
   "metadata": {},
   "outputs": [],
   "source": []
  },
  {
   "cell_type": "code",
   "execution_count": null,
   "id": "a7281f5b",
   "metadata": {},
   "outputs": [],
   "source": []
  }
 ],
 "metadata": {
  "kernelspec": {
   "display_name": "Python 3 (ipykernel)",
   "language": "python",
   "name": "python3"
  },
  "language_info": {
   "codemirror_mode": {
    "name": "ipython",
    "version": 3
   },
   "file_extension": ".py",
   "mimetype": "text/x-python",
   "name": "python",
   "nbconvert_exporter": "python",
   "pygments_lexer": "ipython3",
   "version": "3.8.12"
  }
 },
 "nbformat": 4,
 "nbformat_minor": 5
}
