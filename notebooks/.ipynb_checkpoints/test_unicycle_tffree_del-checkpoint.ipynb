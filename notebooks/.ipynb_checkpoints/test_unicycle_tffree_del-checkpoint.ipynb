{
 "cells": [
  {
   "cell_type": "code",
   "execution_count": null,
   "id": "studied-dayton",
   "metadata": {},
   "outputs": [],
   "source": [
    "import matplotlib.pyplot as plt\n",
    "%matplotlib inline  \n",
    "%load_ext autoreload\n",
    "%autoreload 2\n",
    "import numpy as np\n",
    "import time\n",
    "import random\n",
    "def print_np(x):\n",
    "    print (\"Type is %s\" % (type(x)))\n",
    "    print (\"Shape is %s\" % (x.shape,))\n",
    "#     print (\"Values are: \\n%s\" % (x))"
   ]
  },
  {
   "cell_type": "code",
   "execution_count": null,
   "id": "25582111",
   "metadata": {},
   "outputs": [],
   "source": [
    "import cvxpy\n",
    "print(cvxpy.installed_solvers())"
   ]
  },
  {
   "cell_type": "code",
   "execution_count": null,
   "id": "compatible-ending",
   "metadata": {},
   "outputs": [],
   "source": [
    "import sys\n",
    "# sys.path.append('../')\n",
    "sys.path.append('../')\n",
    "sys.path.append('../model')\n",
    "sys.path.append('../cost')\n",
    "sys.path.append('../constraints')\n",
    "import UnicycleModel\n",
    "import FinaltimeFreeCost\n",
    "import UnicycleConstraints\n",
    "from scipy.integrate import solve_ivp\n",
    "from SCP_buffer_deviation import SCP_buffer_deviation\n",
    "from Scaling import TrajectoryScaling"
   ]
  },
  {
   "cell_type": "code",
   "execution_count": null,
   "id": "instrumental-humanitarian",
   "metadata": {},
   "outputs": [],
   "source": [
    "ix = 3\n",
    "iu = 2\n",
    "ih = 2\n",
    "N = 50\n",
    "tf = 40\n",
    "delT = tf/N\n",
    "max_iter = 20"
   ]
  },
  {
   "cell_type": "code",
   "execution_count": null,
   "id": "08118838",
   "metadata": {},
   "outputs": [],
   "source": [
    "myModel = UnicycleModel.unicycle('Hello',ix,iu,'numeric_central')\n",
    "myCost = FinaltimeFreeCost.Finaltime('Hello',ix,iu,N)\n",
    "myConst = UnicycleConstraints.UnicycleConstraints('Hello',ix,iu)\n",
    "\n",
    "x_min = np.zeros(ix)\n",
    "x_max = np.array([2,2,np.pi])\n",
    "# x_max = np.ones(ix)\n",
    "u_min = np.zeros(iu)\n",
    "u_max = np.array([0.2,np.deg2rad(5)])\n",
    "# u_max = np.ones(iu)\n",
    "\n",
    "myScaling = TrajectoryScaling(x_min,x_max,u_min,u_max,tf)"
   ]
  },
  {
   "cell_type": "code",
   "execution_count": null,
   "id": "excited-physics",
   "metadata": {},
   "outputs": [],
   "source": [
    "xi = np.zeros(3)\n",
    "xi[0] = -2.0\n",
    "xi[1] = -2.0 \n",
    "xi[2] = 0\n",
    "\n",
    "xf = np.zeros(3)\n",
    "xf[0] = 2.0\n",
    "xf[1] = 2.0\n",
    "xf[2] = 0\n",
    "\n",
    "\n",
    "x0 = np.zeros((N+1,ix))\n",
    "for i in range(N+1) :\n",
    "    x0[i] = (N-i)/N * xi + i/N * xf\n",
    "u0 = np.ones((N+1,iu))*1e-3\n",
    "# u0 = np.zeros((N+1,iu))"
   ]
  },
  {
   "cell_type": "code",
   "execution_count": null,
   "id": "separated-token",
   "metadata": {
    "scrolled": false
   },
   "outputs": [],
   "source": [
    "i1 = SCP_buffer_deviation('unicycle',N,tf,max_iter,myModel,myCost,myConst,myScaling,\n",
    "          type_discretization=\"foh\",w_c=1e-1,w_bf=1e4,w_bf_b=1e4,w_tr=1e-2,tol_bf=1e-6,tol_tr=1e-5)\n",
    "x,u,xbar,ubar,Tbar,total_num_iter,flag_boundary,l,l_vc,l_tr,x_traj,u_traj  = i1.run(x0,u0,xi,xf)\n"
   ]
  },
  {
   "cell_type": "code",
   "execution_count": null,
   "id": "peaceful-liability",
   "metadata": {},
   "outputs": [],
   "source": [
    "t_index = [np.sum(Tbar[:i])  for i in range(N+1)]\n",
    "plt.figure(figsize=(10,10))\n",
    "fS = 18\n",
    "plt.subplot(221)\n",
    "plt.plot(x[:,0], x[:,1],'--', linewidth=2.0)\n",
    "plt.plot(xbar[:,0], xbar[:,1], linewidth=2.0)\n",
    "plt.plot(xf[0],xf[1],\"o\",label='goal')\n",
    "plt.gca().set_aspect('equal', adjustable='box')\n",
    "plt.axis([-3, 3, -3, 3])\n",
    "plt.xlabel('X (m)', fontsize = fS)\n",
    "plt.ylabel('Y (m)', fontsize = fS)\n",
    "plt.subplot(222)\n",
    "plt.plot(t_index, x[:,0],'o-', linewidth=2.0,label='naive')\n",
    "plt.xlabel('time (s)', fontsize = fS)\n",
    "plt.ylabel('x1 (m)', fontsize = fS)\n",
    "plt.subplot(223)\n",
    "plt.plot(t_index, x[:,1],'o-', linewidth=2.0,label='naive')\n",
    "plt.xlabel('time (s)', fontsize = fS)\n",
    "plt.ylabel('x2 (m)', fontsize = fS)\n",
    "plt.subplot(224)\n",
    "plt.plot(t_index, x[:,2],'o-', linewidth=2.0,label='naive')\n",
    "plt.xlabel('time (s)', fontsize = fS)\n",
    "plt.ylabel('x3 (rad)', fontsize = fS)\n",
    "plt.legend(fontsize=fS)\n",
    "plt.show()\n",
    "\n",
    "plt.figure()\n",
    "plt.subplot(121)\n",
    "plt.plot(t_index, u[:,0],'o-', linewidth=2.0)\n",
    "plt.xlabel('time (s)', fontsize = fS)\n",
    "plt.ylabel('v (m/s)', fontsize = fS)\n",
    "plt.subplot(122)\n",
    "plt.plot(t_index, u[:,1],'o-', linewidth=2.0)\n",
    "plt.xlabel('time (s)', fontsize = fS)\n",
    "plt.ylabel('w (rad/s)', fontsize = fS)\n",
    "plt.show()"
   ]
  },
  {
   "cell_type": "code",
   "execution_count": null,
   "id": "structured-headline",
   "metadata": {},
   "outputs": [],
   "source": [
    "filenames = []\n",
    "for i in range(N+1) :\n",
    "    fS = 18\n",
    "    fig = plt.figure(figsize=(10,10))\n",
    "    ax = fig.add_subplot(111)\n",
    "    plt.gca().set_aspect('equal', adjustable='box')\n",
    "    plt.plot(x[:i+1,0], x[:i+1,1], linewidth=2.0) \n",
    "    plt.plot(xf[0], xf[1],'*', linewidth=2.0)\n",
    "    plt.plot(x[i,0], x[i,1],'*', linewidth=2.0) \n",
    "    plt.plot(x[i,0], x[i,1], marker=(3, 0, x[i,2]*180/np.pi-90), markersize=20, linestyle='None')\n",
    "#     ax.add_patch(rec)\n",
    "    plt.axis([-3, 3, -3, 3])\n",
    "    plt.xlabel('X (m)', fontsize = fS)\n",
    "    plt.ylabel('Y (m)', fontsize = fS)\n",
    "\n",
    "    filename = '../images/{:d}.png'.format(i)\n",
    "    plt.savefig(filename)\n",
    "    filenames.append(filename)\n",
    "    plt.close()"
   ]
  },
  {
   "cell_type": "code",
   "execution_count": null,
   "id": "subsequent-donor",
   "metadata": {},
   "outputs": [],
   "source": [
    "with imageio.get_writer('../images/unicycle.gif', mode='I') as writer:\n",
    "    for filename in filenames:\n",
    "        image = imageio.imread(filename)\n",
    "        writer.append_data(image)\n",
    "for filename in set(filenames):\n",
    "    os.remove(filename)"
   ]
  },
  {
   "cell_type": "code",
   "execution_count": null,
   "id": "following-italian",
   "metadata": {},
   "outputs": [],
   "source": []
  }
 ],
 "metadata": {
  "kernelspec": {
   "display_name": "Python 3 (ipykernel)",
   "language": "python",
   "name": "python3"
  },
  "language_info": {
   "codemirror_mode": {
    "name": "ipython",
    "version": 3
   },
   "file_extension": ".py",
   "mimetype": "text/x-python",
   "name": "python",
   "nbconvert_exporter": "python",
   "pygments_lexer": "ipython3",
   "version": "3.8.12"
  }
 },
 "nbformat": 4,
 "nbformat_minor": 5
}
