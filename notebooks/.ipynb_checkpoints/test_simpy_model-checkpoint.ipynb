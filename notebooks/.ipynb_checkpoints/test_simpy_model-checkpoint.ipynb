{
 "cells": [
  {
   "cell_type": "code",
   "execution_count": 1,
   "id": "blank-coffee",
   "metadata": {},
   "outputs": [],
   "source": [
    "import matplotlib.pyplot as plt\n",
    "# %matplotlib inline\n",
    "%matplotlib qt\n",
    "%load_ext autoreload\n",
    "%autoreload 2\n",
    "import numpy as np\n",
    "import simpy as sp\n",
    "import time\n",
    "import random\n",
    "def print_np(x):\n",
    "    print (\"Type is %s\" % (type(x)))\n",
    "    print (\"Shape is %s\" % (x.shape,))\n",
    "#     print (\"Values are: \\n%s\" % (x))"
   ]
  },
  {
   "cell_type": "code",
   "execution_count": 9,
   "id": "utility-partnership",
   "metadata": {},
   "outputs": [],
   "source": [
    "import sys\n",
    "# sys.path.append('../')\n",
    "sys.path.append('../')\n",
    "sys.path.append('../model')\n",
    "sys.path.append('../cost')\n",
    "sys.path.append('../constraints')\n",
    "import Landing3DModel\n",
    "import Landing3DCost\n",
    "import Landing3DConstraints\n",
    "from scipy.integrate import solve_ivp\n",
    "from Scvx import Scvx"
   ]
  },
  {
   "cell_type": "code",
   "execution_count": 40,
   "id": "ongoing-arnold",
   "metadata": {},
   "outputs": [],
   "source": [
    "ix = 14\n",
    "iu = 3\n",
    "tf = 5\n",
    "N = 50\n",
    "delT = tf/N\n",
    "max_iter = 15"
   ]
  },
  {
   "cell_type": "code",
   "execution_count": 51,
   "id": "unknown-invite",
   "metadata": {},
   "outputs": [],
   "source": [
    "xi = np.array([2,2,1,1,0,1,2,1,0,0,0,0,0,0])\n",
    "xf = np.array([1,0,0,0,0,1,2,1,0,0,0,0,0,0])\n",
    "\n",
    "myModel = Landing3DModel.Landing3D('Hello',ix,iu,delT)\n",
    "myCost = Landing3DCost.Landing3D('Hello',ix,iu,N)\n",
    "myConst = Landing3DConstraints.Landing3D('Hello',ix,iu)\n",
    "\n",
    "x0 = np.zeros((N+1,ix))\n",
    "for i in range(N+1) :\n",
    "    x0[i] = (N-i)/N * xi + i/N * xf\n",
    "\n",
    "u0 = np.zeros((N+1,iu))\n",
    "u0[:,2] = 2"
   ]
  },
  {
   "cell_type": "code",
   "execution_count": 64,
   "id": "fossil-charlotte",
   "metadata": {},
   "outputs": [
    {
     "name": "stdout",
     "output_type": "stream",
     "text": [
      "4.6629367034256575e-15\n",
      "21.315014374611096\n",
      "6.664391898062805e-06\n"
     ]
    }
   ],
   "source": [
    "idx = 15\n",
    "ix = 14\n",
    "iu = 3\n",
    "# x = x0[idx]\n",
    "# u = u0[idx]\n",
    "x = np.random.randn(10,ix)\n",
    "u = np.random.randn(10,iu)\n",
    "\n",
    "fdot_original = myModel.forward(x,u)\n",
    "fdot_analytic = myModel.forward_temp(x,u)\n",
    "\n",
    "print(np.sum(np.abs(fdot_original - fdot_analytic)))\n",
    "\n",
    "fx,fu = myModel.diff_numeric(x,u,discrete=False)\n",
    "fx_,fu_ = myModel.diff(x,u,discrete=False)\n",
    "\n",
    "print(np.sum(np.abs(fx - fx_)))\n",
    "print(np.sum(np.abs(fu - fu_)))"
   ]
  },
  {
   "cell_type": "code",
   "execution_count": 28,
   "id": "written-confirmation",
   "metadata": {},
   "outputs": [],
   "source": [
    "from sympy import symbols, Matrix\n",
    "J,r_t,g,alpha_m = symbols('J,r_t,g,alpha_m')"
   ]
  },
  {
   "cell_type": "code",
   "execution_count": 29,
   "id": "tribal-notebook",
   "metadata": {},
   "outputs": [],
   "source": [
    "def dir_cosine(q):\n",
    "        return np.matrix([\n",
    "            [1 - 2 * (q[2] ** 2 + q[3] ** 2), 2 * (q[1] * q[2] +\n",
    "                                                   q[0] * q[3]), 2 * (q[1] * q[3] - q[0] * q[2])],\n",
    "            [2 * (q[1] * q[2] - q[0] * q[3]), 1 - 2 *\n",
    "             (q[1] ** 2 + q[3] ** 2), 2 * (q[2] * q[3] + q[0] * q[1])],\n",
    "            [2 * (q[1] * q[3] + q[0] * q[2]), 2 * (q[2] * q[3] -\n",
    "                                                   q[0] * q[1]), 1 - 2 * (q[1] ** 2 + q[2] ** 2)]\n",
    "        ])\n",
    "\n",
    "def omega(w):\n",
    "        return np.matrix([\n",
    "            [0, -w[0], -w[1], -w[2]],\n",
    "            [w[0], 0, w[2], -w[1]],\n",
    "            [w[1], -w[2], 0, w[0]],\n",
    "            [w[2], w[1], -w[0], 0],\n",
    "        ])\n",
    "\n",
    "def skew(v):\n",
    "    return np.matrix([\n",
    "            [0, -v[2], v[1]],\n",
    "            [v[2], 0, -v[0]],\n",
    "            [-v[1], v[0], 0]\n",
    "        ])"
   ]
  },
  {
   "cell_type": "code",
   "execution_count": 30,
   "id": "encouraging-musical",
   "metadata": {},
   "outputs": [],
   "source": [
    "from sympy.matrices import Matrix, eye, zeros, ones, diag, GramSchmidt\n",
    "from sympy import simplify, cos, sin\n",
    "f = zeros(14, 1)\n",
    "\n",
    "x = Matrix(symbols(\n",
    "    'm rx ry rz vx vy vz q0 q1 q2 q3 wx wy wz', real=True))\n",
    "u = Matrix(symbols('ux uy uz', real=True))\n",
    "\n",
    "g_I = g*Matrix(np.array([-1,0,0]))\n",
    "r_T_B = r_t*Matrix(np.array([-1,0,0]))\n",
    "J_B = J*Matrix(np.eye(3))\n",
    "\n",
    "C_B_I = dir_cosine(x[7:11, 0])\n",
    "C_I_B = C_B_I.transpose()\n",
    "\n",
    "f[0, 0] = - alpha_m * u.norm()\n",
    "f[1:4, 0] = x[4:7, 0]\n",
    "f[4:7, 0] = 1 / x[0, 0] * C_I_B * u + g_I\n",
    "f[7:11, 0] = 1 / 2 * omega(x[11:14, 0]) * x[7: 11, 0]\n",
    "f[11:14, 0] = J_B ** -1 * \\\n",
    "    (skew(r_T_B) * u - skew(x[11:14, 0]) * J_B * x[11:14, 0])"
   ]
  },
  {
   "cell_type": "code",
   "execution_count": 49,
   "id": "needed-laser",
   "metadata": {},
   "outputs": [
    {
     "data": {
      "text/latex": [
       "$\\displaystyle \\left[\\begin{matrix}- \\alpha_{m} \\sqrt{ux^{2} + uy^{2} + uz^{2}}\\\\vx\\\\vy\\\\vz\\\\\\frac{- g m - ux \\left(2 q_{2}^{2} + 2 q_{3}^{2} - 1\\right) - 2 uy \\left(q_{0} q_{3} - q_{1} q_{2}\\right) + 2 uz \\left(q_{0} q_{2} + q_{1} q_{3}\\right)}{m}\\\\\\frac{2 ux \\left(q_{0} q_{3} + q_{1} q_{2}\\right) - uy \\left(2 q_{1}^{2} + 2 q_{3}^{2} - 1\\right) - 2 uz \\left(q_{0} q_{1} - q_{2} q_{3}\\right)}{m}\\\\\\frac{- 2 ux \\left(q_{0} q_{2} - q_{1} q_{3}\\right) + 2 uy \\left(q_{0} q_{1} + q_{2} q_{3}\\right) - uz \\left(2 q_{1}^{2} + 2 q_{2}^{2} - 1\\right)}{m}\\\\- 0.5 q_{1} wx - 0.5 q_{2} wy - 0.5 q_{3} wz\\\\0.5 q_{0} wx + 0.5 q_{2} wz - 0.5 q_{3} wy\\\\0.5 q_{0} wy - 0.5 q_{1} wz + 0.5 q_{3} wx\\\\0.5 q_{0} wz + 0.5 q_{1} wy - 0.5 q_{2} wx\\\\0\\\\\\frac{1.0 r_{t} uz}{J}\\\\- \\frac{1.0 r_{t} uy}{J}\\end{matrix}\\right]$"
      ],
      "text/plain": [
       "Matrix([\n",
       "[                                               -alpha_m*sqrt(ux**2 + uy**2 + uz**2)],\n",
       "[                                                                                 vx],\n",
       "[                                                                                 vy],\n",
       "[                                                                                 vz],\n",
       "[(-g*m - ux*(2*q2**2 + 2*q3**2 - 1) - 2*uy*(q0*q3 - q1*q2) + 2*uz*(q0*q2 + q1*q3))/m],\n",
       "[       (2*ux*(q0*q3 + q1*q2) - uy*(2*q1**2 + 2*q3**2 - 1) - 2*uz*(q0*q1 - q2*q3))/m],\n",
       "[      (-2*ux*(q0*q2 - q1*q3) + 2*uy*(q0*q1 + q2*q3) - uz*(2*q1**2 + 2*q2**2 - 1))/m],\n",
       "[                                                 -0.5*q1*wx - 0.5*q2*wy - 0.5*q3*wz],\n",
       "[                                                  0.5*q0*wx + 0.5*q2*wz - 0.5*q3*wy],\n",
       "[                                                  0.5*q0*wy - 0.5*q1*wz + 0.5*q3*wx],\n",
       "[                                                  0.5*q0*wz + 0.5*q1*wy - 0.5*q2*wx],\n",
       "[                                                                                  0],\n",
       "[                                                                       1.0*r_t*uz/J],\n",
       "[                                                                      -1.0*r_t*uy/J]])"
      ]
     },
     "metadata": {},
     "output_type": "display_data"
    },
    {
     "name": "stdout",
     "output_type": "stream",
     "text": [
      "f[:,0] = -alpha_m*sqrt(ux**2 + uy**2 + uz**2)\n",
      "f[:,1] = vx\n",
      "f[:,2] = vy\n",
      "f[:,3] = vz\n",
      "f[:,4] = -g + ux*(-2*q2**2 - 2*q3**2 + 1)/m + uy*(-2*q0*q3 + 2*q1*q2)/m + uz*(2*q0*q2 + 2*q1*q3)/m\n",
      "f[:,5] = ux*(2*q0*q3 + 2*q1*q2)/m + uy*(-2*q1**2 - 2*q3**2 + 1)/m + uz*(-2*q0*q1 + 2*q2*q3)/m\n",
      "f[:,6] = ux*(-2*q0*q2 + 2*q1*q3)/m + uy*(2*q0*q1 + 2*q2*q3)/m + uz*(-2*q1**2 - 2*q2**2 + 1)/m\n",
      "f[:,7] = -0.5*q1*wx - 0.5*q2*wy - 0.5*q3*wz\n",
      "f[:,8] = 0.5*q0*wx + 0.5*q2*wz - 0.5*q3*wy\n",
      "f[:,9] = 0.5*q0*wy - 0.5*q1*wz + 0.5*q3*wx\n",
      "f[:,10] = 0.5*q0*wz + 0.5*q1*wy - 0.5*q2*wx\n",
      "f[:,12] = 1.0*r_t*uz/J\n",
      "f[:,13] = -1.0*r_t*uy/J\n"
     ]
    }
   ],
   "source": [
    "display(simplify(f)) # f\n",
    "for i in range(ix) :\n",
    "    if f[i] == 0 :\n",
    "        continue\n",
    "    print(\"f[:,{:}] = {}\".format(i,f[i]))"
   ]
  },
  {
   "cell_type": "code",
   "execution_count": 32,
   "id": "important-wallpaper",
   "metadata": {
    "scrolled": false
   },
   "outputs": [
    {
     "data": {
      "text/latex": [
       "$\\displaystyle \\left[\\begin{array}{cccccccccccccc}0 & 0 & 0 & 0 & 0 & 0 & 0 & 0 & 0 & 0 & 0 & 0 & 0 & 0\\\\0 & 0 & 0 & 0 & 1 & 0 & 0 & 0 & 0 & 0 & 0 & 0 & 0 & 0\\\\0 & 0 & 0 & 0 & 0 & 1 & 0 & 0 & 0 & 0 & 0 & 0 & 0 & 0\\\\0 & 0 & 0 & 0 & 0 & 0 & 1 & 0 & 0 & 0 & 0 & 0 & 0 & 0\\\\\\frac{ux \\left(2 q_{2}^{2} + 2 q_{3}^{2} - 1\\right) + 2 uy \\left(q_{0} q_{3} - q_{1} q_{2}\\right) - 2 uz \\left(q_{0} q_{2} + q_{1} q_{3}\\right)}{m^{2}} & 0 & 0 & 0 & 0 & 0 & 0 & \\frac{2 \\left(q_{2} uz - q_{3} uy\\right)}{m} & \\frac{2 \\left(q_{2} uy + q_{3} uz\\right)}{m} & \\frac{2 \\left(q_{0} uz + q_{1} uy - 2 q_{2} ux\\right)}{m} & \\frac{2 \\left(- q_{0} uy + q_{1} uz - 2 q_{3} ux\\right)}{m} & 0 & 0 & 0\\\\\\frac{- 2 ux \\left(q_{0} q_{3} + q_{1} q_{2}\\right) + uy \\left(2 q_{1}^{2} + 2 q_{3}^{2} - 1\\right) + 2 uz \\left(q_{0} q_{1} - q_{2} q_{3}\\right)}{m^{2}} & 0 & 0 & 0 & 0 & 0 & 0 & \\frac{2 \\left(- q_{1} uz + q_{3} ux\\right)}{m} & \\frac{2 \\left(- q_{0} uz - 2 q_{1} uy + q_{2} ux\\right)}{m} & \\frac{2 \\left(q_{1} ux + q_{3} uz\\right)}{m} & \\frac{2 \\left(q_{0} ux + q_{2} uz - 2 q_{3} uy\\right)}{m} & 0 & 0 & 0\\\\\\frac{2 ux \\left(q_{0} q_{2} - q_{1} q_{3}\\right) - 2 uy \\left(q_{0} q_{1} + q_{2} q_{3}\\right) + uz \\left(2 q_{1}^{2} + 2 q_{2}^{2} - 1\\right)}{m^{2}} & 0 & 0 & 0 & 0 & 0 & 0 & \\frac{2 \\left(q_{1} uy - q_{2} ux\\right)}{m} & \\frac{2 \\left(q_{0} uy - 2 q_{1} uz + q_{3} ux\\right)}{m} & \\frac{2 \\left(- q_{0} ux - 2 q_{2} uz + q_{3} uy\\right)}{m} & \\frac{2 \\left(q_{1} ux + q_{2} uy\\right)}{m} & 0 & 0 & 0\\\\0 & 0 & 0 & 0 & 0 & 0 & 0 & 0 & - 0.5 wx & - 0.5 wy & - 0.5 wz & - 0.5 q_{1} & - 0.5 q_{2} & - 0.5 q_{3}\\\\0 & 0 & 0 & 0 & 0 & 0 & 0 & 0.5 wx & 0 & 0.5 wz & - 0.5 wy & 0.5 q_{0} & - 0.5 q_{3} & 0.5 q_{2}\\\\0 & 0 & 0 & 0 & 0 & 0 & 0 & 0.5 wy & - 0.5 wz & 0 & 0.5 wx & 0.5 q_{3} & 0.5 q_{0} & - 0.5 q_{1}\\\\0 & 0 & 0 & 0 & 0 & 0 & 0 & 0.5 wz & 0.5 wy & - 0.5 wx & 0 & - 0.5 q_{2} & 0.5 q_{1} & 0.5 q_{0}\\\\0 & 0 & 0 & 0 & 0 & 0 & 0 & 0 & 0 & 0 & 0 & 0 & 0 & 0\\\\0 & 0 & 0 & 0 & 0 & 0 & 0 & 0 & 0 & 0 & 0 & 0 & 0 & 0\\\\0 & 0 & 0 & 0 & 0 & 0 & 0 & 0 & 0 & 0 & 0 & 0 & 0 & 0\\end{array}\\right]$"
      ],
      "text/plain": [
       "Matrix([\n",
       "[                                                                               0, 0, 0, 0, 0, 0, 0,                    0,                              0,                              0,                              0,       0,       0,       0],\n",
       "[                                                                               0, 0, 0, 0, 1, 0, 0,                    0,                              0,                              0,                              0,       0,       0,       0],\n",
       "[                                                                               0, 0, 0, 0, 0, 1, 0,                    0,                              0,                              0,                              0,       0,       0,       0],\n",
       "[                                                                               0, 0, 0, 0, 0, 0, 1,                    0,                              0,                              0,                              0,       0,       0,       0],\n",
       "[ (ux*(2*q2**2 + 2*q3**2 - 1) + 2*uy*(q0*q3 - q1*q2) - 2*uz*(q0*q2 + q1*q3))/m**2, 0, 0, 0, 0, 0, 0,  2*(q2*uz - q3*uy)/m,            2*(q2*uy + q3*uz)/m,  2*(q0*uz + q1*uy - 2*q2*ux)/m, 2*(-q0*uy + q1*uz - 2*q3*ux)/m,       0,       0,       0],\n",
       "[(-2*ux*(q0*q3 + q1*q2) + uy*(2*q1**2 + 2*q3**2 - 1) + 2*uz*(q0*q1 - q2*q3))/m**2, 0, 0, 0, 0, 0, 0, 2*(-q1*uz + q3*ux)/m, 2*(-q0*uz - 2*q1*uy + q2*ux)/m,            2*(q1*ux + q3*uz)/m,  2*(q0*ux + q2*uz - 2*q3*uy)/m,       0,       0,       0],\n",
       "[ (2*ux*(q0*q2 - q1*q3) - 2*uy*(q0*q1 + q2*q3) + uz*(2*q1**2 + 2*q2**2 - 1))/m**2, 0, 0, 0, 0, 0, 0,  2*(q1*uy - q2*ux)/m,  2*(q0*uy - 2*q1*uz + q3*ux)/m, 2*(-q0*ux - 2*q2*uz + q3*uy)/m,            2*(q1*ux + q2*uy)/m,       0,       0,       0],\n",
       "[                                                                               0, 0, 0, 0, 0, 0, 0,                    0,                        -0.5*wx,                        -0.5*wy,                        -0.5*wz, -0.5*q1, -0.5*q2, -0.5*q3],\n",
       "[                                                                               0, 0, 0, 0, 0, 0, 0,               0.5*wx,                              0,                         0.5*wz,                        -0.5*wy,  0.5*q0, -0.5*q3,  0.5*q2],\n",
       "[                                                                               0, 0, 0, 0, 0, 0, 0,               0.5*wy,                        -0.5*wz,                              0,                         0.5*wx,  0.5*q3,  0.5*q0, -0.5*q1],\n",
       "[                                                                               0, 0, 0, 0, 0, 0, 0,               0.5*wz,                         0.5*wy,                        -0.5*wx,                              0, -0.5*q2,  0.5*q1,  0.5*q0],\n",
       "[                                                                               0, 0, 0, 0, 0, 0, 0,                    0,                              0,                              0,                              0,       0,       0,       0],\n",
       "[                                                                               0, 0, 0, 0, 0, 0, 0,                    0,                              0,                              0,                              0,       0,       0,       0],\n",
       "[                                                                               0, 0, 0, 0, 0, 0, 0,                    0,                              0,                              0,                              0,       0,       0,       0]])"
      ]
     },
     "metadata": {},
     "output_type": "display_data"
    },
    {
     "name": "stdout",
     "output_type": "stream",
     "text": [
      "fx[:,1,4] = 1\n",
      "fx[:,2,5] = 1\n",
      "fx[:,3,6] = 1\n",
      "fx[:,4,0] = -ux*(-2*q2**2 - 2*q3**2 + 1)/m**2 - uy*(-2*q0*q3 + 2*q1*q2)/m**2 - uz*(2*q0*q2 + 2*q1*q3)/m**2\n",
      "fx[:,4,7] = 2*q2*uz/m - 2*q3*uy/m\n",
      "fx[:,4,8] = 2*q2*uy/m + 2*q3*uz/m\n",
      "fx[:,4,9] = 2*q0*uz/m + 2*q1*uy/m - 4*q2*ux/m\n",
      "fx[:,4,10] = -2*q0*uy/m + 2*q1*uz/m - 4*q3*ux/m\n",
      "fx[:,5,0] = -ux*(2*q0*q3 + 2*q1*q2)/m**2 - uy*(-2*q1**2 - 2*q3**2 + 1)/m**2 - uz*(-2*q0*q1 + 2*q2*q3)/m**2\n",
      "fx[:,5,7] = -2*q1*uz/m + 2*q3*ux/m\n",
      "fx[:,5,8] = -2*q0*uz/m - 4*q1*uy/m + 2*q2*ux/m\n",
      "fx[:,5,9] = 2*q1*ux/m + 2*q3*uz/m\n",
      "fx[:,5,10] = 2*q0*ux/m + 2*q2*uz/m - 4*q3*uy/m\n",
      "fx[:,6,0] = -ux*(-2*q0*q2 + 2*q1*q3)/m**2 - uy*(2*q0*q1 + 2*q2*q3)/m**2 - uz*(-2*q1**2 - 2*q2**2 + 1)/m**2\n",
      "fx[:,6,7] = 2*q1*uy/m - 2*q2*ux/m\n",
      "fx[:,6,8] = 2*q0*uy/m - 4*q1*uz/m + 2*q3*ux/m\n",
      "fx[:,6,9] = -2*q0*ux/m - 4*q2*uz/m + 2*q3*uy/m\n",
      "fx[:,6,10] = 2*q1*ux/m + 2*q2*uy/m\n",
      "fx[:,7,8] = -0.5*wx\n",
      "fx[:,7,9] = -0.5*wy\n",
      "fx[:,7,10] = -0.5*wz\n",
      "fx[:,7,11] = -0.5*q1\n",
      "fx[:,7,12] = -0.5*q2\n",
      "fx[:,7,13] = -0.5*q3\n",
      "fx[:,8,7] = 0.5*wx\n",
      "fx[:,8,9] = 0.5*wz\n",
      "fx[:,8,10] = -0.5*wy\n",
      "fx[:,8,11] = 0.5*q0\n",
      "fx[:,8,12] = -0.5*q3\n",
      "fx[:,8,13] = 0.5*q2\n",
      "fx[:,9,7] = 0.5*wy\n",
      "fx[:,9,8] = -0.5*wz\n",
      "fx[:,9,10] = 0.5*wx\n",
      "fx[:,9,11] = 0.5*q3\n",
      "fx[:,9,12] = 0.5*q0\n",
      "fx[:,9,13] = -0.5*q1\n",
      "fx[:,10,7] = 0.5*wz\n",
      "fx[:,10,8] = 0.5*wy\n",
      "fx[:,10,9] = -0.5*wx\n",
      "fx[:,10,11] = -0.5*q2\n",
      "fx[:,10,12] = 0.5*q1\n",
      "fx[:,10,13] = 0.5*q0\n"
     ]
    }
   ],
   "source": [
    "fx = f.jacobian(x)\n",
    "display(simplify(fx))# A\n",
    "ix = 14\n",
    "iu = 14\n",
    "for i in range(ix) :\n",
    "    for j in range(ix) :\n",
    "        if fx[i,j] == 0 :\n",
    "            continue\n",
    "        print(\"fx[:,{:},{:}] = {}\".format(i,j,fx[i,j]))"
   ]
  },
  {
   "cell_type": "code",
   "execution_count": 33,
   "id": "corrected-pursuit",
   "metadata": {},
   "outputs": [
    {
     "data": {
      "text/latex": [
       "$\\displaystyle \\left[\\begin{matrix}- \\frac{\\alpha_{m} ux}{\\sqrt{ux^{2} + uy^{2} + uz^{2}}} & - \\frac{\\alpha_{m} uy}{\\sqrt{ux^{2} + uy^{2} + uz^{2}}} & - \\frac{\\alpha_{m} uz}{\\sqrt{ux^{2} + uy^{2} + uz^{2}}}\\\\0 & 0 & 0\\\\0 & 0 & 0\\\\0 & 0 & 0\\\\\\frac{- 2 q_{2}^{2} - 2 q_{3}^{2} + 1}{m} & \\frac{2 \\left(- q_{0} q_{3} + q_{1} q_{2}\\right)}{m} & \\frac{2 \\left(q_{0} q_{2} + q_{1} q_{3}\\right)}{m}\\\\\\frac{2 \\left(q_{0} q_{3} + q_{1} q_{2}\\right)}{m} & \\frac{- 2 q_{1}^{2} - 2 q_{3}^{2} + 1}{m} & \\frac{2 \\left(- q_{0} q_{1} + q_{2} q_{3}\\right)}{m}\\\\\\frac{2 \\left(- q_{0} q_{2} + q_{1} q_{3}\\right)}{m} & \\frac{2 \\left(q_{0} q_{1} + q_{2} q_{3}\\right)}{m} & \\frac{- 2 q_{1}^{2} - 2 q_{2}^{2} + 1}{m}\\\\0 & 0 & 0\\\\0 & 0 & 0\\\\0 & 0 & 0\\\\0 & 0 & 0\\\\0 & 0 & 0\\\\0 & 0 & \\frac{1.0 r_{t}}{J}\\\\0 & - \\frac{1.0 r_{t}}{J} & 0\\end{matrix}\\right]$"
      ],
      "text/plain": [
       "Matrix([\n",
       "[-alpha_m*ux/sqrt(ux**2 + uy**2 + uz**2), -alpha_m*uy/sqrt(ux**2 + uy**2 + uz**2), -alpha_m*uz/sqrt(ux**2 + uy**2 + uz**2)],\n",
       "[                                      0,                                       0,                                       0],\n",
       "[                                      0,                                       0,                                       0],\n",
       "[                                      0,                                       0,                                       0],\n",
       "[             (-2*q2**2 - 2*q3**2 + 1)/m,                    2*(-q0*q3 + q1*q2)/m,                     2*(q0*q2 + q1*q3)/m],\n",
       "[                    2*(q0*q3 + q1*q2)/m,              (-2*q1**2 - 2*q3**2 + 1)/m,                    2*(-q0*q1 + q2*q3)/m],\n",
       "[                   2*(-q0*q2 + q1*q3)/m,                     2*(q0*q1 + q2*q3)/m,              (-2*q1**2 - 2*q2**2 + 1)/m],\n",
       "[                                      0,                                       0,                                       0],\n",
       "[                                      0,                                       0,                                       0],\n",
       "[                                      0,                                       0,                                       0],\n",
       "[                                      0,                                       0,                                       0],\n",
       "[                                      0,                                       0,                                       0],\n",
       "[                                      0,                                       0,                               1.0*r_t/J],\n",
       "[                                      0,                              -1.0*r_t/J,                                       0]])"
      ]
     },
     "metadata": {},
     "output_type": "display_data"
    },
    {
     "name": "stdout",
     "output_type": "stream",
     "text": [
      "fu[:,0,0] = -alpha_m*ux/sqrt(ux**2 + uy**2 + uz**2)\n",
      "fu[:,0,1] = -alpha_m*uy/sqrt(ux**2 + uy**2 + uz**2)\n",
      "fu[:,0,2] = -alpha_m*uz/sqrt(ux**2 + uy**2 + uz**2)\n",
      "fu[:,4,0] = (-2*q2**2 - 2*q3**2 + 1)/m\n",
      "fu[:,4,1] = (-2*q0*q3 + 2*q1*q2)/m\n",
      "fu[:,4,2] = (2*q0*q2 + 2*q1*q3)/m\n",
      "fu[:,5,0] = (2*q0*q3 + 2*q1*q2)/m\n",
      "fu[:,5,1] = (-2*q1**2 - 2*q3**2 + 1)/m\n",
      "fu[:,5,2] = (-2*q0*q1 + 2*q2*q3)/m\n",
      "fu[:,6,0] = (-2*q0*q2 + 2*q1*q3)/m\n",
      "fu[:,6,1] = (2*q0*q1 + 2*q2*q3)/m\n",
      "fu[:,6,2] = (-2*q1**2 - 2*q2**2 + 1)/m\n",
      "fu[:,12,2] = 1.0*r_t/J\n",
      "fu[:,13,1] = -1.0*r_t/J\n"
     ]
    }
   ],
   "source": [
    "fu = f.jacobian(u)\n",
    "display(simplify(fu))# A\n",
    "ix = 14\n",
    "iu = 3\n",
    "for i in range(ix) :\n",
    "    for j in range(iu) :\n",
    "        if fu[i,j] == 0 :\n",
    "            continue\n",
    "        print(\"fu[:,{:},{:}] = {}\".format(i,j,fu[i,j]))"
   ]
  },
  {
   "cell_type": "code",
   "execution_count": null,
   "id": "fitting-services",
   "metadata": {},
   "outputs": [],
   "source": []
  }
 ],
 "metadata": {
  "kernelspec": {
   "display_name": "Python 3",
   "language": "python",
   "name": "python3"
  },
  "language_info": {
   "codemirror_mode": {
    "name": "ipython",
    "version": 3
   },
   "file_extension": ".py",
   "mimetype": "text/x-python",
   "name": "python",
   "nbconvert_exporter": "python",
   "pygments_lexer": "ipython3",
   "version": "3.8.5"
  }
 },
 "nbformat": 4,
 "nbformat_minor": 5
}
