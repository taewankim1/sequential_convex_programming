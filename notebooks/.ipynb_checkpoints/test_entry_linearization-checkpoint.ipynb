{
 "cells": [
  {
   "cell_type": "code",
   "execution_count": 1,
   "id": "13e6561b",
   "metadata": {},
   "outputs": [],
   "source": [
    "import matplotlib.pyplot as plt\n",
    "%matplotlib inline\n",
    "# %matplotlib qt\n",
    "%load_ext autoreload\n",
    "%autoreload 2\n",
    "import numpy as np\n",
    "import time\n",
    "import random\n",
    "def print_np(x):\n",
    "    print (\"Type is %s\" % (type(x)))\n",
    "    print (\"Shape is %s\" % (x.shape,))\n",
    "#     print (\"Values are: \\n%s\" % (x))\n",
    "from scipy.interpolate import interp1d"
   ]
  },
  {
   "cell_type": "code",
   "execution_count": 2,
   "id": "8a36a17d",
   "metadata": {},
   "outputs": [],
   "source": [
    "import sys\n",
    "# sys.path.append('../')\n",
    "sys.path.append('../')\n",
    "sys.path.append('../model')\n",
    "sys.path.append('../cost')\n",
    "sys.path.append('../constraints')\n",
    "sys.path.append('../utils')\n",
    "from scipy.integrate import solve_ivp\n",
    "from HypersonicEntry3DofPolar import Entry3dofSpherical"
   ]
  },
  {
   "cell_type": "markdown",
   "id": "d24e38d0",
   "metadata": {},
   "source": [
    "## Skye"
   ]
  },
  {
   "cell_type": "code",
   "execution_count": 3,
   "id": "ad100c94",
   "metadata": {},
   "outputs": [],
   "source": [
    "tf = 1.04*1600\n",
    "N = 30\n",
    "delT = tf/N\n",
    "sigma_init = np.linspace(0,np.deg2rad(-10),N+1)\n",
    "ix = 6\n",
    "iu = 1"
   ]
  },
  {
   "cell_type": "code",
   "execution_count": 4,
   "id": "ced38051",
   "metadata": {},
   "outputs": [],
   "source": [
    "my_model = Entry3dofSpherical(\"hi\",ix,iu,linearization=\"analytic\")\n"
   ]
  },
  {
   "cell_type": "code",
   "execution_count": 5,
   "id": "f9d205e7",
   "metadata": {},
   "outputs": [],
   "source": [
    "Ts_init = tf / my_model.nt\n",
    "dts_init = delT/my_model.nt\n",
    "ts_init = np.linspace(0,Ts_init,N+1)"
   ]
  },
  {
   "cell_type": "code",
   "execution_count": 6,
   "id": "298772ad",
   "metadata": {},
   "outputs": [],
   "source": [
    "u_t = interp1d(ts_init,sigma_init)"
   ]
  },
  {
   "cell_type": "code",
   "execution_count": 7,
   "id": "0853781c",
   "metadata": {},
   "outputs": [
    {
     "name": "stdout",
     "output_type": "stream",
     "text": [
      "[1.0156961230576047, 0, 0, 0.9423624367981697, -0.008726646259971648, 1.5707963267948966]\n"
     ]
    }
   ],
   "source": [
    "h0 = 100*1e3\n",
    "r0_s     = (h0+my_model.re)/my_model.nd;  \n",
    "theta0_s = 0\n",
    "phi0_s   = 0\n",
    "v0_s     = 7450/my_model.nv\n",
    "gamma0   = np.deg2rad(-0.5)\n",
    "psi0     = np.deg2rad(90)\n",
    "\n",
    "x0_s = [r0_s,theta0_s,phi0_s,v0_s,gamma0,psi0]\n",
    "print(x0_s)"
   ]
  },
  {
   "cell_type": "code",
   "execution_count": 8,
   "id": "6ec49784",
   "metadata": {},
   "outputs": [],
   "source": [
    "def dfdt(t,x,t0,u0) :\n",
    "    u_t = interp1d(t0,u0)\n",
    "    u = u_t(t)\n",
    "    return np.squeeze(my_model.forward(x,u))"
   ]
  },
  {
   "cell_type": "code",
   "execution_count": 9,
   "id": "35463327",
   "metadata": {},
   "outputs": [],
   "source": [
    "sol = solve_ivp(dfdt,(ts_init[0],ts_init[-1]),x0_s,args=(ts_init,sigma_init),t_eval=ts_init,rtol=1e-12,atol=1e-12)\n"
   ]
  },
  {
   "cell_type": "code",
   "execution_count": 10,
   "id": "e8c1363b",
   "metadata": {},
   "outputs": [
    {
     "data": {
      "text/plain": [
       "array([ 1.00476425,  1.28343912,  0.03778173,  0.12249751, -0.08225446,\n",
       "        1.15150802])"
      ]
     },
     "execution_count": 10,
     "metadata": {},
     "output_type": "execute_result"
    }
   ],
   "source": [
    "sol.y[:,-1]"
   ]
  },
  {
   "cell_type": "code",
   "execution_count": 11,
   "id": "4683f90a",
   "metadata": {},
   "outputs": [
    {
     "data": {
      "text/plain": [
       "array([ 0.        , -0.00581776, -0.01163553, -0.01745329, -0.02327106,\n",
       "       -0.02908882, -0.03490659, -0.04072435, -0.04654211, -0.05235988,\n",
       "       -0.05817764, -0.06399541, -0.06981317, -0.07563093, -0.0814487 ,\n",
       "       -0.08726646, -0.09308423, -0.09890199, -0.10471976, -0.11053752,\n",
       "       -0.11635528, -0.12217305, -0.12799081, -0.13380858, -0.13962634,\n",
       "       -0.1454441 , -0.15126187, -0.15707963, -0.1628974 , -0.16871516,\n",
       "       -0.17453293])"
      ]
     },
     "execution_count": 11,
     "metadata": {},
     "output_type": "execute_result"
    }
   ],
   "source": [
    "sigma_init"
   ]
  },
  {
   "cell_type": "code",
   "execution_count": 12,
   "id": "aaba8cc2",
   "metadata": {},
   "outputs": [
    {
     "name": "stdout",
     "output_type": "stream",
     "text": [
      "Type is <class 'numpy.ndarray'>\n",
      "Shape is (31, 6)\n",
      "Type is <class 'numpy.ndarray'>\n",
      "Shape is (31, 1)\n"
     ]
    }
   ],
   "source": [
    "x = sol.y.T\n",
    "u = np.expand_dims(sigma_init,1)\n",
    "print_np(x)\n",
    "print_np(u)"
   ]
  },
  {
   "cell_type": "code",
   "execution_count": 15,
   "id": "841f8e93",
   "metadata": {},
   "outputs": [
    {
     "data": {
      "text/plain": [
       "array([ 1.00476425,  1.28343912,  0.03778173,  0.12249751, -0.08225446,\n",
       "        1.15150802])"
      ]
     },
     "execution_count": 15,
     "metadata": {},
     "output_type": "execute_result"
    }
   ],
   "source": [
    "x[-1,:]"
   ]
  },
  {
   "cell_type": "code",
   "execution_count": 14,
   "id": "1c120985",
   "metadata": {},
   "outputs": [],
   "source": [
    "A,Bm,Bp,s,z,x_prop_n = my_model.diff_discrete_foh(x[0:N,:],u,dts_init,Ts_init)"
   ]
  },
  {
   "cell_type": "code",
   "execution_count": 16,
   "id": "101a2a3e",
   "metadata": {},
   "outputs": [
    {
     "name": "stdout",
     "output_type": "stream",
     "text": [
      "Type is <class 'numpy.ndarray'>\n",
      "Shape is (30, 6, 6)\n"
     ]
    }
   ],
   "source": [
    "print_np(A)"
   ]
  },
  {
   "cell_type": "code",
   "execution_count": null,
   "id": "378af7b9",
   "metadata": {},
   "outputs": [],
   "source": []
  },
  {
   "cell_type": "code",
   "execution_count": null,
   "id": "9a35a891",
   "metadata": {},
   "outputs": [],
   "source": []
  },
  {
   "cell_type": "markdown",
   "id": "b3ff300c",
   "metadata": {},
   "source": [
    "## Behcet"
   ]
  },
  {
   "cell_type": "code",
   "execution_count": null,
   "id": "756c5690",
   "metadata": {},
   "outputs": [],
   "source": [
    "h0 = 100*1e3\n",
    "r0_s     = (h0+my_model.re)/my_model.nd;  \n",
    "theta0_s = 0\n",
    "phi0_s   = 0\n",
    "v0_s     = 7450/my_model.nv\n",
    "gamma0   = np.deg2rad(-0.5)\n",
    "psi0     = 0\n",
    "\n",
    "x0_s = [r0_s,theta0_s,phi0_s,v0_s,gamma0,psi0]\n",
    "print(x0_s)"
   ]
  },
  {
   "cell_type": "code",
   "execution_count": null,
   "id": "a417d9cf",
   "metadata": {},
   "outputs": [],
   "source": [
    "def dfdt(t,x,t0,u0) :\n",
    "    u_t = interp1d(t0,u0)\n",
    "    u = u_t(t)\n",
    "    return np.squeeze(my_model.forward(x,u))"
   ]
  },
  {
   "cell_type": "code",
   "execution_count": null,
   "id": "4adeb7df",
   "metadata": {},
   "outputs": [],
   "source": [
    "sol = solve_ivp(dfdt,(ts_init[0],ts_init[-1]),x0_s,\n",
    "    args=([ts_init[0],ts_init[-1]],[sigma_init[0],sigma_init[1]]),\n",
    "    t_eval=ts_init,rtol=1e-12,atol=1e-12)\n"
   ]
  },
  {
   "cell_type": "code",
   "execution_count": null,
   "id": "3db07d5e",
   "metadata": {},
   "outputs": [],
   "source": [
    "x = sol.y.T\n",
    "u = np.expand_dims(sigma_init,1)"
   ]
  },
  {
   "cell_type": "code",
   "execution_count": null,
   "id": "36e632eb",
   "metadata": {},
   "outputs": [],
   "source": [
    "ts_init"
   ]
  },
  {
   "cell_type": "code",
   "execution_count": null,
   "id": "df3dcc09",
   "metadata": {},
   "outputs": [],
   "source": [
    "Ts_init"
   ]
  },
  {
   "cell_type": "code",
   "execution_count": null,
   "id": "2ac49c93",
   "metadata": {},
   "outputs": [],
   "source": [
    "dts_init * np.ones(N)"
   ]
  },
  {
   "cell_type": "code",
   "execution_count": null,
   "id": "06244d79",
   "metadata": {},
   "outputs": [],
   "source": [
    "A,Bm,Bp,s,z,x_prop_n = my_model.diff_discrete_foh(x[0:N,:],u,dts_init,Ts_init)\n",
    "# A,Bm,Bp,s,z,x_prop_n = my_model.diff_discrete_foh_var_vectorized(x[0:N,:],u,dts_init * np.ones(N))"
   ]
  },
  {
   "cell_type": "code",
   "execution_count": null,
   "id": "19cc3774",
   "metadata": {},
   "outputs": [],
   "source": [
    "A[-1,:,:]"
   ]
  },
  {
   "cell_type": "code",
   "execution_count": null,
   "id": "161bb250",
   "metadata": {},
   "outputs": [],
   "source": [
    "x_prop_n[-1]"
   ]
  },
  {
   "cell_type": "code",
   "execution_count": null,
   "id": "ec66bf5f",
   "metadata": {},
   "outputs": [],
   "source": [
    "x[1]"
   ]
  },
  {
   "cell_type": "code",
   "execution_count": null,
   "id": "e73d68c7",
   "metadata": {},
   "outputs": [],
   "source": [
    "u[1]"
   ]
  },
  {
   "cell_type": "code",
   "execution_count": null,
   "id": "cc41c2f2",
   "metadata": {},
   "outputs": [],
   "source": [
    "A,B = my_model.diff_numeric_central(x[1],u[1])"
   ]
  },
  {
   "cell_type": "code",
   "execution_count": null,
   "id": "8ef35c36",
   "metadata": {},
   "outputs": [],
   "source": [
    "A[:,:,3]"
   ]
  },
  {
   "cell_type": "code",
   "execution_count": null,
   "id": "b05b555c",
   "metadata": {},
   "outputs": [],
   "source": [
    "x[24]"
   ]
  },
  {
   "cell_type": "code",
   "execution_count": null,
   "id": "cf4ec57b",
   "metadata": {},
   "outputs": [],
   "source": [
    "u[24]"
   ]
  },
  {
   "cell_type": "code",
   "execution_count": null,
   "id": "db04f80c",
   "metadata": {},
   "outputs": [],
   "source": [
    "A,B = my_model.diff(x[24],u[24])"
   ]
  },
  {
   "cell_type": "code",
   "execution_count": null,
   "id": "5958a164",
   "metadata": {},
   "outputs": [],
   "source": [
    "A"
   ]
  },
  {
   "cell_type": "code",
   "execution_count": null,
   "id": "c1a2cb25",
   "metadata": {},
   "outputs": [],
   "source": []
  }
 ],
 "metadata": {
  "kernelspec": {
   "display_name": "Python 3 (ipykernel)",
   "language": "python",
   "name": "python3"
  },
  "language_info": {
   "codemirror_mode": {
    "name": "ipython",
    "version": 3
   },
   "file_extension": ".py",
   "mimetype": "text/x-python",
   "name": "python",
   "nbconvert_exporter": "python",
   "pygments_lexer": "ipython3",
   "version": "3.8.12"
  }
 },
 "nbformat": 4,
 "nbformat_minor": 5
}
