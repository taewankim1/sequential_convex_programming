{
 "cells": [
  {
   "cell_type": "code",
   "execution_count": 1,
   "id": "specialized-kentucky",
   "metadata": {},
   "outputs": [],
   "source": [
    "import matplotlib.pyplot as plt\n",
    "%matplotlib inline\n",
    "# %matplotlib qt\n",
    "%load_ext autoreload\n",
    "%autoreload 2\n",
    "import numpy as np\n",
    "import time\n",
    "import random\n",
    "def print_np(x):\n",
    "    print (\"Type is %s\" % (type(x)))\n",
    "    print (\"Shape is %s\" % (x.shape,))\n",
    "#     print (\"Values are: \\n%s\" % (x))"
   ]
  },
  {
   "cell_type": "code",
   "execution_count": 2,
   "id": "divided-premium",
   "metadata": {},
   "outputs": [],
   "source": [
    "import sys\n",
    "# sys.path.append('../')\n",
    "sys.path.append('../')\n",
    "sys.path.append('../model')\n",
    "sys.path.append('../cost')\n",
    "sys.path.append('../constraints')\n",
    "import Landing3DModel\n",
    "import Landing3DCost\n",
    "import Landing3DConstraints\n",
    "from scipy.integrate import solve_ivp\n",
    "from Scvx import Scvx"
   ]
  },
  {
   "cell_type": "code",
   "execution_count": null,
   "id": "german-ferry",
   "metadata": {},
   "outputs": [],
   "source": [
    "ix = 14\n",
    "iu = 3\n",
    "ih = 7\n",
    "tf = 5\n",
    "N = 50\n",
    "delT = tf/N\n",
    "max_iter = 15"
   ]
  },
  {
   "cell_type": "code",
   "execution_count": null,
   "id": "empirical-replica",
   "metadata": {},
   "outputs": [],
   "source": [
    "xi = np.array([2,1,0,2,0.2,0,-1,1,0,0,0,0,0,0])\n",
    "xf = np.array([1,0,0,0,0,0,-0.1,1,0,0,0,0,0,0])\n",
    "\n",
    "myModel = Landing3DModel.Landing3D('Hello',ix,iu,delT)\n",
    "myCost = Landing3DCost.Landing3D('Hello',ix,iu,N)\n",
    "myConst = Landing3DConstraints.Landing3D('Hello',ix,iu,ih)\n",
    "\n",
    "x0 = np.zeros((N+1,ix))\n",
    "for i in range(N+1) :\n",
    "    x0[i] = (N-i)/N * xi + i/N * xf\n",
    "\n",
    "u0 = np.zeros((N+1,iu))\n",
    "u0[:,2] = 2"
   ]
  },
  {
   "cell_type": "code",
   "execution_count": null,
   "id": "better-dating",
   "metadata": {
    "scrolled": false
   },
   "outputs": [],
   "source": [
    "i1 = Scvx('unicycle',N,max_iter,myModel,myCost,myConst,\n",
    "          type_discretization='zoh',w_vc=1e4,w_tr=1e-3)#,w_tr=1e-3)\n",
    "x,u,xbar,ubar,total_num_iter = i1.update(x0,u0,xi,xf)"
   ]
  },
  {
   "cell_type": "code",
   "execution_count": null,
   "id": "focal-outside",
   "metadata": {},
   "outputs": [],
   "source": [
    "list_time = delT * np.array([i for i in range(N+1)])\n",
    "u_norm = np.linalg.norm(ubar,axis=1)\n",
    "tilt_angle = np.arccos(1 - 2 * (xbar[:,8]**2+xbar[:,9]**2))\n",
    "gimbal_angle = np.arccos(ubar[:,2] / u_norm)"
   ]
  },
  {
   "cell_type": "code",
   "execution_count": null,
   "id": "addressed-planner",
   "metadata": {
    "scrolled": false
   },
   "outputs": [],
   "source": [
    "from utils import plot_rocket3d\n",
    "from utils import make_rocket3d_trajectory_fig\n",
    "fig = plt.figure(1,figsize=(15,15))\n",
    "plot_rocket3d(fig,xbar,ubar,x)\n",
    "\n",
    "fS = 15\n",
    "plt.figure(figsize=(15,6))\n",
    "plt.subplot(311)\n",
    "plt.plot(list_time[:N],ubar[:N,0])\n",
    "plt.xlabel('time (s)',fontsize=fS)\n",
    "plt.ylim([-6,6])\n",
    "plt.title('T1',fontsize=fS)\n",
    "plt.subplot(312)\n",
    "plt.plot(list_time[:N],ubar[:N,1])\n",
    "plt.xlabel('time (s)',fontsize=fS)\n",
    "plt.ylim([-6,6])\n",
    "plt.title('T2',fontsize=fS)\n",
    "plt.subplot(313)\n",
    "plt.plot(list_time[:N],ubar[:N,2])\n",
    "plt.xlabel('time (s)',fontsize=fS)\n",
    "plt.ylim([-6,6])\n",
    "plt.title('T3',fontsize=fS)\n",
    "\n",
    "\n",
    "\n",
    "plt.figure(figsize=(15,3))\n",
    "plt.plot(list_time[:N],u_norm[:N])\n",
    "plt.plot(list_time[:N],list_time[:N]*0+myConst.T_max,'--',color='tab:orange')\n",
    "plt.plot(list_time[:N],list_time[:N]*0+myConst.T_min,'--',color='tab:orange')\n",
    "plt.xlabel('time (s)',fontsize=fS)\n",
    "plt.ylim([0,6])\n",
    "plt.title('u_norm',fontsize=fS)\n",
    "\n",
    "plt.figure(figsize=(15,3))\n",
    "plt.plot(list_time[:N],np.rad2deg(gimbal_angle[:N]))\n",
    "plt.plot(list_time[:N],list_time[:N]*0+np.rad2deg(myConst.delta_max),'--',color='tab:orange')\n",
    "plt.xlabel('time (s)',fontsize=fS)\n",
    "plt.title('gimbal angle',fontsize=fS)\n",
    "plt.ylim([0,90])\n",
    "\n",
    "\n",
    "plt.figure(figsize=(15,3))\n",
    "plt.plot(list_time,xbar[:,0])\n",
    "plt.plot(list_time,list_time*0+2,'--',color='tab:orange')\n",
    "plt.plot(list_time,list_time*0+myConst.m_dry,'--',color='tab:orange')\n",
    "plt.xlabel('time (s)',fontsize=fS)\n",
    "plt.title('mass',fontsize=fS)\n",
    "plt.ylim([0,2.5])\n",
    "plt.figure(figsize=(15,3))\n",
    "plt.plot(list_time,np.rad2deg(tilt_angle))\n",
    "plt.plot(list_time,list_time*0+np.rad2deg(myConst.theta_max),'--',color='tab:orange')\n",
    "plt.xlabel('time (s)',fontsize=fS)\n",
    "plt.title('tilt angle',fontsize=fS)\n",
    "plt.ylim([0,90])\n",
    "\n"
   ]
  },
  {
   "cell_type": "code",
   "execution_count": null,
   "id": "eight-equipment",
   "metadata": {},
   "outputs": [],
   "source": [
    "# make_rocket3d_trajectory_fig(x,u,'Landing3D')"
   ]
  },
  {
   "cell_type": "code",
   "execution_count": null,
   "id": "treated-instrumentation",
   "metadata": {},
   "outputs": [],
   "source": []
  }
 ],
 "metadata": {
  "kernelspec": {
   "display_name": "Python 3",
   "language": "python",
   "name": "python3"
  },
  "language_info": {
   "codemirror_mode": {
    "name": "ipython",
    "version": 3
   },
   "file_extension": ".py",
   "mimetype": "text/x-python",
   "name": "python",
   "nbconvert_exporter": "python",
   "pygments_lexer": "ipython3",
   "version": "3.8.5"
  }
 },
 "nbformat": 4,
 "nbformat_minor": 5
}
