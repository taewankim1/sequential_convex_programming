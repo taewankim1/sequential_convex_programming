{
 "cells": [
  {
   "cell_type": "code",
   "execution_count": 1,
   "id": "b956317e",
   "metadata": {},
   "outputs": [],
   "source": [
    "import matplotlib.pyplot as plt\n",
    "%matplotlib inline  \n",
    "%load_ext autoreload\n",
    "%autoreload 2\n",
    "import numpy as np\n",
    "import time\n",
    "import random\n",
    "def print_np(x):\n",
    "    print (\"Type is %s\" % (type(x)))\n",
    "    print (\"Shape is %s\" % (x.shape,))\n",
    "#     print (\"Values are: \\n%s\" % (x))"
   ]
  },
  {
   "cell_type": "code",
   "execution_count": 2,
   "id": "6e840481",
   "metadata": {},
   "outputs": [
    {
     "name": "stdout",
     "output_type": "stream",
     "text": [
      "(CVXPY) Sep 01 10:21:28 AM: Encountered unexpected exception importing solver SCS:\n",
      "ImportError(\"dlopen(/opt/anaconda3/envs/py309/lib/python3.9/site-packages/_scs_direct.cpython-39-darwin.so, 0x0002): Library not loaded: @rpath/liblapack.3.dylib\\n  Referenced from: /opt/anaconda3/envs/py309/lib/python3.9/site-packages/_scs_direct.cpython-39-darwin.so\\n  Reason: tried: '/opt/anaconda3/envs/py309/lib/python3.9/site-packages/../../liblapack.3.dylib' (no such file), '/opt/anaconda3/envs/py309/lib/python3.9/site-packages/../../liblapack.3.dylib' (no such file), '/opt/anaconda3/envs/py309/bin/../lib/liblapack.3.dylib' (no such file), '/opt/anaconda3/envs/py309/bin/../lib/liblapack.3.dylib' (no such file), '/usr/local/lib/liblapack.3.dylib' (no such file), '/usr/lib/liblapack.3.dylib' (no such file)\")\n"
     ]
    }
   ],
   "source": [
    "import sys\n",
    "# sys.path.append('../')\n",
    "sys.path.append('../')\n",
    "sys.path.append('../model')\n",
    "sys.path.append('../cost')\n",
    "sys.path.append('../constraints')\n",
    "import UnicycleModel\n",
    "import UnicycleCost\n",
    "import UnicycleConstraints\n",
    "from scipy.integrate import solve_ivp\n",
    "from PTR import PTR"
   ]
  },
  {
   "cell_type": "code",
   "execution_count": 3,
   "id": "d2d75361",
   "metadata": {},
   "outputs": [],
   "source": [
    "ix = 3\n",
    "iu = 2\n",
    "ih = 2\n",
    "N = 30\n",
    "tf = 3\n",
    "delT = tf/N\n",
    "max_iter = 20"
   ]
  },
  {
   "cell_type": "code",
   "execution_count": 4,
   "id": "6405177b",
   "metadata": {},
   "outputs": [],
   "source": [
    "xi = np.zeros(3)\n",
    "xi[0] = -2.0\n",
    "xi[1] = -2.0 \n",
    "xi[2] = 0\n",
    "\n",
    "xf = np.zeros(3)\n",
    "xf[0] = 2.0\n",
    "xf[1] = 2.0\n",
    "xf[2] = 0\n",
    "\n",
    "myModel = UnicycleModel.unicycle('Hello',ix,iu,'numeric_central')\n",
    "myCost = UnicycleCost.unicycle('Hello',ix,iu,N)\n",
    "myConst = UnicycleConstraints.UnicycleConstraints('Hello',ix,iu)\n",
    "\n",
    "x0 = np.zeros((N+1,ix))\n",
    "for i in range(N+1) :\n",
    "    x0[i] = (N-i)/N * xi + i/N * xf\n",
    "# u0 = np.random.rand(N,iu)\n",
    "u0 = np.zeros((N+1,iu))"
   ]
  },
  {
   "cell_type": "code",
   "execution_count": 5,
   "id": "e3f88e36",
   "metadata": {
    "scrolled": false
   },
   "outputs": [
    {
     "ename": "Error",
     "evalue": "rescode.err_missing_license_file(1008): License cannot be located. The default search path is ':/Users/taewankim/mosek/mosek.lic:'.",
     "output_type": "error",
     "traceback": [
      "\u001b[0;31m---------------------------------------------------------------------------\u001b[0m",
      "\u001b[0;31mError\u001b[0m                                     Traceback (most recent call last)",
      "Input \u001b[0;32mIn [5]\u001b[0m, in \u001b[0;36m<cell line: 4>\u001b[0;34m()\u001b[0m\n\u001b[1;32m      1\u001b[0m i1 \u001b[38;5;241m=\u001b[39m PTR(\u001b[38;5;124m'\u001b[39m\u001b[38;5;124municycle\u001b[39m\u001b[38;5;124m'\u001b[39m,N,tf,max_iter,myModel,myCost,myConst,type_discretization\u001b[38;5;241m=\u001b[39m\u001b[38;5;124m\"\u001b[39m\u001b[38;5;124mzoh\u001b[39m\u001b[38;5;124m\"\u001b[39m,\n\u001b[1;32m      2\u001b[0m           w_c\u001b[38;5;241m=\u001b[39m\u001b[38;5;241m1\u001b[39m,w_vc\u001b[38;5;241m=\u001b[39m\u001b[38;5;241m1e3\u001b[39m,w_tr\u001b[38;5;241m=\u001b[39m\u001b[38;5;241m1e-1\u001b[39m,w_rate\u001b[38;5;241m=\u001b[39m\u001b[38;5;241m0\u001b[39m,\n\u001b[1;32m      3\u001b[0m          tol_vc\u001b[38;5;241m=\u001b[39m\u001b[38;5;241m1e-6\u001b[39m,tol_tr\u001b[38;5;241m=\u001b[39m\u001b[38;5;241m1e-3\u001b[39m)\n\u001b[0;32m----> 4\u001b[0m x,u,xbar,ubar,total_num_iter,flag_boundary,l,l_vc,l_tr,x_traj,u_traj,T_traj \u001b[38;5;241m=\u001b[39m \u001b[43mi1\u001b[49m\u001b[38;5;241;43m.\u001b[39;49m\u001b[43mrun\u001b[49m\u001b[43m(\u001b[49m\u001b[43mx0\u001b[49m\u001b[43m,\u001b[49m\u001b[43mu0\u001b[49m\u001b[43m,\u001b[49m\u001b[43mxi\u001b[49m\u001b[43m,\u001b[49m\u001b[43mxf\u001b[49m\u001b[43m)\u001b[49m\n",
      "File \u001b[0;32m~/Documents/Code/Personal/SCP/notebooks/../PTR.py:308\u001b[0m, in \u001b[0;36mPTR.run\u001b[0;34m(self, x0, u0, xi, xf)\u001b[0m\n\u001b[1;32m    305\u001b[0m \u001b[38;5;28mself\u001b[39m\u001b[38;5;241m.\u001b[39mA,\u001b[38;5;28mself\u001b[39m\u001b[38;5;241m.\u001b[39mB,\u001b[38;5;28mself\u001b[39m\u001b[38;5;241m.\u001b[39mBm,\u001b[38;5;28mself\u001b[39m\u001b[38;5;241m.\u001b[39mBp,\u001b[38;5;28mself\u001b[39m\u001b[38;5;241m.\u001b[39ms,\u001b[38;5;28mself\u001b[39m\u001b[38;5;241m.\u001b[39mz,\u001b[38;5;28mself\u001b[39m\u001b[38;5;241m.\u001b[39mx_prop,\u001b[38;5;28mself\u001b[39m\u001b[38;5;241m.\u001b[39mx_prop_n \u001b[38;5;241m=\u001b[39m \u001b[38;5;28mself\u001b[39m\u001b[38;5;241m.\u001b[39mget_linearized_matrices(\u001b[38;5;28mself\u001b[39m\u001b[38;5;241m.\u001b[39mx,\u001b[38;5;28mself\u001b[39m\u001b[38;5;241m.\u001b[39mu,\u001b[38;5;28mself\u001b[39m\u001b[38;5;241m.\u001b[39mdelT,\u001b[38;5;28mself\u001b[39m\u001b[38;5;241m.\u001b[39mtf)\n\u001b[1;32m    307\u001b[0m \u001b[38;5;66;03m# step2. cvxopt\u001b[39;00m\n\u001b[0;32m--> 308\u001b[0m prob_status,l,l_vc,l_tr,\u001b[38;5;28mself\u001b[39m\u001b[38;5;241m.\u001b[39mxnew,\u001b[38;5;28mself\u001b[39m\u001b[38;5;241m.\u001b[39munew,\u001b[38;5;28mself\u001b[39m\u001b[38;5;241m.\u001b[39mvcnew,error \u001b[38;5;241m=\u001b[39m \u001b[38;5;28;43mself\u001b[39;49m\u001b[38;5;241;43m.\u001b[39;49m\u001b[43mcvxopt\u001b[49m\u001b[43m(\u001b[49m\u001b[43m)\u001b[49m\n\u001b[1;32m    309\u001b[0m \u001b[38;5;28;01mif\u001b[39;00m error \u001b[38;5;241m==\u001b[39m \u001b[38;5;28;01mTrue\u001b[39;00m :\n\u001b[1;32m    310\u001b[0m     total_num_iter \u001b[38;5;241m=\u001b[39m \u001b[38;5;241m1e5\u001b[39m\n",
      "File \u001b[0;32m~/Documents/Code/Personal/SCP/notebooks/../PTR.py:234\u001b[0m, in \u001b[0;36mPTR.cvxopt\u001b[0;34m(self)\u001b[0m\n\u001b[1;32m    231\u001b[0m prob \u001b[38;5;241m=\u001b[39m cvx\u001b[38;5;241m.\u001b[39mProblem(cvx\u001b[38;5;241m.\u001b[39mMinimize(l_all), constraints)\n\u001b[1;32m    233\u001b[0m error \u001b[38;5;241m=\u001b[39m \u001b[38;5;28;01mFalse\u001b[39;00m\n\u001b[0;32m--> 234\u001b[0m \u001b[43mprob\u001b[49m\u001b[38;5;241;43m.\u001b[39;49m\u001b[43msolve\u001b[49m\u001b[43m(\u001b[49m\u001b[43mverbose\u001b[49m\u001b[38;5;241;43m=\u001b[39;49m\u001b[38;5;28;43;01mFalse\u001b[39;49;00m\u001b[43m,\u001b[49m\u001b[43msolver\u001b[49m\u001b[38;5;241;43m=\u001b[39;49m\u001b[43mcvx\u001b[49m\u001b[38;5;241;43m.\u001b[39;49m\u001b[43mMOSEK\u001b[49m\u001b[43m)\u001b[49m\n\u001b[1;32m    235\u001b[0m \u001b[38;5;66;03m# prob.solve(verbose=False,solver=cvx.CPLEX)\u001b[39;00m\n\u001b[1;32m    236\u001b[0m \u001b[38;5;66;03m# prob.solve(verbose=False,solver=cvx.GUROBI)\u001b[39;00m\n\u001b[1;32m    237\u001b[0m \u001b[38;5;66;03m# prob.solve(verbose=False,solver=cvx.ECOS)\u001b[39;00m\n\u001b[1;32m    238\u001b[0m \u001b[38;5;66;03m# prob.solve(verbose=False,solver=cvx.SCS)\u001b[39;00m\n\u001b[1;32m    240\u001b[0m \u001b[38;5;28;01mif\u001b[39;00m prob\u001b[38;5;241m.\u001b[39mstatus \u001b[38;5;241m==\u001b[39m cvx\u001b[38;5;241m.\u001b[39mOPTIMAL_INACCURATE :\n",
      "File \u001b[0;32m/opt/anaconda3/envs/py309/lib/python3.9/site-packages/cvxpy/problems/problem.py:481\u001b[0m, in \u001b[0;36mProblem.solve\u001b[0;34m(self, *args, **kwargs)\u001b[0m\n\u001b[1;32m    479\u001b[0m \u001b[38;5;28;01melse\u001b[39;00m:\n\u001b[1;32m    480\u001b[0m     solve_func \u001b[38;5;241m=\u001b[39m Problem\u001b[38;5;241m.\u001b[39m_solve\n\u001b[0;32m--> 481\u001b[0m \u001b[38;5;28;01mreturn\u001b[39;00m \u001b[43msolve_func\u001b[49m\u001b[43m(\u001b[49m\u001b[38;5;28;43mself\u001b[39;49m\u001b[43m,\u001b[49m\u001b[43m \u001b[49m\u001b[38;5;241;43m*\u001b[39;49m\u001b[43margs\u001b[49m\u001b[43m,\u001b[49m\u001b[43m \u001b[49m\u001b[38;5;241;43m*\u001b[39;49m\u001b[38;5;241;43m*\u001b[39;49m\u001b[43mkwargs\u001b[49m\u001b[43m)\u001b[49m\n",
      "File \u001b[0;32m/opt/anaconda3/envs/py309/lib/python3.9/site-packages/cvxpy/problems/problem.py:1016\u001b[0m, in \u001b[0;36mProblem._solve\u001b[0;34m(self, solver, warm_start, verbose, gp, qcp, requires_grad, enforce_dpp, ignore_dpp, **kwargs)\u001b[0m\n\u001b[1;32m   1012\u001b[0m     s\u001b[38;5;241m.\u001b[39mLOGGER\u001b[38;5;241m.\u001b[39minfo(\n\u001b[1;32m   1013\u001b[0m             \u001b[38;5;124m'\u001b[39m\u001b[38;5;124mInvoking solver \u001b[39m\u001b[38;5;132;01m%s\u001b[39;00m\u001b[38;5;124m  to obtain a solution.\u001b[39m\u001b[38;5;124m'\u001b[39m,\n\u001b[1;32m   1014\u001b[0m             solving_chain\u001b[38;5;241m.\u001b[39mreductions[\u001b[38;5;241m-\u001b[39m\u001b[38;5;241m1\u001b[39m]\u001b[38;5;241m.\u001b[39mname())\n\u001b[1;32m   1015\u001b[0m start \u001b[38;5;241m=\u001b[39m time\u001b[38;5;241m.\u001b[39mtime()\n\u001b[0;32m-> 1016\u001b[0m solution \u001b[38;5;241m=\u001b[39m \u001b[43msolving_chain\u001b[49m\u001b[38;5;241;43m.\u001b[39;49m\u001b[43msolve_via_data\u001b[49m\u001b[43m(\u001b[49m\n\u001b[1;32m   1017\u001b[0m \u001b[43m    \u001b[49m\u001b[38;5;28;43mself\u001b[39;49m\u001b[43m,\u001b[49m\u001b[43m \u001b[49m\u001b[43mdata\u001b[49m\u001b[43m,\u001b[49m\u001b[43m \u001b[49m\u001b[43mwarm_start\u001b[49m\u001b[43m,\u001b[49m\u001b[43m \u001b[49m\u001b[43mverbose\u001b[49m\u001b[43m,\u001b[49m\u001b[43m \u001b[49m\u001b[43mkwargs\u001b[49m\u001b[43m)\u001b[49m\n\u001b[1;32m   1018\u001b[0m end \u001b[38;5;241m=\u001b[39m time\u001b[38;5;241m.\u001b[39mtime()\n\u001b[1;32m   1019\u001b[0m \u001b[38;5;28mself\u001b[39m\u001b[38;5;241m.\u001b[39m_solve_time \u001b[38;5;241m=\u001b[39m end \u001b[38;5;241m-\u001b[39m start\n",
      "File \u001b[0;32m/opt/anaconda3/envs/py309/lib/python3.9/site-packages/cvxpy/reductions/solvers/solving_chain.py:361\u001b[0m, in \u001b[0;36mSolvingChain.solve_via_data\u001b[0;34m(self, problem, data, warm_start, verbose, solver_opts)\u001b[0m\n\u001b[1;32m    325\u001b[0m \u001b[38;5;28;01mdef\u001b[39;00m \u001b[38;5;21msolve_via_data\u001b[39m(\u001b[38;5;28mself\u001b[39m, problem, data, warm_start: \u001b[38;5;28mbool\u001b[39m \u001b[38;5;241m=\u001b[39m \u001b[38;5;28;01mFalse\u001b[39;00m, verbose: \u001b[38;5;28mbool\u001b[39m \u001b[38;5;241m=\u001b[39m \u001b[38;5;28;01mFalse\u001b[39;00m,\n\u001b[1;32m    326\u001b[0m                    solver_opts\u001b[38;5;241m=\u001b[39m{}):\n\u001b[1;32m    327\u001b[0m     \u001b[38;5;124;03m\"\"\"Solves the problem using the data output by the an apply invocation.\u001b[39;00m\n\u001b[1;32m    328\u001b[0m \n\u001b[1;32m    329\u001b[0m \u001b[38;5;124;03m    The semantics are:\u001b[39;00m\n\u001b[0;32m   (...)\u001b[0m\n\u001b[1;32m    359\u001b[0m \u001b[38;5;124;03m        a Solution object.\u001b[39;00m\n\u001b[1;32m    360\u001b[0m \u001b[38;5;124;03m    \"\"\"\u001b[39;00m\n\u001b[0;32m--> 361\u001b[0m     \u001b[38;5;28;01mreturn\u001b[39;00m \u001b[38;5;28;43mself\u001b[39;49m\u001b[38;5;241;43m.\u001b[39;49m\u001b[43msolver\u001b[49m\u001b[38;5;241;43m.\u001b[39;49m\u001b[43msolve_via_data\u001b[49m\u001b[43m(\u001b[49m\u001b[43mdata\u001b[49m\u001b[43m,\u001b[49m\u001b[43m \u001b[49m\u001b[43mwarm_start\u001b[49m\u001b[43m,\u001b[49m\u001b[43m \u001b[49m\u001b[43mverbose\u001b[49m\u001b[43m,\u001b[49m\n\u001b[1;32m    362\u001b[0m \u001b[43m                                      \u001b[49m\u001b[43msolver_opts\u001b[49m\u001b[43m,\u001b[49m\u001b[43m \u001b[49m\u001b[43mproblem\u001b[49m\u001b[38;5;241;43m.\u001b[39;49m\u001b[43m_solver_cache\u001b[49m\u001b[43m)\u001b[49m\n",
      "File \u001b[0;32m/opt/anaconda3/envs/py309/lib/python3.9/site-packages/cvxpy/reductions/solvers/conic_solvers/mosek_conif.py:238\u001b[0m, in \u001b[0;36mMOSEK.solve_via_data\u001b[0;34m(self, data, warm_start, verbose, solver_opts, solver_cache)\u001b[0m\n\u001b[1;32m    236\u001b[0m \u001b[38;5;28;01mif\u001b[39;00m save_file:\n\u001b[1;32m    237\u001b[0m     task\u001b[38;5;241m.\u001b[39mwritedata(save_file)\n\u001b[0;32m--> 238\u001b[0m \u001b[43mtask\u001b[49m\u001b[38;5;241;43m.\u001b[39;49m\u001b[43moptimize\u001b[49m\u001b[43m(\u001b[49m\u001b[43m)\u001b[49m\n\u001b[1;32m    240\u001b[0m \u001b[38;5;28;01mif\u001b[39;00m verbose:\n\u001b[1;32m    241\u001b[0m     task\u001b[38;5;241m.\u001b[39msolutionsummary(mosek\u001b[38;5;241m.\u001b[39mstreamtype\u001b[38;5;241m.\u001b[39mmsg)\n",
      "File \u001b[0;32m/opt/anaconda3/envs/py309/lib/python3.9/site-packages/mosek/__init__.py:10777\u001b[0m, in \u001b[0;36mTask.optimize\u001b[0;34m(self, *args, **kwds)\u001b[0m\n\u001b[1;32m  10770\u001b[0m \u001b[38;5;28;01mdef\u001b[39;00m \u001b[38;5;21moptimize\u001b[39m(\u001b[38;5;28mself\u001b[39m,\u001b[38;5;241m*\u001b[39margs,\u001b[38;5;241m*\u001b[39m\u001b[38;5;241m*\u001b[39mkwds):\n\u001b[1;32m  10771\u001b[0m   \u001b[38;5;124;03m\"\"\"\u001b[39;00m\n\u001b[1;32m  10772\u001b[0m \u001b[38;5;124;03m  Optimizes the problem.\u001b[39;00m\n\u001b[1;32m  10773\u001b[0m \u001b[38;5;124;03m\u001b[39;00m\n\u001b[1;32m  10774\u001b[0m \u001b[38;5;124;03m  optimize() -> (trmcode)\u001b[39;00m\n\u001b[1;32m  10775\u001b[0m \u001b[38;5;124;03m    [trmcode : mosek.rescode]  Is either OK or a termination response code.  \u001b[39;00m\n\u001b[1;32m  10776\u001b[0m \u001b[38;5;124;03m  \"\"\"\u001b[39;00m\n\u001b[0;32m> 10777\u001b[0m   \u001b[38;5;28;01mreturn\u001b[39;00m \u001b[38;5;28;43mself\u001b[39;49m\u001b[38;5;241;43m.\u001b[39;49m\u001b[43m__optimizetrm__1\u001b[49m\u001b[43m(\u001b[49m\u001b[38;5;241;43m*\u001b[39;49m\u001b[43margs\u001b[49m\u001b[43m,\u001b[49m\u001b[38;5;241;43m*\u001b[39;49m\u001b[38;5;241;43m*\u001b[39;49m\u001b[43mkwds\u001b[49m\u001b[43m)\u001b[49m\n",
      "File \u001b[0;32m/opt/anaconda3/envs/py309/lib/python3.9/site-packages/mosek/__init__.py:10766\u001b[0m, in \u001b[0;36mTask.__optimizetrm__1\u001b[0;34m(self)\u001b[0m\n\u001b[1;32m  10764\u001b[0m \u001b[38;5;28;01mif\u001b[39;00m _res_optimizetrm \u001b[38;5;241m!=\u001b[39m \u001b[38;5;241m0\u001b[39m:\n\u001b[1;32m  10765\u001b[0m   _,_msg_optimizetrm \u001b[38;5;241m=\u001b[39m \u001b[38;5;28mself\u001b[39m\u001b[38;5;241m.\u001b[39m__getlasterror(_res_optimizetrm)\n\u001b[0;32m> 10766\u001b[0m   \u001b[38;5;28;01mraise\u001b[39;00m Error(rescode(_res_optimizetrm),_msg_optimizetrm)\n\u001b[1;32m  10767\u001b[0m \u001b[38;5;28;01melse\u001b[39;00m:\n\u001b[1;32m  10768\u001b[0m   (trmcode) \u001b[38;5;241m=\u001b[39m _retargs_optimizetrm\n",
      "\u001b[0;31mError\u001b[0m: rescode.err_missing_license_file(1008): License cannot be located. The default search path is ':/Users/taewankim/mosek/mosek.lic:'."
     ]
    }
   ],
   "source": [
    "i1 = PTR('unicycle',N,tf,max_iter,myModel,myCost,myConst,type_discretization=\"zoh\",\n",
    "          w_c=1,w_vc=1e3,w_tr=1e-1,w_rate=0,\n",
    "         tol_vc=1e-6,tol_tr=1e-3)\n",
    "x,u,xbar,ubar,total_num_iter,flag_boundary,l,l_vc,l_tr,x_traj,u_traj,T_traj = i1.run(x0,u0,xi,xf)\n"
   ]
  },
  {
   "cell_type": "code",
   "execution_count": null,
   "id": "241c2711",
   "metadata": {},
   "outputs": [],
   "source": [
    "t_index = np.array(range(N+1))*delT\n",
    "\n",
    "plt.figure(figsize=(10,10))\n",
    "fS = 18\n",
    "plt.subplot(221)\n",
    "plt.plot(x[:,0], x[:,1],'--', linewidth=2.0)\n",
    "plt.plot(xbar[:,0], xbar[:,1],'-', linewidth=2.0)\n",
    "plt.plot(xf[0],xf[1],\"o\",label='goal')\n",
    "plt.gca().set_aspect('equal', adjustable='box')\n",
    "plt.axis([-3, 3, -3, 3])\n",
    "plt.xlabel('X (m)', fontsize = fS)\n",
    "plt.ylabel('Y (m)', fontsize = fS)\n",
    "plt.subplot(222)\n",
    "plt.plot(t_index, xbar[:,0], linewidth=2.0,label='naive')\n",
    "plt.xlabel('time (s)', fontsize = fS)\n",
    "plt.ylabel('x1 (m)', fontsize = fS)\n",
    "plt.subplot(223)\n",
    "plt.plot(t_index, xbar[:,1], linewidth=2.0,label='naive')\n",
    "plt.xlabel('time (s)', fontsize = fS)\n",
    "plt.ylabel('x2 (m)', fontsize = fS)\n",
    "plt.subplot(224)\n",
    "plt.plot(t_index, xbar[:,2], linewidth=2.0,label='naive')\n",
    "plt.xlabel('time (s)', fontsize = fS)\n",
    "plt.ylabel('x3 (rad)', fontsize = fS)\n",
    "plt.legend(fontsize=fS)\n",
    "plt.show()\n",
    "\n",
    "plt.figure()\n",
    "plt.subplot(121)\n",
    "if i1.type_discretization == \"zoh\" :\n",
    "    plt.step(t_index, [*ubar[:N,0],ubar[N-1,0]],alpha=1.0,where='post',linewidth=2.0)\n",
    "elif i1.type_discretization == \"foh\" :\n",
    "    plt.plot(t_index, ubar[:,0], linewidth=2.0)\n",
    "plt.xlabel('time (s)', fontsize = fS)\n",
    "plt.ylabel('v (m/s)', fontsize = fS)\n",
    "plt.subplot(122)\n",
    "if i1.type_discretization == \"zoh\" :\n",
    "    plt.step(t_index, [*ubar[:N,1],ubar[N-1,1]],alpha=1.0,where='post',linewidth=2.0)\n",
    "elif i1.type_discretization == \"foh\" :\n",
    "    plt.plot(t_index, ubar[:,1], linewidth=2.0)\n",
    "plt.xlabel('time (s)', fontsize = fS)\n",
    "plt.ylabel('w (rad/s)', fontsize = fS)\n",
    "plt.show()"
   ]
  },
  {
   "cell_type": "code",
   "execution_count": null,
   "id": "1f54c20b",
   "metadata": {},
   "outputs": [],
   "source": [
    "# from matplotlib.patches import Rectangle\n",
    "# import imageio\n",
    "# import os"
   ]
  },
  {
   "cell_type": "code",
   "execution_count": null,
   "id": "3bf64bec",
   "metadata": {},
   "outputs": [],
   "source": [
    "# filenames = []\n",
    "# for i in range(N+1) :\n",
    "#     fS = 18\n",
    "#     fig = plt.figure(figsize=(10,10))\n",
    "#     ax = fig.add_subplot(111)\n",
    "#     plt.gca().set_aspect('equal', adjustable='box')\n",
    "#     plt.plot(x[:i+1,0], x[:i+1,1], linewidth=2.0) \n",
    "#     plt.plot(xf[0], xf[1],'*', linewidth=2.0)\n",
    "#     plt.plot(x[i,0], x[i,1],'*', linewidth=2.0) \n",
    "#     plt.plot(x[i,0], x[i,1], marker=(3, 0, x[i,2]*180/np.pi-90), markersize=20, linestyle='None')\n",
    "# #     ax.add_patch(rec)\n",
    "#     plt.axis([-3, 3, -3, 3])\n",
    "#     plt.xlabel('X (m)', fontsize = fS)\n",
    "#     plt.ylabel('Y (m)', fontsize = fS)\n",
    "\n",
    "#     filename = '../images/{:d}.png'.format(i)\n",
    "#     plt.savefig(filename)\n",
    "#     filenames.append(filename)\n",
    "#     plt.close()"
   ]
  },
  {
   "cell_type": "code",
   "execution_count": null,
   "id": "d2eb995f",
   "metadata": {},
   "outputs": [],
   "source": [
    "# with imageio.get_writer('../images/unicycle.gif', mode='I') as writer:\n",
    "#     for filename in filenames:\n",
    "#         image = imageio.imread(filename)\n",
    "#         writer.append_data(image)\n",
    "# for filename in set(filenames):\n",
    "#     os.remove(filename)"
   ]
  },
  {
   "cell_type": "code",
   "execution_count": null,
   "id": "0c67b533",
   "metadata": {},
   "outputs": [],
   "source": []
  }
 ],
 "metadata": {
  "kernelspec": {
   "display_name": "Python 3 (ipykernel)",
   "language": "python",
   "name": "python3"
  },
  "language_info": {
   "codemirror_mode": {
    "name": "ipython",
    "version": 3
   },
   "file_extension": ".py",
   "mimetype": "text/x-python",
   "name": "python",
   "nbconvert_exporter": "python",
   "pygments_lexer": "ipython3",
   "version": "3.9.13"
  }
 },
 "nbformat": 4,
 "nbformat_minor": 5
}
