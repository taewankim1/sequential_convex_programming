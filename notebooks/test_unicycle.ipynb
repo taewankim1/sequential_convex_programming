{
 "cells": [
  {
   "cell_type": "code",
   "execution_count": 1,
   "metadata": {},
   "outputs": [],
   "source": [
    "import matplotlib.pyplot as plt\n",
    "%matplotlib inline  \n",
    "%load_ext autoreload\n",
    "%autoreload 2\n",
    "import numpy as np\n",
    "import time\n",
    "import random\n",
    "def print_np(x):\n",
    "    print (\"Type is %s\" % (type(x)))\n",
    "    print (\"Shape is %s\" % (x.shape,))\n",
    "#     print (\"Values are: \\n%s\" % (x))"
   ]
  },
  {
   "cell_type": "code",
   "execution_count": 2,
   "metadata": {},
   "outputs": [],
   "source": [
    "import sys\n",
    "# sys.path.append('../')\n",
    "sys.path.append('../')\n",
    "sys.path.append('../model')\n",
    "sys.path.append('../cost')\n",
    "sys.path.append('../constraints')\n",
    "import UnicycleModel\n",
    "import UnicycleCost\n",
    "import UnicycleConstraints\n",
    "from scipy.integrate import solve_ivp\n",
    "from PTR import PTR"
   ]
  },
  {
   "cell_type": "code",
   "execution_count": 3,
   "metadata": {},
   "outputs": [],
   "source": [
    "ix = 3\n",
    "iu = 2\n",
    "ih = 2\n",
    "N = 30\n",
    "tf = 3\n",
    "delT = tf/N\n",
    "max_iter = 20"
   ]
  },
  {
   "cell_type": "code",
   "execution_count": 4,
   "metadata": {},
   "outputs": [],
   "source": [
    "xi = np.zeros(3)\n",
    "xi[0] = -2.0\n",
    "xi[1] = -2.0 \n",
    "xi[2] = 0\n",
    "\n",
    "xf = np.zeros(3)\n",
    "xf[0] = 2.0\n",
    "xf[1] = 2.0\n",
    "xf[2] = 0\n",
    "\n",
    "myModel = UnicycleModel.unicycle('Hello',ix,iu,'numeric_central')\n",
    "myCost = UnicycleCost.unicycle('Hello',ix,iu,N)\n",
    "myConst = UnicycleConstraints.UnicycleConstraints('Hello',ix,iu)\n",
    "\n",
    "x0 = np.zeros((N+1,ix))\n",
    "for i in range(N+1) :\n",
    "    x0[i] = (N-i)/N * xi + i/N * xf\n",
    "# u0 = np.random.rand(N,iu)\n",
    "u0 = np.zeros((N+1,iu))"
   ]
  },
  {
   "cell_type": "code",
   "execution_count": 5,
   "metadata": {
    "scrolled": false
   },
   "outputs": [
    {
     "name": "stdout",
     "output_type": "stream",
     "text": [
      "Set parameter Username\n",
      "Academic license - for non-commercial use only - expires 2023-04-06\n",
      "iteration   total_cost        cost        ||vc||     ||tr||       reduction   w_tr        bounary\n",
      "1           4059.661          54.237      4           54.2        -3.06e+03   0.100       0(0.133)\n",
      "2           102.640           95.011      2.13e-13    76.3        3.96e+03    0.100       0(0.142)\n",
      "3           123.899           120.508     4.16e-11    33.9        -21.3       0.100       0(0.0908)\n",
      "4           133.236           132.545     4.63e-12    6.91        -9.34       0.100       0(0.0238)\n",
      "5           141.347           141.263     2.97e-14    0.844       -8.11       0.100       0(0.00322)\n",
      "6           141.764           141.751     9.13e-14    0.13        -0.417      0.100       1(0.000708)\n",
      "7           141.913           141.909     2.1e-13     0.0368      -0.149      0.100       1(0.000193)\n",
      "8           141.952           141.951     1.14e-12    0.0104      -0.039      0.100       1(5.8e-05)\n",
      "9           141.963           141.963     1.06e-13    0.00303     -0.0118     0.100       1(1.69e-05)\n",
      "10          141.967           141.967     5.37e-15    0.000877    -0.00336    0.100       1(4.96e-06)\n",
      "SUCCEESS: virtual control and trust region < tol\n"
     ]
    }
   ],
   "source": [
    "i1 = PTR('unicycle',N,tf,max_iter,myModel,myCost,myConst,type_discretization=\"foh\",\n",
    "          w_c=1,w_vc=1e3,w_tr=1e-1,w_rate=0,\n",
    "         tol_vc=1e-6,tol_tr=1e-3)\n",
    "x,u,xbar,ubar,total_num_iter,flag_boundary,l,l_vc,l_tr,x_traj,u_traj,T_traj = i1.run(x0,u0,xi,xf)\n"
   ]
  },
  {
   "cell_type": "code",
   "execution_count": null,
   "metadata": {},
   "outputs": [],
   "source": [
    "plt.figure(figsize=(10,10))\n",
    "fS = 18\n",
    "plt.subplot(221)\n",
    "plt.plot(x[:,0], x[:,1],'--', linewidth=2.0)\n",
    "plt.plot(xbar[:,0], xbar[:,1],'-', linewidth=2.0)\n",
    "plt.plot(xf[0],xf[1],\"o\",label='goal')\n",
    "plt.gca().set_aspect('equal', adjustable='box')\n",
    "plt.axis([-3, 3, -3, 3])\n",
    "plt.xlabel('X (m)', fontsize = fS)\n",
    "plt.ylabel('Y (m)', fontsize = fS)\n",
    "plt.subplot(222)\n",
    "plt.plot(np.array(range(N+1))*0.1, x[:,0], linewidth=2.0,label='naive')\n",
    "plt.xlabel('time (s)', fontsize = fS)\n",
    "plt.ylabel('x1 (m)', fontsize = fS)\n",
    "plt.subplot(223)\n",
    "plt.plot(np.array(range(N+1))*0.1, x[:,1], linewidth=2.0,label='naive')\n",
    "plt.xlabel('time (s)', fontsize = fS)\n",
    "plt.ylabel('x2 (m)', fontsize = fS)\n",
    "plt.subplot(224)\n",
    "plt.plot(np.array(range(N+1))*0.1, x[:,2], linewidth=2.0,label='naive')\n",
    "plt.xlabel('time (s)', fontsize = fS)\n",
    "plt.ylabel('x3 (rad)', fontsize = fS)\n",
    "plt.legend(fontsize=fS)\n",
    "plt.show()\n",
    "\n",
    "plt.figure()\n",
    "plt.subplot(121)\n",
    "plt.plot(np.array(range(N+1))*0.1, u[:,0], linewidth=2.0)\n",
    "plt.xlabel('time (s)', fontsize = fS)\n",
    "plt.ylabel('v (m/s)', fontsize = fS)\n",
    "plt.subplot(122)\n",
    "plt.plot(np.array(range(N+1))*0.1, u[:,1], linewidth=2.0)\n",
    "plt.xlabel('time (s)', fontsize = fS)\n",
    "plt.ylabel('w (rad/s)', fontsize = fS)\n",
    "plt.show()"
   ]
  },
  {
   "cell_type": "code",
   "execution_count": null,
   "metadata": {},
   "outputs": [],
   "source": [
    "# from matplotlib.patches import Rectangle\n",
    "# import imageio\n",
    "# import os"
   ]
  },
  {
   "cell_type": "code",
   "execution_count": null,
   "metadata": {},
   "outputs": [],
   "source": [
    "# filenames = []\n",
    "# for i in range(N+1) :\n",
    "#     fS = 18\n",
    "#     fig = plt.figure(figsize=(10,10))\n",
    "#     ax = fig.add_subplot(111)\n",
    "#     plt.gca().set_aspect('equal', adjustable='box')\n",
    "#     plt.plot(x[:i+1,0], x[:i+1,1], linewidth=2.0) \n",
    "#     plt.plot(xf[0], xf[1],'*', linewidth=2.0)\n",
    "#     plt.plot(x[i,0], x[i,1],'*', linewidth=2.0) \n",
    "#     plt.plot(x[i,0], x[i,1], marker=(3, 0, x[i,2]*180/np.pi-90), markersize=20, linestyle='None')\n",
    "# #     ax.add_patch(rec)\n",
    "#     plt.axis([-3, 3, -3, 3])\n",
    "#     plt.xlabel('X (m)', fontsize = fS)\n",
    "#     plt.ylabel('Y (m)', fontsize = fS)\n",
    "\n",
    "#     filename = '../images/{:d}.png'.format(i)\n",
    "#     plt.savefig(filename)\n",
    "#     filenames.append(filename)\n",
    "#     plt.close()"
   ]
  },
  {
   "cell_type": "code",
   "execution_count": null,
   "metadata": {},
   "outputs": [],
   "source": [
    "# with imageio.get_writer('../images/unicycle.gif', mode='I') as writer:\n",
    "#     for filename in filenames:\n",
    "#         image = imageio.imread(filename)\n",
    "#         writer.append_data(image)\n",
    "# for filename in set(filenames):\n",
    "#     os.remove(filename)"
   ]
  },
  {
   "cell_type": "code",
   "execution_count": null,
   "metadata": {},
   "outputs": [],
   "source": []
  }
 ],
 "metadata": {
  "kernelspec": {
   "display_name": "Python 3",
   "language": "python",
   "name": "python3"
  },
  "language_info": {
   "codemirror_mode": {
    "name": "ipython",
    "version": 3
   },
   "file_extension": ".py",
   "mimetype": "text/x-python",
   "name": "python",
   "nbconvert_exporter": "python",
   "pygments_lexer": "ipython3",
   "version": "3.8.13"
  }
 },
 "nbformat": 4,
 "nbformat_minor": 5
}
