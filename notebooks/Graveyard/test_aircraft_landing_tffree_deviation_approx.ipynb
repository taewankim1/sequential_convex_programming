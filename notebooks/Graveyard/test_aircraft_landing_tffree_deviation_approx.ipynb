{
 "cells": [
  {
   "cell_type": "code",
   "execution_count": null,
   "id": "specialized-kentucky",
   "metadata": {},
   "outputs": [],
   "source": [
    "import matplotlib.pyplot as plt\n",
    "%matplotlib inline\n",
    "# %matplotlib qt\n",
    "%load_ext autoreload\n",
    "%autoreload 2\n",
    "import numpy as np\n",
    "import time\n",
    "import random\n",
    "def print_np(x):\n",
    "    print (\"Type is %s\" % (type(x)))\n",
    "    print (\"Shape is %s\" % (x.shape,))\n",
    "#     print (\"Values are: \\n%s\" % (x))"
   ]
  },
  {
   "cell_type": "code",
   "execution_count": null,
   "id": "divided-premium",
   "metadata": {
    "scrolled": false
   },
   "outputs": [],
   "source": [
    "import sys\n",
    "# sys.path.append('../')\n",
    "sys.path.append('../')\n",
    "sys.path.append('../model')\n",
    "sys.path.append('../cost')\n",
    "sys.path.append('../constraints')\n",
    "sys.path.append('../utils')\n",
    "import Aircraft3dofApproxModel\n",
    "import Aircraft3dofModel\n",
    "import FinaltimeFreeCost\n",
    "import Aircraft3dofConstraints\n",
    "from scipy.integrate import solve_ivp\n",
    "from SCP_buffer_deviation import SCP_buffer_deviation\n",
    "from Scaling import TrajectoryScaling"
   ]
  },
  {
   "cell_type": "code",
   "execution_count": null,
   "id": "german-ferry",
   "metadata": {},
   "outputs": [],
   "source": [
    "ix = 6\n",
    "iu = 3\n",
    "tf = 600\n",
    "N = 100\n",
    "delT = tf/N\n",
    "max_iter = 1"
   ]
  },
  {
   "cell_type": "code",
   "execution_count": null,
   "id": "inside-vector",
   "metadata": {},
   "outputs": [],
   "source": [
    "# myModelApprox = Aircraft3dofApproxModel.Aircraft3dofApproxModel('Hello',ix,iu,linearization=\"numeric_central\")\n",
    "myModelApprox = Aircraft3dofModel.Aircraft3dofContDensity('Hello',ix,iu,linearization=\"numeric_central\")\n",
    "myModel = Aircraft3dofModel.Aircraft3dof('Hello',ix,iu,linearization=\"analytic\")\n",
    "myCost = FinaltimeFreeCost.Finaltime('Hello',ix,iu,N)\n",
    "myConst = Aircraft3dofConstraints.Aircraft3dof('Hello',ix,iu)\n",
    "\n",
    "x_min = np.zeros(ix)\n",
    "x_max = np.array([110*1e3,60*1e3,10*1e3,240,np.deg2rad(20),np.pi/2])\n",
    "u_min = np.array([0,0,0])\n",
    "u_max = np.array([1.52,np.deg2rad(15),1]) \n",
    "\n",
    "myScaling = TrajectoryScaling(x_min,x_max,u_min,u_max,tf)"
   ]
  },
  {
   "cell_type": "code",
   "execution_count": null,
   "id": "empirical-replica",
   "metadata": {},
   "outputs": [],
   "source": [
    "xi = np.array([0*1e3,0*1e3,10*1e3,240,0,0])\n",
    "xf = np.array([110*1e3,-60*1e3,0,95,-np.deg2rad(3),np.deg2rad(80)])\n",
    "# xf = np.array([110*1e3,-0*1e3,0,95,-np.deg2rad(0),np.deg2rad(0)])\n",
    "\n",
    "x0 = np.zeros((N+1,ix))\n",
    "for i in range(N+1) :\n",
    "    x0[i] = (N-i)/N * xi + i/N * xf\n",
    "\n",
    "u0 = np.zeros((N+1,iu))\n",
    "ui = np.array([0.0,np.deg2rad(0),0])\n",
    "uf = np.array([0.0,-np.deg2rad(0),0])\n",
    "\n",
    "for i in range(N+1) :\n",
    "    u0[i] = (N-i)/N * ui + i/N * uf\n",
    "    \n",
    "# idx_c = int(26 * N / 50)\n",
    "# for i in range(0,idx_c+1) :\n",
    "#     u0[i,0] = (idx_c-i)/idx_c * 0.3 + i/idx_c * 0.15\n",
    "# for i in range(idx_c+1,N+1) :\n",
    "#     u0[i,0] = 1/2800* (i-idx_c-1)**2 + 0.15\n",
    "    \n",
    "# u0[0:10,1] = myConst.phi_max\n",
    "# u0[-10:,1] = myConst.phi_min\n",
    "    \n",
    "    \n",
    "# u0[0:3,2] = myConst.T_max\n",
    "\n",
    "# u0[3:70,2] = 0.3"
   ]
  },
  {
   "cell_type": "code",
   "execution_count": null,
   "id": "better-dating",
   "metadata": {
    "scrolled": false
   },
   "outputs": [],
   "source": [
    "# w_tr for time is 1\n",
    "i1 = SCP_buffer_deviation('hello',N,tf,max_iter,myModelApprox,myCost,myConst,myScaling,\n",
    "          type_discretization=\"foh\",w_c=2,w_bf=1e3,w_tr=1e2,tol_bf=1e-6,tol_tr=1e-6,tol_bc=1)\n",
    "x,u,xbar,ubar,Tbar,total_num_iter,flag_boundary,l,l_vc,l_tr,x_traj,u_traj  = i1.run(x0,u0,xi,xf)"
   ]
  },
  {
   "cell_type": "code",
   "execution_count": null,
   "id": "075a083f",
   "metadata": {},
   "outputs": [],
   "source": [
    "print(np.sum(Tbar))"
   ]
  },
  {
   "cell_type": "code",
   "execution_count": null,
   "id": "mental-mitchell",
   "metadata": {},
   "outputs": [],
   "source": [
    "t_index = [np.sum(Tbar[:i])  for i in range(N+1)]\n",
    "fig = plt.figure(1,figsize=(15,7))\n",
    "ax = fig.add_subplot(111, projection='3d')\n",
    "\n",
    "ax.set_xlabel('X')\n",
    "ax.set_ylabel('Y')\n",
    "ax.set_zlabel('Z')\n",
    "\n",
    "ax.plot(x[:, 0], x[:, 1], x[:, 2],label='single shooting')\n",
    "ax.plot(xbar[:, 0], xbar[:, 1], xbar[:, 2],label='solution')\n",
    "plt.legend()\n",
    "fig = plt.figure(2,figsize=(15,5))\n",
    "ax = fig.add_subplot(131)\n",
    "ax.plot(x[:, 0], x[:, 1],label='single shooting')\n",
    "ax.plot(xbar[:, 0], xbar[:, 1],label='solution')\n",
    "ax.set_xlabel('X')\n",
    "ax.set_ylabel('Y')\n",
    "plt.legend()\n",
    "ax = fig.add_subplot(132)\n",
    "ax.plot(x[:, 1], x[:, 2],label='single shooting')\n",
    "ax.plot(xbar[:, 1], xbar[:, 2],label='solution')\n",
    "ax.set_xlabel('Y')\n",
    "ax.set_ylabel('Z')\n",
    "ax = fig.add_subplot(133)\n",
    "ax.plot(x[:, 0], x[:, 2],label='single shooting')\n",
    "ax.plot(xbar[:, 0], xbar[:, 2],label='solution')\n",
    "ax.set_xlabel('X')\n",
    "ax.set_ylabel('Z')\n",
    "plt.legend()\n",
    "# ax.plot(xbar[:, 0], xbar[:, 1], xbar[:, 2],'o')"
   ]
  },
  {
   "cell_type": "code",
   "execution_count": null,
   "id": "909e1389",
   "metadata": {},
   "outputs": [],
   "source": [
    "np.abs(x[-1] - xbar[-1])"
   ]
  },
  {
   "cell_type": "code",
   "execution_count": null,
   "id": "sunset-belfast",
   "metadata": {
    "scrolled": false
   },
   "outputs": [],
   "source": [
    "plt.figure(figsize=(15,15))\n",
    "plt.subplot(331)\n",
    "plt.plot(t_index,xbar[:,0],label='solution')\n",
    "plt.plot(t_index,x[:,0],'--',label='single shooting')\n",
    "plt.legend(fontsize=15)\n",
    "plt.title('x (m)')\n",
    "\n",
    "plt.subplot(332)\n",
    "plt.plot(t_index,xbar[:,1])\n",
    "plt.plot(t_index,x[:,1],'--')\n",
    "plt.title('y (m)')\n",
    "\n",
    "plt.subplot(333)\n",
    "plt.plot(t_index,xbar[:,2])\n",
    "plt.plot(t_index,x[:,2],'--')\n",
    "plt.title('z (m)')\n",
    "\n",
    "\n",
    "plt.subplot(334)\n",
    "plt.plot(t_index,xbar[:,3])\n",
    "plt.plot(t_index,x[:,3],'--')\n",
    "plt.plot(t_index,ubar[:,2]*0 + myConst.v_max,'--',color='tab:red')\n",
    "plt.plot(t_index,ubar[:,2]*0 + myConst.v_min,'--',color='tab:red')\n",
    "plt.title('velocity (m/s)')\n",
    "\n",
    "plt.subplot(335)\n",
    "plt.plot(t_index,xbar[:,4])\n",
    "plt.plot(t_index,x[:,4],'--')\n",
    "plt.plot(t_index,ubar[:,2]*0 + myConst.gamma_max,'--',color='tab:red')\n",
    "plt.plot(t_index,ubar[:,2]*0 + myConst.gamma_min,'--',color='tab:red')\n",
    "plt.title('gamma (rad)')\n",
    "\n",
    "plt.subplot(336)\n",
    "plt.plot(t_index,xbar[:,5])\n",
    "plt.plot(t_index,x[:,5],'--')\n",
    "plt.title('psi (rad)')\n",
    "\n",
    "\n",
    "t_const_index = np.array([i for i in range(N+1)]) / N * t_index[-1]\n",
    "plt.subplot(337)\n",
    "plt.plot(t_index,ubar[:,0],'o-')\n",
    "# plt.plot(t_index,ubar[:,2]*0 + myConst.CL_max,'--',color='tab:red')\n",
    "# plt.plot(t_index,ubar[:,2]*0 + myConst.CL_min,'--',color='tab:red')\n",
    "plt.title('CL')\n",
    "plt.plot(t_const_index,u0[:,0],'--',label='initial')\n",
    "plt.legend(fontsize=15)\n",
    "plt.subplot(338)\n",
    "plt.plot(t_index,ubar[:,1],'o-')\n",
    "plt.plot(t_index,ubar[:,2]*0 + myConst.phi_max,'--',color='tab:red')\n",
    "plt.plot(t_index,ubar[:,2]*0 + myConst.phi_min,'--',color='tab:red')\n",
    "plt.title('phi (rad)')\n",
    "plt.plot(t_const_index,u0[:,1],'--',label='initial')\n",
    "plt.subplot(339)\n",
    "plt.plot(t_index,ubar[:,2],'o-')\n",
    "plt.plot(t_index,ubar[:,2]*0 + myConst.T_max,'--',color='tab:red')\n",
    "plt.plot(t_index,ubar[:,2]*0 + myConst.T_min,'--',color='tab:red')\n",
    "plt.title('thrust (N)')\n",
    "plt.plot(t_const_index,u0[:,2],'--',label='initial')\n",
    "plt.figure()\n",
    "plt.plot(t_index,np.array(t_index)*0,'o-')"
   ]
  },
  {
   "cell_type": "code",
   "execution_count": null,
   "id": "8f4c19be",
   "metadata": {},
   "outputs": [],
   "source": [
    "for ubar_ in u_traj[0:5] :\n",
    "    plt.plot(t_index,ubar_[:,0],alpha=0.5,color='tab:blue')\n",
    "# plt.title('CL')"
   ]
  },
  {
   "cell_type": "code",
   "execution_count": null,
   "id": "84e0eabe",
   "metadata": {},
   "outputs": [],
   "source": [
    "T = 15.04 - 0.00649 * xbar[:,2] # celsius\n",
    "p = 101.29 * np.power((T+273.1)/288.08,5.256)\n",
    "rho = p / (0.2869 * (T + 273.1))\n",
    "\n",
    "F_lift = 0.5 * rho * xbar[:,3] * xbar[:,3] * myModel.Sw * ubar[:,0]\n",
    "F_draf = 0.5 * rho * xbar[:,3] * xbar[:,3] * myModel.Sw * (myModel.CD0 + myModel.K  * ubar[:,0] * ubar[:,0])"
   ]
  },
  {
   "cell_type": "code",
   "execution_count": null,
   "id": "6c4c81c2",
   "metadata": {},
   "outputs": [],
   "source": [
    "plt.figure(figsize=(7,7))\n",
    "plt.plot(t_index,rho)"
   ]
  },
  {
   "cell_type": "code",
   "execution_count": null,
   "id": "d33df785",
   "metadata": {},
   "outputs": [],
   "source": [
    "plt.figure(figsize=(15,15))\n",
    "plt.subplot(338)\n",
    "plt.plot(t_index,F_lift)\n",
    "plt.title('Lift force (N)')\n",
    "\n",
    "plt.subplot(339)\n",
    "plt.plot(t_index,F_draf)\n",
    "plt.title('Drag force (N)')"
   ]
  },
  {
   "cell_type": "code",
   "execution_count": null,
   "id": "sustained-tuition",
   "metadata": {},
   "outputs": [],
   "source": []
  },
  {
   "cell_type": "code",
   "execution_count": null,
   "id": "c7845c84",
   "metadata": {},
   "outputs": [],
   "source": [
    "a = np.random.randn(3,2,3)\n",
    "print(a)\n",
    "print()\n",
    "b = np.array([1,2,3])\n",
    "print((a.T*b).T)"
   ]
  },
  {
   "cell_type": "code",
   "execution_count": null,
   "id": "5c95b088",
   "metadata": {},
   "outputs": [],
   "source": []
  }
 ],
 "metadata": {
  "kernelspec": {
   "display_name": "Python 3 (ipykernel)",
   "language": "python",
   "name": "python3"
  },
  "language_info": {
   "codemirror_mode": {
    "name": "ipython",
    "version": 3
   },
   "file_extension": ".py",
   "mimetype": "text/x-python",
   "name": "python",
   "nbconvert_exporter": "python",
   "pygments_lexer": "ipython3",
   "version": "3.8.12"
  }
 },
 "nbformat": 4,
 "nbformat_minor": 5
}
