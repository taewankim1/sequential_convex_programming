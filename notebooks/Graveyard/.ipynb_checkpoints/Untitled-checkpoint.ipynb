{
 "cells": [
  {
   "cell_type": "code",
   "execution_count": 1,
   "id": "stable-newsletter",
   "metadata": {},
   "outputs": [],
   "source": [
    "import matplotlib.pyplot as plt\n",
    "%matplotlib inline\n",
    "# %matplotlib qt\n",
    "%load_ext autoreload\n",
    "%autoreload 2\n",
    "import numpy as np\n",
    "import time\n",
    "import random\n",
    "def print_np(x):\n",
    "    print (\"Type is %s\" % (type(x)))\n",
    "    print (\"Shape is %s\" % (x.shape,))\n",
    "#     print (\"Values are: \\n%s\" % (x))"
   ]
  },
  {
   "cell_type": "code",
   "execution_count": 125,
   "id": "blessed-child",
   "metadata": {},
   "outputs": [],
   "source": [
    "import sys\n",
    "sys.path.append('../../')\n",
    "sys.path.append('../../model')\n",
    "sys.path.append('../../cost')\n",
    "sys.path.append('../../constraints')\n",
    "sys.path.append('../../utils')\n",
    "import UnicycleModel\n",
    "import UnicycleCost\n",
    "import UnicycleConstraints\n",
    "from Scvx_tf_free import Scvx_tf_free\n",
    "from Scaling import TrajectoryScaling\n",
    "import time"
   ]
  },
  {
   "cell_type": "code",
   "execution_count": 5,
   "id": "crude-detroit",
   "metadata": {},
   "outputs": [],
   "source": [
    "ix = 3\n",
    "iu = 2\n",
    "ih = 2\n",
    "N = 100\n",
    "delT = 0.1\n",
    "max_iter = 30"
   ]
  },
  {
   "cell_type": "code",
   "execution_count": 126,
   "id": "static-depth",
   "metadata": {},
   "outputs": [],
   "source": [
    "import jax.numpy as jnp\n",
    "from jax import grad, jit, vmap\n",
    "def uni(y) :\n",
    "    x,u = y\n",
    "    # state & input\n",
    "    x1 = x[0]\n",
    "    x2 = x[1]\n",
    "    x3 = x[2]\n",
    "\n",
    "    v = u[0]\n",
    "    w = u[1]\n",
    "    \n",
    "    f = jnp.zeros_like(x)\n",
    "    f = f.at[0].set(v * jnp.cos(x3))\n",
    "    f = f.at[1].set(v * jnp.sin(x3))\n",
    "    f = f.at[2].set(w)\n",
    "    return f"
   ]
  },
  {
   "cell_type": "code",
   "execution_count": 155,
   "id": "still-error",
   "metadata": {},
   "outputs": [],
   "source": [
    "myModel = UnicycleModel.unicycle('Hello',ix,iu,'numeric_central')\n",
    "myCost = UnicycleCost.unicycle('Hello',ix,iu,N)\n",
    "myConst = UnicycleConstraints.UnicycleConstraints('Hello',ix,iu)\n",
    "\n",
    "x0 = np.random.randn(N+1,ix)*100\n",
    "u0 = np.random.randn(N+1,iu)*100\n",
    "# u0[:,0] = 1\n",
    "# u0[:,1] = 1.5"
   ]
  },
  {
   "cell_type": "code",
   "execution_count": 156,
   "id": "given-skating",
   "metadata": {},
   "outputs": [
    {
     "name": "stdout",
     "output_type": "stream",
     "text": [
      "0.0006499290466308594\n"
     ]
    }
   ],
   "source": [
    "start = time.time()\n",
    "A,B = myModel.diff_numeric(x0,u0,discrete=False)\n",
    "end = time.time()\n",
    "print(end - start)"
   ]
  },
  {
   "cell_type": "code",
   "execution_count": 157,
   "id": "fourth-military",
   "metadata": {},
   "outputs": [],
   "source": [
    "from jax import jacfwd, jacrev"
   ]
  },
  {
   "cell_type": "code",
   "execution_count": 158,
   "id": "intended-transition",
   "metadata": {
    "scrolled": true
   },
   "outputs": [
    {
     "name": "stdout",
     "output_type": "stream",
     "text": [
      "0.03640484809875488\n"
     ]
    }
   ],
   "source": [
    "inputs = (x0,u0)\n",
    "start = time.time()\n",
    "jacobians = vmap(partial(jacfwd(uni)))(inputs)\n",
    "end = time.time()\n",
    "print(end - start)\n",
    "A_,B_ = jacobians"
   ]
  },
  {
   "cell_type": "code",
   "execution_count": 159,
   "id": "going-greece",
   "metadata": {},
   "outputs": [
    {
     "data": {
      "text/plain": [
       "10612.752303001977"
      ]
     },
     "execution_count": 159,
     "metadata": {},
     "output_type": "execute_result"
    }
   ],
   "source": [
    "np.sum(np.abs(A))"
   ]
  },
  {
   "cell_type": "code",
   "execution_count": 160,
   "id": "right-domain",
   "metadata": {},
   "outputs": [
    {
     "data": {
      "text/plain": [
       "0.042692766"
      ]
     },
     "execution_count": 160,
     "metadata": {},
     "output_type": "execute_result"
    }
   ],
   "source": [
    "np.sum(np.abs(A-A_))"
   ]
  },
  {
   "cell_type": "code",
   "execution_count": 161,
   "id": "moral-billion",
   "metadata": {},
   "outputs": [
    {
     "data": {
      "text/plain": [
       "0.00020028185"
      ]
     },
     "execution_count": 161,
     "metadata": {},
     "output_type": "execute_result"
    }
   ],
   "source": [
    "np.sum(np.abs(B-B_))"
   ]
  },
  {
   "cell_type": "code",
   "execution_count": null,
   "id": "adequate-heating",
   "metadata": {},
   "outputs": [],
   "source": []
  }
 ],
 "metadata": {
  "kernelspec": {
   "display_name": "Python 3",
   "language": "python",
   "name": "python3"
  },
  "language_info": {
   "codemirror_mode": {
    "name": "ipython",
    "version": 3
   },
   "file_extension": ".py",
   "mimetype": "text/x-python",
   "name": "python",
   "nbconvert_exporter": "python",
   "pygments_lexer": "ipython3",
   "version": "3.8.5"
  }
 },
 "nbformat": 4,
 "nbformat_minor": 5
}
