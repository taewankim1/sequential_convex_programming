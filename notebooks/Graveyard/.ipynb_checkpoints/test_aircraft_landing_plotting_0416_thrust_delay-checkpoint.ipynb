{
 "cells": [
  {
   "cell_type": "code",
   "execution_count": null,
   "metadata": {},
   "outputs": [],
   "source": [
    "import matplotlib.pyplot as plt\n",
    "%matplotlib inline\n",
    "# %matplotlib qt\n",
    "%load_ext autoreload\n",
    "%autoreload 2\n",
    "import numpy as np\n",
    "import time\n",
    "import random\n",
    "def print_np(x):\n",
    "    print (\"Type is %s\" % (type(x)))\n",
    "    print (\"Shape is %s\" % (x.shape,))\n",
    "#     print (\"Values are: \\n%s\" % (x))"
   ]
  },
  {
   "cell_type": "code",
   "execution_count": null,
   "metadata": {
    "scrolled": false
   },
   "outputs": [],
   "source": [
    "import sys\n",
    "PATH_SCVX = '../../airplane_landing/'\n",
    "sys.path.append(PATH_SCVX)\n",
    "sys.path.append(PATH_SCVX + '/model')\n",
    "sys.path.append(PATH_SCVX + '/cost')\n",
    "sys.path.append(PATH_SCVX + '/constraints')\n",
    "sys.path.append(PATH_SCVX + '/utils')\n",
    "# sys.path.append('../')\n",
    "# sys.path.append('../model')\n",
    "# sys.path.append('../cost')\n",
    "# sys.path.append('../constraints')\n",
    "# sys.path.append('../utils')\n",
    "import Aircraft3dofModel\n",
    "import FinaltimeFreeCost\n",
    "import Aircraft3dofCost\n",
    "import Aircraft3dofConstraints\n",
    "from scipy.integrate import solve_ivp\n",
    "from PTR_tffree import PTR_tffree\n",
    "from PTR import PTR\n",
    "from Scaling import TrajectoryScaling\n",
    "from matplotlib.patches import Ellipse"
   ]
  },
  {
   "cell_type": "code",
   "execution_count": null,
   "metadata": {},
   "outputs": [],
   "source": [
    "ix = 6\n",
    "iu = 3\n",
    "tf = 600\n",
    "N = 100\n",
    "delT = tf/N\n",
    "max_iter = 40\n",
    "\n"
   ]
  },
  {
   "cell_type": "code",
   "execution_count": null,
   "metadata": {},
   "outputs": [],
   "source": [
    "def get_H_obs(rx,ry) :\n",
    "    return np.diag([1/rx,1/ry])\n",
    "# obstacle\n",
    "c_list = []\n",
    "H_list = []\n",
    "c1 = [30*1e3,-10*1e3]\n",
    "H1 = get_H_obs(10*1e3,10*1e3)\n",
    "c_list.append(c1)\n",
    "H_list.append(H1)\n",
    "c2 = [70*1e3,-40*1e3]\n",
    "H2 = get_H_obs(10*1e3,10*1e3)\n",
    "c_list.append(c2)\n",
    "H_list.append(H2)"
   ]
  },
  {
   "cell_type": "code",
   "execution_count": null,
   "metadata": {},
   "outputs": [],
   "source": [
    "myModel = Aircraft3dofModel.Aircraft3dof('Hello',ix,iu,linearization=\"numeric_central\")\n",
    "# myCost_time = FinaltimeFreeCost.Finaltime('Hello',ix,iu,N)\n",
    "myCost_fuel = Aircraft3dofCost.Aircraft3dof('Hello',ix,iu,N)\n",
    "# myConst = Aircraft3dofConstraints.Aircraft3dof('Hello',ix,iu)\n",
    "myConst = Aircraft3dofConstraints.Aircraft3dofObstacleAvoidance('Hello',ix,iu,c_list,H_list)\n",
    "\n",
    "x_max = np.array([110*1e3,60*1e3,10*1e3,240,np.deg2rad(20),np.pi/2])\n",
    "x_min = np.zeros(ix)\n",
    "# x_min = -x_max\n",
    "u_max = np.array([1.52,np.deg2rad(15),1]) \n",
    "u_min = np.array([0,0,0])\n",
    "# u_min = -u_max\n",
    "\n",
    "myScaling = TrajectoryScaling(x_min,x_max,u_min,u_max,tf)\n",
    "Sx,iSx,sx,Su,iSu,su = myScaling.get_scaling()"
   ]
  },
  {
   "cell_type": "code",
   "execution_count": null,
   "metadata": {},
   "outputs": [],
   "source": [
    "xi = np.array([0*1e3,0*1e3,10*1e3,240,0,0])\n",
    "xf = np.array([110*1e3,-60*1e3,0,95,-np.deg2rad(3),np.deg2rad(0)])\n",
    "\n",
    "# xi = np.array([0*1e3,0*1e3,10*1e3,200,0,0])\n",
    "# xf = np.array([130*1e3,-65*1e3,0,110,-np.deg2rad(3),np.deg2rad(80)])\n",
    "\n",
    "x0 = np.zeros((N+1,ix))\n",
    "for i in range(N+1) :\n",
    "    x0[i] = (N-i)/N * xi + i/N * xf\n",
    "\n",
    "u0 = np.zeros((N+1,iu))\n",
    "ui = np.array([0.0,np.deg2rad(0),0])\n",
    "uf = np.array([0.0,-np.deg2rad(0),0])\n",
    "\n",
    "for i in range(N+1) :\n",
    "    u0[i] = (N-i)/N * ui + i/N * uf\n",
    "    "
   ]
  },
  {
   "cell_type": "code",
   "execution_count": null,
   "metadata": {},
   "outputs": [],
   "source": [
    "# default - w_c=10,w_vc=1e4,w_tr=1e1,w_rate=1e4\n",
    "scp_fuel_optimal = PTR('aircraft',N,tf,max_iter,myModel,myCost_fuel,myConst,myScaling,\n",
    "    type_discretization='foh',w_c=10,w_vc=1e4,w_tr=1e0,w_rate=1e4,\n",
    "    tol_vc=1e-6,tol_tr=1e-3,tol_bc=1e0,flag_policyopt=False)"
   ]
  },
  {
   "cell_type": "code",
   "execution_count": null,
   "metadata": {
    "scrolled": false
   },
   "outputs": [],
   "source": [
    "_,_,xbar,ubar,total_num_iter,flag_boundary,l,l_vc,l_tr,x_traj,u_traj,T_traj = scp_fuel_optimal.run(x0,u0,xi,xf)\n",
    "tfbar_fuel = tf"
   ]
  },
  {
   "cell_type": "code",
   "execution_count": null,
   "metadata": {},
   "outputs": [],
   "source": [
    "print(tfbar_fuel)\n",
    "t_index_f = np.array([i for i in range(N+1)]) / N * tfbar_fuel"
   ]
  },
  {
   "cell_type": "code",
   "execution_count": null,
   "metadata": {},
   "outputs": [],
   "source": [
    "# cost\n",
    "print(\"sum of thrust\",np.sum(ubar[:,2]))"
   ]
  },
  {
   "cell_type": "code",
   "execution_count": null,
   "metadata": {},
   "outputs": [],
   "source": [
    "plt.figure(figsize=(10,10))\n",
    "ax=plt.gca()\n",
    "for ce,H in zip(c_list,H_list) :\n",
    "    rx = 1/H[0,0]\n",
    "    ry = 1/H[1,1]\n",
    "    circle1 = Ellipse((ce[0],ce[1]),rx*2,ry*2,color='tab:red',alpha=0.5,fill=True)\n",
    "    ax.add_patch(circle1)\n",
    "plt.plot(xbar[:,0],xbar[:,1],'-',label='w/o obstacles') \n",
    "# plt.plot(xbar_obs[:,0],xbar_obs[:,1],label='w/ obstacles')\n",
    "plt.xlabel('x (m)',fontsize=15)\n",
    "plt.ylabel('y (m)',fontsize=15)\n",
    "plt.legend(fontsize=15)\n",
    "plt.gca().set_aspect('equal', adjustable='box')"
   ]
  },
  {
   "cell_type": "code",
   "execution_count": null,
   "metadata": {},
   "outputs": [],
   "source": [
    "plt.figure(figsize=(15,15))\n",
    "plt.subplot(331)\n",
    "plt.plot(t_index_f,xbar[:,0],'-')\n",
    "# plt.plot(t_index_f,xbar_obs[:,0])\n",
    "plt.title('x (m)',fontsize=15)\n",
    "\n",
    "plt.subplot(332)\n",
    "plt.plot(t_index_f,xbar[:,1],'-')\n",
    "# plt.plot(t_index_f,xbar_obs[:,1])\n",
    "plt.title('y (m)',fontsize=15)\n",
    "\n",
    "plt.subplot(333)\n",
    "plt.plot(t_index_f,xbar[:,2],'-')\n",
    "# plt.plot(t_index_f,xbar_obs[:,2])\n",
    "plt.title('z (m)',fontsize=15)\n",
    "\n",
    "\n",
    "plt.subplot(334)\n",
    "plt.plot(t_index_f,xbar[:,3],'-')\n",
    "# plt.plot(t_index_f,xbar_obs[:,3])\n",
    "plt.plot(t_index_f,xbar[:,2]*0 + myConst.v_max,'--',color='tab:red')\n",
    "plt.title('velocity (m/s)',fontsize=15)\n",
    "\n",
    "plt.subplot(335)\n",
    "plt.plot(t_index_f,xbar[:,4],'-')\n",
    "# plt.plot(t_index_f,xbar_obs[:,4])\n",
    "plt.plot(t_index_f,xbar[:,2]*0 + myConst.gamma_max,'--',color='tab:red')\n",
    "plt.plot(t_index_f,xbar[:,2]*0 + myConst.gamma_min,'--',color='tab:red')\n",
    "plt.title('gamma, flight path angle (rad)',fontsize=15)\n",
    "\n",
    "plt.subplot(336)\n",
    "plt.plot(t_index_f,xbar[:,5],'-')\n",
    "# plt.plot(t_index_f,xbar_obs[:,5])\n",
    "plt.title('psi, heading angle (rad)',fontsize=15)\n",
    "\n",
    "plt.subplot(337)\n",
    "plt.plot(t_index_f,ubar[:,0],'-')\n",
    "# plt.plot(t_index_f,ubar_obs[:,0])\n",
    "plt.title('CL',fontsize=15)\n",
    "plt.xlabel('time (s)',fontsize=15)\n",
    "\n",
    "plt.subplot(338)\n",
    "plt.plot(t_index_f,ubar[:,1],'-')\n",
    "# plt.plot(t_index_f,ubar_obs[:,1])\n",
    "plt.plot(t_index_f,ubar[:,2]*0 + myConst.phi_max,'--',color='tab:red')\n",
    "plt.plot(t_index_f,ubar[:,2]*0 + myConst.phi_min,'--',color='tab:red')\n",
    "plt.title('phi, bank angle (rad)',fontsize=15)\n",
    "plt.xlabel('time (s)',fontsize=15)\n",
    "\n",
    "plt.subplot(339)\n",
    "plt.plot(t_index_f,ubar[:,2],'-',label='thrust')\n",
    "plt.plot(t_index_f[2:N]-2*delT,ubar[2:N,2],'-',label='thrust_command')\n",
    "# plt.plot(t_index_f,ubar_obs[:,2],label='w/ obstacles')\n",
    "# plt.plot(t_index_f,ubar[:,2]*0 + myConst.T_max,'--',color='tab:red')\n",
    "plt.plot(t_index_f,ubar[:,2]*0 + myConst.T_min,'--',color='tab:red')\n",
    "plt.title('throttle ($T/T_{max}$)',fontsize=15)\n",
    "plt.xlabel('time (s)',fontsize=15)\n",
    "plt.legend(fontsize=15)"
   ]
  },
  {
   "cell_type": "code",
   "execution_count": null,
   "metadata": {},
   "outputs": [],
   "source": [
    "plt.figure(figsize=(15,7))\n",
    "plt.plot(t_index_f,ubar[:,2],'-',label='thrust')\n",
    "plt.plot(t_index_f[2:N]-2*delT,ubar[2:N,2],'--',label='thrust_command')\n",
    "plt.plot(t_index_f,ubar[:,2]*0 + myConst.T_min,'--',color='tab:red')\n",
    "plt.title('throttle ($T/T_{max}$)',fontsize=15)\n",
    "plt.xlabel('time (s)',fontsize=15)\n",
    "plt.legend(fontsize=15)"
   ]
  },
  {
   "cell_type": "code",
   "execution_count": null,
   "metadata": {
    "scrolled": false
   },
   "outputs": [],
   "source": [
    "fig = plt.figure(1,figsize=(15,15))\n",
    "ax = fig.add_subplot(111, projection='3d')\n",
    "\n",
    "ax.set_xlabel('X (m)',fontsize=15)\n",
    "ax.set_ylabel('Y (m)',fontsize=15)\n",
    "ax.set_zlabel('Z (m)',fontsize=15)\n",
    "ax.plot(xbar[:, 0], xbar[:, 1], xbar[:, 2],'--',color='tab:blue')\n",
    "# ax.plot(xbar_obs[:, 0], xbar_obs[:, 1], xbar_obs[:, 2],'-',color='tab:orange')\n",
    "for x in xbar :\n",
    "    ax.plot([x[0],x[0]], [x[1],x[1]], [0,x[2]],'-',alpha=0.4,color='tab:blue')\n",
    "    \n",
    "\n",
    "# X, Z = np.meshgrid([50*1e3,110*1e3], [0,2000])\n",
    "# ax.plot_surface(X,Y,1, alpha=0.5)\n",
    "# ax.plot_surface(X,Y,-1, alpha=0.5)\n",
    "# ax.plot_surface(X,-1,Y, alpha=0.5)\n",
    "# ax.plot_surface(X,-59000,Z, alpha=0.5)\n",
    "# ax.plot_surface(1,X,Y, alpha=0.5)\n",
    "# ax.plot_surface(-1,X,Y, alpha=0.5)\n",
    "\n",
    "    \n",
    "ax.set_box_aspect(aspect = (1,1,0.5))\n",
    "ax.view_init(30, -80)"
   ]
  },
  {
   "cell_type": "code",
   "execution_count": null,
   "metadata": {},
   "outputs": [],
   "source": [
    "xbar = xbar_fuel\n",
    "ubar = ubar_fuel"
   ]
  },
  {
   "cell_type": "code",
   "execution_count": null,
   "metadata": {},
   "outputs": [],
   "source": [
    "# filenames = []\n",
    "# for idx in range(N+1) :\n",
    "#     rx,ry,rz = xbar[idx,0],xbar[idx,1],xbar[idx,2]\n",
    "#     phi,gamma,psi = ubar[idx,1],-xbar[idx,4],xbar[idx,5]\n",
    "#     C1 = np.array([[1,0,0],[0,np.cos(phi),np.sin(phi)],[0,-np.sin(phi),np.cos(phi)]])\n",
    "#     C2 = np.array([[np.cos(gamma),0,-np.sin(gamma)],[0,1,0],[np.sin(gamma),0,np.cos(gamma)]])\n",
    "#     C3 = np.array([[np.cos(psi),np.sin(psi),0],[-np.sin(psi),np.cos(psi),0],[0,0,1]])\n",
    "\n",
    "#     CIB = C1@C2@C3\n",
    "#     length = 5000\n",
    "\n",
    "#     d = []\n",
    "#     d.append(np.dot(np.transpose(CIB), np.array([length, 0, 0])))\n",
    "#     d.append(np.dot(np.transpose(CIB), np.array([0, length, 0])))\n",
    "#     d.append(np.dot(np.transpose(CIB), np.array([0, -length, 0])))\n",
    "#     d.append(np.dot(np.transpose(CIB), np.array([-length, 0, 0])))\n",
    "\n",
    "#     fig = plt.figure(1,figsize=(15,15))\n",
    "#     ax = fig.add_subplot(111, projection='3d')\n",
    "    \n",
    "\n",
    "#     ax.set_xlabel('X')\n",
    "#     ax.set_ylabel('Y')\n",
    "#     ax.set_zlabel('Z')\n",
    "\n",
    "#     ax.plot(xbar[:, 0], xbar[:, 1], xbar[:, 2],'-')\n",
    "#     for d1 in d[:4] :\n",
    "#         ax.quiver(rx,ry,rz,d1[0],d1[1],d1[2],arrow_length_ratio=0,color='tab:red')\n",
    "#     ax.plot(rx+d[0][0],ry+d[0][1],rz+d[0][2],'o',color='tab:green')\n",
    "\n",
    "\n",
    "#     ax.view_init(10, -80)\n",
    "#     ax.set_box_aspect(aspect = (1,1,0.2))\n",
    "#     if idx == 0 :\n",
    "#         x_scale = ax.get_xlim()\n",
    "#         y_scale = ax.get_ylim()\n",
    "#         z_scale = ax.get_zlim()\n",
    "#     ax.auto_scale_xyz(x_scale, y_scale, z_scale)\n",
    "#     ax.text(0,0,15000,\"simulation time : {:4.3f}\".format(t_index[idx]),fontsize=15)\n",
    "\n",
    "#     filename = '../images/{:d}.png'.format(idx)\n",
    "#     plt.savefig(filename)\n",
    "#     filenames.append(filename)\n",
    "#     plt.close()"
   ]
  },
  {
   "cell_type": "code",
   "execution_count": null,
   "metadata": {},
   "outputs": [],
   "source": [
    "# import imageio\n",
    "# import os"
   ]
  },
  {
   "cell_type": "code",
   "execution_count": null,
   "metadata": {},
   "outputs": [],
   "source": [
    "# img_name = 'airplane_landing_0321_w_constraint'\n",
    "# with imageio.get_writer('../images/'+img_name+'.gif', mode='I') as writer:\n",
    "#         for filename in filenames:\n",
    "#             image = imageio.imread(filename)\n",
    "#             writer.append_data(image)\n",
    "# for filename in set(filenames):\n",
    "#     os.remove(filename)"
   ]
  },
  {
   "cell_type": "code",
   "execution_count": null,
   "metadata": {},
   "outputs": [],
   "source": [
    "# t = np.linspace(0,10,100)\n",
    "T_cmd1 = 10*np.ones(100)\n",
    "T_cmd2 = 0*np.ones(100)\n",
    "T_cmd3 = 10*np.ones(100)\n",
    "T_cmd = np.hstack((T_cmd1,T_cmd2,T_cmd3))"
   ]
  },
  {
   "cell_type": "code",
   "execution_count": null,
   "metadata": {},
   "outputs": [],
   "source": [
    "t = np.linspace(0,30,300)\n",
    "tau = 0.8\n",
    "T_true = T_cmd * (1-np.exp(-t/tau))"
   ]
  },
  {
   "cell_type": "code",
   "execution_count": null,
   "metadata": {},
   "outputs": [],
   "source": [
    "t = np.linspace(0,10,100)\n",
    "T_guess1 = T_cmd1 * (1-np.exp(-t/tau))\n",
    "T_guess2 = T_cmd2 * (1-np.exp(-t/tau))\n",
    "T_guess3 = T_cmd3 * (1-np.exp(-t/tau))\n",
    "T_guess = np.hstack((T_guess1,T_guess2,T_guess3))"
   ]
  },
  {
   "cell_type": "code",
   "execution_count": null,
   "metadata": {},
   "outputs": [],
   "source": [
    "t = np.linspace(0,30,300)"
   ]
  },
  {
   "cell_type": "code",
   "execution_count": null,
   "metadata": {},
   "outputs": [],
   "source": [
    "plt.figure(figsize=(7,3))\n",
    "plt.plot(t,T_true,label=\"true\")\n",
    "plt.plot(t,T_guess,label=\"my guess\")\n",
    "plt.plot(t,T_cmd,'--',label=\"command\")\n",
    "plt.xlabel('time (s)',fontsize=15)\n",
    "plt.ylabel('thrust',fontsize=15)\n",
    "plt.legend(fontsize=15)"
   ]
  },
  {
   "cell_type": "code",
   "execution_count": null,
   "metadata": {},
   "outputs": [],
   "source": []
  }
 ],
 "metadata": {
  "kernelspec": {
   "display_name": "Python 3",
   "language": "python",
   "name": "python3"
  },
  "language_info": {
   "codemirror_mode": {
    "name": "ipython",
    "version": 3
   },
   "file_extension": ".py",
   "mimetype": "text/x-python",
   "name": "python",
   "nbconvert_exporter": "python",
   "pygments_lexer": "ipython3",
   "version": "3.8.13"
  }
 },
 "nbformat": 4,
 "nbformat_minor": 5
}
