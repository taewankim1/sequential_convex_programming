{
 "cells": [
  {
   "cell_type": "code",
   "execution_count": null,
   "id": "popular-optics",
   "metadata": {},
   "outputs": [],
   "source": [
    "import matplotlib.pyplot as plt\n",
    "%matplotlib inline  \n",
    "%load_ext autoreload\n",
    "%autoreload 2\n",
    "import numpy as np\n",
    "import time\n",
    "import random\n",
    "def print_np(x):\n",
    "    print (\"Type is %s\" % (type(x)))\n",
    "    print (\"Shape is %s\" % (x.shape,))\n",
    "#     print (\"Values are: \\n%s\" % (x))"
   ]
  },
  {
   "cell_type": "code",
   "execution_count": null,
   "id": "uniform-release",
   "metadata": {},
   "outputs": [],
   "source": [
    "import sys\n",
    "# sys.path.append('../')\n",
    "sys.path.append('../')\n",
    "sys.path.append('../model')\n",
    "sys.path.append('../cost')\n",
    "sys.path.append('../constraints')\n",
    "import LinearModel\n",
    "import LinearCost\n",
    "import LinearConstraints\n",
    "from scipy.integrate import solve_ivp\n",
    "from Scvx import Scvx"
   ]
  },
  {
   "cell_type": "code",
   "execution_count": null,
   "id": "transparent-imperial",
   "metadata": {},
   "outputs": [],
   "source": [
    "ix = 4\n",
    "iu = 2\n",
    "ih = 0\n",
    "N = 100\n",
    "delT = 0.1\n",
    "max_iter = 30"
   ]
  },
  {
   "cell_type": "code",
   "execution_count": null,
   "id": "natural-palestinian",
   "metadata": {},
   "outputs": [],
   "source": [
    "xi = np.array([1,0,0,0])\n",
    "xf = np.array([0,0,0,0])\n",
    "\n",
    "\n",
    "myModel = LinearModel.Linear('Hello',ix,iu,delT)\n",
    "myCost = LinearCost.Linear('Hello',ix,iu,N)\n",
    "myConst = LinearConstraints.Linear('Hello',ix,iu,ih)\n",
    "\n",
    "x0 = np.zeros((N+1,ix))\n",
    "for i in range(N+1) :\n",
    "    x0[i] = (N-i)/N * xi + i/N * xf\n",
    "# u0 = np.random.rand(N,iu)\n",
    "u0 = np.zeros((N,iu))\n",
    "# u0[:,0] = 0\n",
    "u0[:,1] = 1"
   ]
  },
  {
   "cell_type": "code",
   "execution_count": null,
   "id": "cooperative-happening",
   "metadata": {
    "scrolled": true
   },
   "outputs": [],
   "source": [
    "i1 = Scvx('unicycle',N,max_iter,myModel,myCost,myConst,tol_bc=1e-3)\n",
    "x,u,xbar,ubar = i1.update(x0,u0)"
   ]
  },
  {
   "cell_type": "code",
   "execution_count": null,
   "id": "coral-browse",
   "metadata": {
    "scrolled": false
   },
   "outputs": [],
   "source": [
    "def plot_Landing2D_trajectory (x,u,xppg) :\n",
    "    fS = 18\n",
    "    plt.figure(1,figsize=(10,10))\n",
    "    plt.plot(x[:,0], x[:,2], linewidth=2.0)\n",
    "    plt.plot(xppg[:,0], xppg[:,2], '--',linewidth=2.0)\n",
    "    plt.plot(0,0,'o')\n",
    "    plt.gca().set_aspect('equal', adjustable='box')\n",
    "    index = np.linspace(0,N-1,30)\n",
    "    index = [int(i) for i in index]\n",
    "    plt.axis([-2, 2, -2, 2])\n",
    "    plt.xlabel('X ()', fontsize = fS)\n",
    "    plt.ylabel('Y ()', fontsize = fS)\n",
    "    \n",
    "    plt.figure(2)\n",
    "    plt.subplot(121)\n",
    "    plt.plot(np.array(range(N))*delT, u[:,0], linewidth=2.0)\n",
    "    plt.xlabel('time (s)', fontsize = fS)\n",
    "    plt.ylabel('fx (degree)', fontsize = fS)\n",
    "    plt.subplot(122)\n",
    "    plt.plot(np.array(range(N))*delT, u[:,1], linewidth=2.0)\n",
    "    plt.xlabel('time (s)', fontsize = fS)\n",
    "    plt.ylabel('fy ()', fontsize = fS)\n",
    "    plt.show()\n",
    "    \n",
    "    \n",
    "plot_Landing2D_trajectory(xbar,ubar,x)\n"
   ]
  },
  {
   "cell_type": "code",
   "execution_count": null,
   "id": "popular-tourist",
   "metadata": {},
   "outputs": [],
   "source": [
    "# import imageio\n",
    "# import os\n",
    "# def make_trajectory_fig(x,u) :\n",
    "\n",
    "#     Fx = +np.sin(x[:N,4] + u[:,0]) * u[:,1]\n",
    "#     Fy = -np.cos(x[:N,4] + u[:,0]) * u[:,1]\n",
    "#     filenames = []\n",
    "#     for i in range(N+10) :\n",
    "#         fS = 18\n",
    "#         plt.figure(figsize=(10,10))\n",
    "#         plt.gca().set_aspect('equal', adjustable='box')\n",
    "#         if i <= N :\n",
    "#             index = i\n",
    "#         else :\n",
    "#             index = N\n",
    "#         plt.plot(x[:i+1,0], x[:i+1,1], linewidth=2.0) \n",
    "#         plt.plot(0, 0,'*', linewidth=2.0)\n",
    "#         plt.quiver(x[index,0], x[index,1], -np.sin(x[index,4]), np.cos(x[index,4]), color='blue', width=0.003, scale=15, headwidth=1, headlength=0)\n",
    "#         if i < N :\n",
    "#             plt.quiver(x[index,0], x[index,1], Fx[index], Fy[index], color='red', width=0.003, scale=100, headwidth=1, headlength=0)\n",
    "#         plt.axis([-2, 5, -1, 5])\n",
    "#         plt.xlabel('X ()', fontsize = fS)\n",
    "#         plt.ylabel('Y ()', fontsize = fS)\n",
    "#         filename = '../images/{:d}.png'.format(i)\n",
    "#         plt.savefig(filename)\n",
    "#         filenames.append(filename)\n",
    "#         plt.close()\n",
    "\n",
    "#     with imageio.get_writer('../images/Landing2D.gif', mode='I') as writer:\n",
    "#         for filename in filenames:\n",
    "#             image = imageio.imread(filename)\n",
    "#             writer.append_data(image)\n",
    "#     for filename in set(filenames):\n",
    "#         os.remove(filename)"
   ]
  },
  {
   "cell_type": "code",
   "execution_count": null,
   "id": "artificial-landing",
   "metadata": {},
   "outputs": [],
   "source": [
    "# make_trajectory_fig(xbar,ubar)"
   ]
  },
  {
   "cell_type": "code",
   "execution_count": null,
   "id": "discrete-outreach",
   "metadata": {},
   "outputs": [],
   "source": [
    "# def diff_discrete_zoh(self,x,u) :\n",
    "#     delT = self.delT\n",
    "#     ix = self.ix\n",
    "#     iu = self.iu\n",
    "\n",
    "#     ndim = np.ndim(x)\n",
    "#     if ndim == 1: # 1 step state & input\n",
    "#         N = 1\n",
    "#         x = np.expand_dims(x,axis=0)\n",
    "#         u = np.expand_dims(u,axis=0)\n",
    "#     else :\n",
    "#         N = np.size(x,axis = 0)\n",
    "\n",
    "#     def dvdt(V,t,x,u,length) :\n",
    "#         assert len(x) == length\n",
    "#         V = V.reshape((length,ix*ix + ix*iu + ix + ix)).transpose()[0:ix*ix]\n",
    "#         Phi = V.transpose().reshape((length,ix,ix))\n",
    "#         Phi_inv = np.linalg.inv(Phi)\n",
    "#         f = self.forward(x,u,discrete=False)\n",
    "#         A,B = self.diff_numeric(x,u,discrete=False)\n",
    "#         dpdt = np.matmul(A,Phi).reshape((length,ix*ix)).transpose()\n",
    "#         dbdt = np.matmul(Phi_inv,B).reshape((length,ix*iu)).transpose()\n",
    "#         dsdt = np.squeeze(np.matmul(Phi_inv,np.expand_dims(f,2))).transpose()\n",
    "#         dzdt = np.squeeze(-np.matmul(A,np.expand_dims(x,2)) - np.matmul(B,np.expand_dims(u,2))).transpose()\n",
    "#         dv = np.vstack((dpdt,dbdt,dsdt,dzdt))\n",
    "#         return dv.flatten(order='F')\n",
    "\n",
    "#     A0 = np.eye(ix).flatten()\n",
    "#     B0 = np.zeros((ix*iu))\n",
    "#     s0 = np.zeros(ix)\n",
    "#     z0 = np.zeros(ix)\n",
    "#     V0 = np.hstack((A0,B0,s0,z0))\n",
    "\n",
    "#     V0_repeat = np.repeat(np.expand_dims(V0,1),N,1).flatten(order='F')\n",
    "#     sol = odeint(dvdt,V0_repeat,(0,delT),args=(x[0:N],u[0:N],N))[-1]\n",
    "#     sol = sol.reshape((N,-1))\n",
    "#     A = sol[:,0:ix*ix].reshape((-1,ix,ix))\n",
    "#     B = np.matmul(A,sol[:,ix*ix:ix*ix+ix*iu].reshape((-1,ix,iu)))\n",
    "#     s = np.matmul(A,sol[:,ix*ix+ix*iu:ix*ix+ix*iu+ix].reshape((-1,ix,1))).squeeze()\n",
    "#     z = np.matmul(A,sol[:,ix*ix+ix*iu+ix:].reshape((-1,ix,1))).squeeze()\n",
    "\n",
    "#     return A,B,s,z"
   ]
  }
 ],
 "metadata": {
  "kernelspec": {
   "display_name": "Python 3",
   "language": "python",
   "name": "python3"
  },
  "language_info": {
   "codemirror_mode": {
    "name": "ipython",
    "version": 3
   },
   "file_extension": ".py",
   "mimetype": "text/x-python",
   "name": "python",
   "nbconvert_exporter": "python",
   "pygments_lexer": "ipython3",
   "version": "3.8.5"
  }
 },
 "nbformat": 4,
 "nbformat_minor": 5
}
