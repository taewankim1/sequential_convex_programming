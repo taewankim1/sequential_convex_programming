{
 "cells": [
  {
   "cell_type": "code",
   "execution_count": 1,
   "id": "fatty-runner",
   "metadata": {},
   "outputs": [],
   "source": [
    "import matplotlib.pyplot as plt\n",
    "%matplotlib inline\n",
    "# %matplotlib qt\n",
    "%load_ext autoreload\n",
    "%autoreload 2\n",
    "import numpy as np\n",
    "import time\n",
    "import random\n",
    "def print_np(x):\n",
    "    print (\"Type is %s\" % (type(x)))\n",
    "    print (\"Shape is %s\" % (x.shape,))\n",
    "#     print (\"Values are: \\n%s\" % (x))"
   ]
  },
  {
   "cell_type": "code",
   "execution_count": 49,
   "id": "demographic-surfing",
   "metadata": {},
   "outputs": [],
   "source": [
    "import sys\n",
    "# sys.path.append('../')\n",
    "sys.path.append('../')\n",
    "sys.path.append('../model')\n",
    "sys.path.append('../cost')\n",
    "sys.path.append('../constraints')\n",
    "sys.path.append('../utils')\n",
    "import Landing3DModel_UEN\n",
    "import Landing3DCost\n",
    "import Landing3DConstraints\n",
    "from scipy.integrate import solve_ivp\n",
    "from Scvx import Scvx"
   ]
  },
  {
   "cell_type": "code",
   "execution_count": 50,
   "id": "metallic-piano",
   "metadata": {},
   "outputs": [],
   "source": [
    "def euler_to_quaternion(roll, pitch, yaw):\n",
    "    qx = np.sin(roll/2) * np.cos(pitch/2) * np.cos(yaw/2) - np.cos(roll/2) * np.sin(pitch/2) * np.sin(yaw/2)\n",
    "    qy = np.cos(roll/2) * np.sin(pitch/2) * np.cos(yaw/2) + np.sin(roll/2) * np.cos(pitch/2) * np.sin(yaw/2)\n",
    "    qz = np.cos(roll/2) * np.cos(pitch/2) * np.sin(yaw/2) - np.sin(roll/2) * np.sin(pitch/2) * np.cos(yaw/2)\n",
    "    qw = np.cos(roll/2) * np.cos(pitch/2) * np.cos(yaw/2) + np.sin(roll/2) * np.sin(pitch/2) * np.sin(yaw/2)\n",
    "    return [qw, qx, qy, qz]"
   ]
  },
  {
   "cell_type": "code",
   "execution_count": 51,
   "id": "sustainable-tract",
   "metadata": {},
   "outputs": [],
   "source": [
    "ix = 14\n",
    "iu = 3\n",
    "ih = 7\n",
    "tf = 5\n",
    "N = 50\n",
    "delT = tf/N\n",
    "max_iter = 30"
   ]
  },
  {
   "cell_type": "code",
   "execution_count": 52,
   "id": "neutral-demonstration",
   "metadata": {},
   "outputs": [],
   "source": [
    "qi = euler_to_quaternion(np.deg2rad(0),np.deg2rad(0),0)\n",
    "xi = np.array([2, 1,0,6, 0.0,0,-1,    qi[0],qi[1],qi[2],qi[3],   0,0,0])\n",
    "xf = np.array([0.75, 0,0,0, 0,0,-0.1,       1,0,0,0,   0,0,0])\n",
    "\n",
    "myModel = Landing3DModel_UEN.Landing3D('Hello',ix,iu,delT,linearization=\"analytic\")\n",
    "myCost = Landing3DCost.Landing3D('Hello',ix,iu,N)\n",
    "myConst = Landing3DConstraints.Landing3D('Hello',ix,iu)\n",
    "\n",
    "x0 = np.zeros((N+1,ix))\n",
    "for i in range(N+1) :\n",
    "    x0[i] = (N-i)/N * xi + i/N * xf\n",
    "\n",
    "u0 = np.zeros((N+1,iu))\n",
    "u0[:,2] = x0[:,0] * 1"
   ]
  },
  {
   "cell_type": "markdown",
   "id": "divided-registrar",
   "metadata": {},
   "source": [
    "# model forward check"
   ]
  },
  {
   "cell_type": "code",
   "execution_count": 59,
   "id": "aging-sharp",
   "metadata": {},
   "outputs": [
    {
     "name": "stdout",
     "output_type": "stream",
     "text": [
      "[[-0.02]\n",
      " [ 0.  ]\n",
      " [ 0.  ]\n",
      " [-1.  ]\n",
      " [-1.  ]\n",
      " [ 0.  ]\n",
      " [ 1.  ]\n",
      " [-0.  ]\n",
      " [ 0.  ]\n",
      " [ 0.  ]\n",
      " [ 0.  ]\n",
      " [ 0.  ]\n",
      " [ 2.  ]\n",
      " [-0.  ]]\n",
      "[[-0.02  0.    0.   -1.   -1.    0.    1.   -0.    0.    0.    0.    0.\n",
      "   2.   -0.  ]]\n"
     ]
    }
   ],
   "source": [
    "from Scvx_from_github import Rocket_Model_6DoF, Integrator\n",
    "m = Rocket_Model_6DoF()\n",
    "print(m.f_func(x0[0],u0[0]))\n",
    "print(myModel.forward(x0[0],u0[0],discrete=False))"
   ]
  },
  {
   "cell_type": "markdown",
   "id": "monthly-contributor",
   "metadata": {},
   "source": [
    "# Linearization"
   ]
  },
  {
   "cell_type": "code",
   "execution_count": 73,
   "id": "protective-ambassador",
   "metadata": {},
   "outputs": [
    {
     "name": "stdout",
     "output_type": "stream",
     "text": [
      "[[-0.         -0.         -0.01      ]\n",
      " [ 0.          0.          0.        ]\n",
      " [ 0.          0.          0.        ]\n",
      " [ 0.          0.          0.        ]\n",
      " [ 0.57142857  0.          0.        ]\n",
      " [ 0.          0.57142857  0.        ]\n",
      " [ 0.          0.          0.57142857]\n",
      " [ 0.          0.          0.        ]\n",
      " [ 0.          0.          0.        ]\n",
      " [ 0.          0.          0.        ]\n",
      " [ 0.          0.          0.        ]\n",
      " [ 0.          0.          0.        ]\n",
      " [ 0.          0.          1.        ]\n",
      " [ 0.         -1.          0.        ]]\n"
     ]
    }
   ],
   "source": [
    "print(m.B_func(x0[10],u0[10]))"
   ]
  },
  {
   "cell_type": "code",
   "execution_count": 74,
   "id": "champion-tokyo",
   "metadata": {},
   "outputs": [
    {
     "name": "stdout",
     "output_type": "stream",
     "text": [
      "[[-0.         -0.         -0.01      ]\n",
      " [ 0.          0.          0.        ]\n",
      " [ 0.          0.          0.        ]\n",
      " [ 0.          0.          0.        ]\n",
      " [ 0.57142857  0.          0.        ]\n",
      " [ 0.          0.57142857  0.        ]\n",
      " [ 0.          0.          0.57142857]\n",
      " [ 0.          0.          0.        ]\n",
      " [ 0.          0.          0.        ]\n",
      " [ 0.          0.          0.        ]\n",
      " [ 0.          0.          0.        ]\n",
      " [ 0.          0.          0.        ]\n",
      " [ 0.          0.          1.        ]\n",
      " [ 0.         -1.          0.        ]]\n"
     ]
    }
   ],
   "source": [
    "A,B = myModel.diff(x0[10],u0[10],discrete=False)\n",
    "print(B)"
   ]
  },
  {
   "cell_type": "markdown",
   "id": "perceived-prototype",
   "metadata": {},
   "source": [
    "# discretization check"
   ]
  },
  {
   "cell_type": "code",
   "execution_count": 88,
   "id": "complicated-aerospace",
   "metadata": {},
   "outputs": [
    {
     "name": "stdout",
     "output_type": "stream",
     "text": [
      "0.036273956298828125\n"
     ]
    }
   ],
   "source": [
    "import time\n",
    "idx = 0\n",
    "start = time.time()\n",
    "A,Bm,Bp,s,z = myModel.diff_discrete_foh(x0[0:N,:],u0)\n",
    "end = time.time()\n",
    "print(end - start)"
   ]
  },
  {
   "cell_type": "code",
   "execution_count": 89,
   "id": "hourly-exercise",
   "metadata": {},
   "outputs": [
    {
     "name": "stdout",
     "output_type": "stream",
     "text": [
      "0.3085758686065674\n"
     ]
    }
   ],
   "source": [
    "K = N+1\n",
    "# state and input list\n",
    "X = np.empty(shape=[m.n_x, K])\n",
    "U = np.empty(shape=[m.n_u, K])\n",
    "\n",
    "for i in range(K) :\n",
    "    X[:,i] = x0[i]\n",
    "    U[:,i] = u0[i]\n",
    "    \n",
    "integrator = Integrator(m, K)\n",
    "start = time.time()\n",
    "A_bar, B_bar, C_bar, S_bar, z_bar = integrator.calculate_discretization(\n",
    "            X, U, 1)\n",
    "end = time.time()\n",
    "print(end - start)"
   ]
  },
  {
   "cell_type": "markdown",
   "id": "center-healthcare",
   "metadata": {},
   "source": [
    "# S"
   ]
  },
  {
   "cell_type": "code",
   "execution_count": 79,
   "id": "detailed-occasions",
   "metadata": {},
   "outputs": [
    {
     "name": "stdout",
     "output_type": "stream",
     "text": [
      "[-1.98750000e-03 -9.96697490e-03  0.00000000e+00 -9.00368089e-02\n",
      " -9.90115024e-02  0.00000000e+00  9.94689337e-02 -4.95839553e-05\n",
      "  0.00000000e+00  9.95820970e-03  0.00000000e+00  0.00000000e+00\n",
      "  1.98750000e-01  0.00000000e+00]\n",
      "\n",
      "[-1.98750000e-03 -9.96697490e-03  0.00000000e+00 -9.00368089e-02\n",
      " -9.90115013e-02  0.00000000e+00  9.94689337e-02 -4.95840059e-05\n",
      "  0.00000000e+00  9.95820987e-03  0.00000000e+00  0.00000000e+00\n",
      "  1.98750000e-01  0.00000000e+00]\n"
     ]
    }
   ],
   "source": [
    "print(np.reshape(S_bar[:,idx_check],(ix)))\n",
    "print()\n",
    "print(s[idx_check])"
   ]
  },
  {
   "cell_type": "markdown",
   "id": "brutal-rebound",
   "metadata": {},
   "source": [
    "# z"
   ]
  },
  {
   "cell_type": "code",
   "execution_count": 82,
   "id": "accessible-eugene",
   "metadata": {},
   "outputs": [
    {
     "name": "stdout",
     "output_type": "stream",
     "text": [
      "[ 1.98750000e-03  4.95046482e-03  0.00000000e+00  9.50176765e-02\n",
      " -1.64733474e-03  0.00000000e+00 -4.15738490e-05  7.43759549e-05\n",
      "  0.00000000e+00 -1.49373148e-02  0.00000000e+00  0.00000000e+00\n",
      " -1.98750000e-01  0.00000000e+00]\n",
      "\n",
      "[ 1.98750000e-03  4.95046481e-03  0.00000000e+00  9.50176772e-02\n",
      " -1.64733482e-03  0.00000000e+00 -4.15734201e-05  7.43760041e-05\n",
      "  0.00000000e+00 -1.49373148e-02  0.00000000e+00  0.00000000e+00\n",
      " -1.98750000e-01  0.00000000e+00]\n"
     ]
    }
   ],
   "source": [
    "print(np.reshape(z_bar[:,idx_check],(ix)))\n",
    "print()\n",
    "print(z[idx_check])"
   ]
  },
  {
   "cell_type": "markdown",
   "id": "super-excuse",
   "metadata": {},
   "source": [
    "# B"
   ]
  },
  {
   "cell_type": "code",
   "execution_count": 85,
   "id": "eligible-translation",
   "metadata": {},
   "outputs": [
    {
     "name": "stdout",
     "output_type": "stream",
     "text": [
      "[[ 0.00000000e+00  0.00000000e+00 -4.99999986e-04]\n",
      " [ 1.66707510e-03  0.00000000e+00  4.99206069e-06]\n",
      " [ 0.00000000e+00  1.66707095e-03  0.00000000e+00]\n",
      " [-1.67574949e-06  0.00000000e+00  1.66768442e-03]\n",
      " [ 2.50082297e-02  0.00000000e+00  1.65600296e-04]\n",
      " [ 0.00000000e+00  2.50079267e-02  0.00000000e+00]\n",
      " [-4.15860792e-05  0.00000000e+00  2.50240742e-02]\n",
      " [ 0.00000000e+00  0.00000000e+00 -8.29853342e-06]\n",
      " [ 0.00000000e+00  8.18935399e-07  0.00000000e+00]\n",
      " [ 0.00000000e+00  0.00000000e+00  1.66664114e-03]\n",
      " [ 0.00000000e+00 -1.66665469e-03  0.00000000e+00]\n",
      " [ 0.00000000e+00  0.00000000e+00  0.00000000e+00]\n",
      " [ 0.00000000e+00  0.00000000e+00  4.99999986e-02]\n",
      " [ 0.00000000e+00 -4.99999986e-02  0.00000000e+00]]\n",
      "\n",
      "[[ 0.00000000e+00  0.00000000e+00 -5.00000000e-04]\n",
      " [ 1.66708006e-03  0.00000000e+00  4.97658380e-06]\n",
      " [ 0.00000000e+00  1.66707524e-03  0.00000000e+00]\n",
      " [-1.66401615e-06  0.00000000e+00  1.66768864e-03]\n",
      " [ 2.50082283e-02  0.00000000e+00  1.65603488e-04]\n",
      " [ 0.00000000e+00  2.50079270e-02  0.00000000e+00]\n",
      " [-4.15871915e-05  0.00000000e+00  2.50240722e-02]\n",
      " [ 0.00000000e+00  0.00000000e+00 -8.29864148e-06]\n",
      " [ 0.00000000e+00  8.22848713e-07  0.00000000e+00]\n",
      " [ 0.00000000e+00  0.00000000e+00  1.66664612e-03]\n",
      " [ 0.00000000e+00 -1.66665944e-03  0.00000000e+00]\n",
      " [ 0.00000000e+00  0.00000000e+00  0.00000000e+00]\n",
      " [ 0.00000000e+00  0.00000000e+00  5.00000000e-02]\n",
      " [ 0.00000000e+00 -5.00000000e-02  0.00000000e+00]]\n"
     ]
    }
   ],
   "source": [
    "idx_check = 0\n",
    "# np.reshape(A_bar[:,idx_check],(ix,ix)) - A[idx_check]\n",
    "print(np.reshape(B_bar[:,idx_check],(ix,iu),order='F'))\n",
    "print()\n",
    "print(Bm[idx_check])"
   ]
  },
  {
   "cell_type": "code",
   "execution_count": null,
   "id": "diverse-nickname",
   "metadata": {},
   "outputs": [],
   "source": []
  }
 ],
 "metadata": {
  "kernelspec": {
   "display_name": "Python 3",
   "language": "python",
   "name": "python3"
  },
  "language_info": {
   "codemirror_mode": {
    "name": "ipython",
    "version": 3
   },
   "file_extension": ".py",
   "mimetype": "text/x-python",
   "name": "python",
   "nbconvert_exporter": "python",
   "pygments_lexer": "ipython3",
   "version": "3.8.5"
  }
 },
 "nbformat": 4,
 "nbformat_minor": 5
}
