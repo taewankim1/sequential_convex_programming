{
 "cells": [
  {
   "cell_type": "code",
   "execution_count": 2,
   "id": "finished-edwards",
   "metadata": {},
   "outputs": [
    {
     "name": "stdout",
     "output_type": "stream",
     "text": [
      "The autoreload extension is already loaded. To reload it, use:\n",
      "  %reload_ext autoreload\n"
     ]
    }
   ],
   "source": [
    "import matplotlib.pyplot as plt\n",
    "%matplotlib inline\n",
    "# %matplotlib qt\n",
    "%load_ext autoreload\n",
    "%autoreload 2\n",
    "import numpy as np\n",
    "import time\n",
    "import random\n",
    "def print_np(x):\n",
    "    print (\"Type is %s\" % (type(x)))\n",
    "    print (\"Shape is %s\" % (x.shape,))\n",
    "#     print (\"Values are: \\n%s\" % (x))"
   ]
  },
  {
   "cell_type": "code",
   "execution_count": 3,
   "id": "documentary-gamma",
   "metadata": {},
   "outputs": [],
   "source": [
    "from scipy.integrate import solve_ivp"
   ]
  },
  {
   "cell_type": "code",
   "execution_count": 140,
   "id": "romantic-reconstruction",
   "metadata": {},
   "outputs": [],
   "source": [
    "T = 0.221\n",
    "def f_model(x) :\n",
    "    return - x + x*x\n",
    "def dvdt(t,V) :\n",
    "    x = V[0]\n",
    "    dv = np.zeros_like(V)\n",
    "    dv[0] = f_model(x)\n",
    "    dv[1] = np.exp(9*T) * np.exp(-9*t) * (x * x-10*x)\n",
    "    return dv\n",
    "V0 = [5,0]\n",
    "sol = solve_ivp(dvdt,(0,T),V0,method='RK45',rtol=1e-6,atol=1e-10)\n",
    "y = sol.y[:,-1]"
   ]
  },
  {
   "cell_type": "code",
   "execution_count": 141,
   "id": "pediatric-teacher",
   "metadata": {},
   "outputs": [
    {
     "name": "stdout",
     "output_type": "stream",
     "text": [
      "nonlinear 467.00638778528196 linear 467.0063833005253\n"
     ]
    }
   ],
   "source": [
    "x_T_nonlinear = y[0]\n",
    "x_T_linear = np.exp(9*T) * V0[0] + y[1]\n",
    "print(\"nonlinear\",x_T_nonlinear,\"linear\",x_T_linear)"
   ]
  },
  {
   "cell_type": "code",
   "execution_count": null,
   "id": "sticky-virus",
   "metadata": {},
   "outputs": [],
   "source": []
  }
 ],
 "metadata": {
  "kernelspec": {
   "display_name": "Python 3",
   "language": "python",
   "name": "python3"
  },
  "language_info": {
   "codemirror_mode": {
    "name": "ipython",
    "version": 3
   },
   "file_extension": ".py",
   "mimetype": "text/x-python",
   "name": "python",
   "nbconvert_exporter": "python",
   "pygments_lexer": "ipython3",
   "version": "3.8.5"
  }
 },
 "nbformat": 4,
 "nbformat_minor": 5
}
