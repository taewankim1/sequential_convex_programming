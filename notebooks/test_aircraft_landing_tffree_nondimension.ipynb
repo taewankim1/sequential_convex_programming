{
 "cells": [
  {
   "cell_type": "code",
   "execution_count": null,
   "id": "specialized-kentucky",
   "metadata": {},
   "outputs": [],
   "source": [
    "import matplotlib.pyplot as plt\n",
    "%matplotlib inline\n",
    "# %matplotlib qt\n",
    "%load_ext autoreload\n",
    "%autoreload 2\n",
    "import numpy as np\n",
    "import time\n",
    "import random\n",
    "def print_np(x):\n",
    "    print (\"Type is %s\" % (type(x)))\n",
    "    print (\"Shape is %s\" % (x.shape,))\n",
    "#     print (\"Values are: \\n%s\" % (x))"
   ]
  },
  {
   "cell_type": "code",
   "execution_count": null,
   "id": "divided-premium",
   "metadata": {
    "scrolled": false
   },
   "outputs": [],
   "source": [
    "import sys\n",
    "# sys.path.append('../')\n",
    "sys.path.append('../')\n",
    "sys.path.append('../model')\n",
    "sys.path.append('../cost')\n",
    "sys.path.append('../constraints')\n",
    "sys.path.append('../utils')\n",
    "import Aircraft3dofModel_tmp\n",
    "import FinaltimeFreeCost\n",
    "import Aircraft3dofConstraints\n",
    "from scipy.integrate import solve_ivp\n",
    "from Scvx_tf_free import Scvx_tf_free\n",
    "from Scaling import TrajectoryScaling"
   ]
  },
  {
   "cell_type": "code",
   "execution_count": null,
   "id": "german-ferry",
   "metadata": {},
   "outputs": [],
   "source": [
    "ix = 6\n",
    "iu = 3\n",
    "tf = 1000\n",
    "N = 50\n",
    "delT = tf/N\n",
    "max_iter = 50"
   ]
  },
  {
   "cell_type": "code",
   "execution_count": null,
   "id": "inside-vector",
   "metadata": {},
   "outputs": [],
   "source": [
    "myModel = Aircraft3dofModel_tmp.Aircraft3dof_tmp('Hello',ix,iu,linearization=\"numeric_central\")\n",
    "myCost = FinaltimeFreeCost.Finaltime('Hello',ix,iu,N)\n",
    "myConst = Aircraft3dofConstraints.Aircraft3dof('Hello',ix,iu)\n"
   ]
  },
  {
   "cell_type": "code",
   "execution_count": null,
   "id": "b25b732f",
   "metadata": {},
   "outputs": [],
   "source": [
    "xi = np.array([0*1e3,0*1e3,10*1e3,240,np.deg2rad(5),np.deg2rad(5)])\n",
    "\n",
    "u0 = np.zeros((N+1,iu))\n",
    "ui = np.array([0.0,np.deg2rad(0),1e3])\n",
    "uf = np.array([0.0,-np.deg2rad(0),0])\n",
    "for i in range(N+1) :\n",
    "    u0[i] = (N-i)/N * ui + i/N * uf\n",
    "for i in range(0,27) :\n",
    "    u0[i,0] = (26-i)/26 * 0.3 + i/26 * 0.15\n",
    "for i in range(27,N+1) :\n",
    "    u0[i,0] = 1/700 * (i-27)**2 + 0.15"
   ]
  },
  {
   "cell_type": "code",
   "execution_count": null,
   "id": "96fbb8e6",
   "metadata": {},
   "outputs": [],
   "source": [
    "def forward_full(x0,u,delT,model,type_discretization=\"foh\") :\n",
    "    def dfdt(t,x,um,up) :\n",
    "        if type_discretization == \"zoh\" :\n",
    "            u = um\n",
    "        elif type_discretization == \"foh\" :\n",
    "            alpha = (delT - t) / delT\n",
    "            beta = t / delT\n",
    "            u = alpha * um + beta * up\n",
    "        return np.squeeze(model.forward(x,u,discrete=False))\n",
    "\n",
    "    xnew = np.zeros((N+1,ix))\n",
    "    xnew[0] = x0\n",
    "\n",
    "    for i in range(N) :\n",
    "        # sol = solve_ivp(dfdt,(0,self.delT),xnew[i],args=(u[i],u[i+1]),method='RK45',rtol=1e-6,atol=1e-10)\n",
    "        sol = solve_ivp(dfdt,(0,delT),xnew[i],args=(u[i],u[i+1]))\n",
    "        xnew[i+1] = sol.y[:,-1]\n",
    "\n",
    "    return xnew,np.copy(u)"
   ]
  },
  {
   "cell_type": "code",
   "execution_count": null,
   "id": "d609d6a4",
   "metadata": {
    "scrolled": false
   },
   "outputs": [],
   "source": [
    "myModel.set_scale(1,1,1,1,1)\n",
    "x,u = forward_full(xi,u0,delT,myModel,\"foh\")"
   ]
  },
  {
   "cell_type": "code",
   "execution_count": null,
   "id": "14bfff81",
   "metadata": {},
   "outputs": [],
   "source": [
    "# nondimension case\n",
    "scl_t = 1e3\n",
    "scl_x = 1e3\n",
    "scl_f = 1e6\n",
    "scl_kg = scl_f * scl_t * scl_t / scl_x\n",
    "scl_v = scl_x/scl_t\n",
    "scl_a = scl_x/scl_t**2\n",
    "# scl_f = scl_kg * scl_x /scl_t/scl_t\n",
    "print(scl_v,scl_a,scl_f)\n",
    "# state and input\n",
    "xi_ = np.array([xi[0],xi[1],xi[2]/scl_x,xi[3]/scl_v,xi[4],xi[5]])\n",
    "u0_ = np.copy(u0)\n",
    "u0_[:,2] = u0_[:,2] / scl_f\n",
    "scl_rho = scl_kg / scl_x**3\n",
    "scl_Sw = scl_x**2\n",
    "print(scl_rho,scl_Sw)\n",
    "# Scale model & constraints\n",
    "myModel.set_scale(scl_x,scl_kg,scl_rho,scl_Sw,scl_a)\n",
    "myConst.set_scale(scl_v,scl_f)\n",
    "# time\n",
    "tf_scaled = tf/scl_t"
   ]
  },
  {
   "cell_type": "code",
   "execution_count": null,
   "id": "5c9ec69c",
   "metadata": {
    "scrolled": true
   },
   "outputs": [],
   "source": [
    "xbar,ubar = forward_full(xi_,u0_,tf_scaled/N,myModel,\"foh\")"
   ]
  },
  {
   "cell_type": "code",
   "execution_count": null,
   "id": "30a2a903",
   "metadata": {},
   "outputs": [],
   "source": [
    "xbar[:,0:3] = xbar[:,0:3] * scl_x\n",
    "xbar[:,3] = xbar[:,3] * scl_v\n",
    "ubar[:,2] = ubar[:,2] * scl_f"
   ]
  },
  {
   "cell_type": "code",
   "execution_count": null,
   "id": "d5017b39",
   "metadata": {},
   "outputs": [],
   "source": [
    "print(np.max(u-ubar))"
   ]
  },
  {
   "cell_type": "code",
   "execution_count": null,
   "id": "a22ff893",
   "metadata": {},
   "outputs": [],
   "source": [
    "np.max(np.abs(x-xbar))"
   ]
  },
  {
   "cell_type": "code",
   "execution_count": null,
   "id": "9770c281",
   "metadata": {},
   "outputs": [],
   "source": [
    "fig = plt.figure(1,figsize=(15,7))\n",
    "ax = fig.add_subplot(111, projection='3d')\n",
    "\n",
    "ax.set_xlabel('X')\n",
    "ax.set_ylabel('Y')\n",
    "ax.set_zlabel('Z')\n",
    "\n",
    "ax.plot(x[:, 0], x[:, 1], x[:, 2],label='single shooting')\n",
    "ax.plot(xbar[:, 0], xbar[:, 1], xbar[:, 2],label='solution')\n",
    "plt.legend()\n",
    "fig = plt.figure(2,figsize=(15,5))\n",
    "ax = fig.add_subplot(131)\n",
    "ax.plot(x[:, 0], x[:, 1],label='single shooting')\n",
    "ax.plot(xbar[:, 0], xbar[:, 1],label='solution')\n",
    "ax.set_xlabel('X')\n",
    "ax.set_ylabel('Y')\n",
    "plt.legend()\n",
    "ax = fig.add_subplot(132)\n",
    "ax.plot(x[:, 1], x[:, 2],label='single shooting')\n",
    "ax.plot(xbar[:, 1], xbar[:, 2],label='solution')\n",
    "ax.set_xlabel('Y')\n",
    "ax.set_ylabel('Z')\n",
    "ax = fig.add_subplot(133)\n",
    "ax.plot(x[:, 0], x[:, 2],label='single shooting')\n",
    "ax.plot(xbar[:, 0], xbar[:, 2],label='solution')\n",
    "ax.set_xlabel('X')\n",
    "ax.set_ylabel('Z')\n",
    "plt.legend()"
   ]
  },
  {
   "cell_type": "code",
   "execution_count": null,
   "id": "90ad4d34",
   "metadata": {},
   "outputs": [],
   "source": [
    "# state\n",
    "xi = np.array([0,0,10*1e3/scl_x,240/scl_v,0,0])\n",
    "xf = np.array([110*1e3/scl_x,-60*1e3/scl_x,0,95/scl_v,-np.deg2rad(3),np.deg2rad(80)])\n",
    "print(xi)\n",
    "print(xf)\n",
    "x0 = np.zeros((N+1,ix))\n",
    "for i in range(N+1) :\n",
    "    x0[i] = (N-i)/N * xi + i/N * xf\n",
    "# input    \n",
    "u0 = np.zeros((N+1,iu))\n",
    "ui = np.array([0.5,np.deg2rad(0),0])\n",
    "uf = np.array([0.5,-np.deg2rad(0),0])\n",
    "for i in range(N+1) :\n",
    "    u0[i] = (N-i)/N * ui + i/N * uf\n",
    "# for i in range(0,27) :\n",
    "#     u0[i,0] = (26-i)/26 * 0.3 + i/26 * 0.15\n",
    "# for i in range(27,N+1) :\n",
    "#     u0[i,0] = 1/700 * (i-27)**2 + 0.15\n",
    "u0[:,2] = u0[:,2] / scl_f"
   ]
  },
  {
   "cell_type": "code",
   "execution_count": null,
   "id": "de45c3dc",
   "metadata": {},
   "outputs": [],
   "source": [
    "x_min = np.zeros(ix)\n",
    "x_max = np.array([110*1e3/scl_x,60*1e3/scl_x,10*1e3/scl_x,240/scl_v,np.deg2rad(20),np.pi/2])\n",
    "print(x_max)\n",
    "u_min = np.array([0,0,0])\n",
    "u_max = np.array([1.52,np.deg2rad(15),1126.3 * 1e3/scl_f]) \n",
    "print(u_max)\n",
    "\n",
    "# x_max = np.ones(ix)\n",
    "# u_max = np.ones(iu)\n",
    "\n",
    "myScaling = TrajectoryScaling(x_min,x_max,u_min,u_max,1)"
   ]
  },
  {
   "cell_type": "code",
   "execution_count": null,
   "id": "better-dating",
   "metadata": {
    "scrolled": false
   },
   "outputs": [],
   "source": [
    "i1 = Scvx_tf_free('aircraft',N,tf_scaled,max_iter,myModel,myCost,myConst,myScaling,\n",
    "          type_discretization='foh',w_c=1,w_vc=1e-2*6,w_tr=1e-2*2,tol_vc=1e-10,tol_tr=1e-10,tol_bc=1e-3,flag_policyopt=False)\n",
    "x,u,xbar,ubar,tfbar,total_num_iter,flag_boundary,l,l_vc,l_tr,x_traj,u_traj = i1.run(x0,u0,xi,xf)"
   ]
  },
  {
   "cell_type": "code",
   "execution_count": null,
   "id": "268e3bcc",
   "metadata": {},
   "outputs": [],
   "source": [
    "tfbar = tfbar*scl_t\n",
    "print(tfbar)\n",
    "xbar[:,0:3] = xbar[:,0:3] * scl_x\n",
    "xbar[:,3] = xbar[:,3] * scl_v\n",
    "\n",
    "x[:,0:3] = x[:,0:3] * scl_x\n",
    "x[:,3] = x[:,3] * scl_v\n",
    "\n",
    "ubar[:,2] = ubar[:,2] * scl_f\n",
    "u[:,2] = u[:,2] * scl_f"
   ]
  },
  {
   "cell_type": "code",
   "execution_count": null,
   "id": "mental-mitchell",
   "metadata": {},
   "outputs": [],
   "source": [
    "fig = plt.figure(1,figsize=(15,7))\n",
    "ax = fig.add_subplot(111, projection='3d')\n",
    "\n",
    "ax.set_xlabel('X')\n",
    "ax.set_ylabel('Y')\n",
    "ax.set_zlabel('Z')\n",
    "\n",
    "ax.plot(x[:, 0], x[:, 1], x[:, 2],label='single shooting')\n",
    "ax.plot(xbar[:, 0], xbar[:, 1], xbar[:, 2],label='solution')\n",
    "plt.legend()\n",
    "fig = plt.figure(2,figsize=(15,5))\n",
    "ax = fig.add_subplot(131)\n",
    "ax.plot(x[:, 0], x[:, 1],label='single shooting')\n",
    "ax.plot(xbar[:, 0], xbar[:, 1],label='solution')\n",
    "ax.set_xlabel('X')\n",
    "ax.set_ylabel('Y')\n",
    "plt.legend()\n",
    "ax = fig.add_subplot(132)\n",
    "ax.plot(x[:, 1], x[:, 2],label='single shooting')\n",
    "ax.plot(xbar[:, 1], xbar[:, 2],label='solution')\n",
    "ax.set_xlabel('Y')\n",
    "ax.set_ylabel('Z')\n",
    "ax = fig.add_subplot(133)\n",
    "ax.plot(x[:, 0], x[:, 2],label='single shooting')\n",
    "ax.plot(xbar[:, 0], xbar[:, 2],label='solution')\n",
    "ax.set_xlabel('X')\n",
    "ax.set_ylabel('Z')\n",
    "plt.legend()\n",
    "# ax.plot(xbar[:, 0], xbar[:, 1], xbar[:, 2],'o')"
   ]
  },
  {
   "cell_type": "code",
   "execution_count": null,
   "id": "sunset-belfast",
   "metadata": {},
   "outputs": [],
   "source": [
    "t_index = np.array([i for i in range(N+1)]) / N * tfbar\n",
    "plt.figure(figsize=(15,15))\n",
    "plt.subplot(331)\n",
    "plt.plot(t_index,xbar[:,0],label='solution')\n",
    "plt.plot(t_index,x[:,0],'--',label='single shooting')\n",
    "plt.legend(fontsize=15)\n",
    "plt.title('x (m)')\n",
    "\n",
    "plt.subplot(332)\n",
    "plt.plot(t_index,xbar[:,1])\n",
    "plt.plot(t_index,x[:,1],'--')\n",
    "plt.title('y (m)')\n",
    "\n",
    "plt.subplot(333)\n",
    "plt.plot(t_index,xbar[:,2])\n",
    "plt.plot(t_index,x[:,2],'--')\n",
    "plt.title('z (m)')\n",
    "\n",
    "\n",
    "plt.subplot(334)\n",
    "plt.plot(t_index,xbar[:,3])\n",
    "plt.plot(t_index,x[:,3],'--')\n",
    "plt.plot(t_index,ubar[:,2]*0 + myConst.v_max,'--',color='tab:red')\n",
    "plt.plot(t_index,ubar[:,2]*0 + myConst.v_min,'--',color='tab:red')\n",
    "plt.title('velocity (m/s)')\n",
    "\n",
    "plt.subplot(335)\n",
    "plt.plot(t_index,xbar[:,4])\n",
    "plt.plot(t_index,x[:,4],'--')\n",
    "plt.plot(t_index,ubar[:,2]*0 + myConst.gamma_max,'--',color='tab:red')\n",
    "plt.plot(t_index,ubar[:,2]*0 + myConst.gamma_min,'--',color='tab:red')\n",
    "plt.title('gamma (rad)')\n",
    "\n",
    "plt.subplot(336)\n",
    "plt.plot(t_index,xbar[:,5])\n",
    "plt.plot(t_index,x[:,5],'--')\n",
    "plt.title('psi (rad)')\n",
    "\n",
    "plt.subplot(337)\n",
    "plt.plot(t_index,ubar[:,0])\n",
    "# plt.plot(t_index,ubar[:,2]*0 + myConst.CL_max,'--',color='tab:red')\n",
    "# plt.plot(t_index,ubar[:,2]*0 + myConst.CL_min,'--',color='tab:red')\n",
    "plt.title('CL')\n",
    "plt.plot(t_index,u0[:,0],'--',label='initial')\n",
    "plt.legend(fontsize=15)\n",
    "plt.subplot(338)\n",
    "plt.plot(t_index,ubar[:,1])\n",
    "plt.plot(t_index,ubar[:,2]*0 + myConst.phi_max,'--',color='tab:red')\n",
    "plt.plot(t_index,ubar[:,2]*0 + myConst.phi_min,'--',color='tab:red')\n",
    "plt.title('phi (rad)')\n",
    "plt.plot(t_index,u0[:,1],'--',label='initial')\n",
    "plt.subplot(339)\n",
    "plt.plot(t_index,ubar[:,2])\n",
    "plt.plot(t_index,ubar[:,2]*0 + myConst.T_max,'--',color='tab:red')\n",
    "plt.plot(t_index,ubar[:,2]*0 + myConst.T_min,'--',color='tab:red')\n",
    "plt.title('thrust (N)')\n",
    "plt.plot(t_index,u0[:,2]*scl_f,'--',label='initial')"
   ]
  },
  {
   "cell_type": "code",
   "execution_count": null,
   "id": "2c051b7a",
   "metadata": {},
   "outputs": [],
   "source": [
    "for xbar_ in x_traj :\n",
    "    plt.plot(t_index,xbar_[:,2],alpha=0.5,color='tab:blue')\n",
    "# plt.title('CL')"
   ]
  },
  {
   "cell_type": "code",
   "execution_count": null,
   "id": "1726080b",
   "metadata": {},
   "outputs": [],
   "source": [
    "# for xbar_ in x_traj :\n",
    "plt.plot(t_index,x_traj[0][:,2],alpha=0.5,color='tab:blue')\n",
    "# plt.title('CL')"
   ]
  },
  {
   "cell_type": "code",
   "execution_count": null,
   "id": "84e0eabe",
   "metadata": {},
   "outputs": [],
   "source": [
    "T = 15.04 - 0.00649 * xbar[:,2] # celsius\n",
    "p = 101.29 * np.power((T+273.1)/288.08,5.256)\n",
    "rho = p / (0.2869 * (T + 273.1))\n",
    "\n",
    "F_lift = 0.5 * rho * xbar[:,3] * xbar[:,3] * myModel.Sw * ubar[:,0]\n",
    "F_draf = 0.5 * rho * xbar[:,3] * xbar[:,3] * myModel.Sw * (myModel.CD0 + myModel.K  * ubar[:,0] * ubar[:,0])"
   ]
  },
  {
   "cell_type": "code",
   "execution_count": null,
   "id": "6c4c81c2",
   "metadata": {},
   "outputs": [],
   "source": [
    "plt.figure(figsize=(7,7))\n",
    "plt.plot(t_index,rho)"
   ]
  },
  {
   "cell_type": "code",
   "execution_count": null,
   "id": "d33df785",
   "metadata": {},
   "outputs": [],
   "source": [
    "plt.figure(figsize=(15,15))\n",
    "plt.subplot(338)\n",
    "plt.plot(t_index,F_lift)\n",
    "plt.title('Lift force (N)')\n",
    "\n",
    "plt.subplot(339)\n",
    "plt.plot(t_index,F_draf)\n",
    "plt.title('Drag force (N)')"
   ]
  },
  {
   "cell_type": "code",
   "execution_count": null,
   "id": "sustained-tuition",
   "metadata": {},
   "outputs": [],
   "source": [
    "for ubar_ in u_traj :\n",
    "    plt.plot(t_index,ubar_[:,2],alpha=0.5,color='tab:blue')\n",
    "# plt.title('CL')"
   ]
  },
  {
   "cell_type": "code",
   "execution_count": null,
   "id": "bec3cce4",
   "metadata": {},
   "outputs": [],
   "source": [
    "for ubar_ in u_traj[48:] :\n",
    "    plt.plot(t_index,ubar_[:,2],alpha=0.5,color='tab:blue')\n",
    "# plt.title('CL')"
   ]
  },
  {
   "cell_type": "code",
   "execution_count": null,
   "id": "379106f6",
   "metadata": {},
   "outputs": [],
   "source": []
  }
 ],
 "metadata": {
  "kernelspec": {
   "display_name": "Python 3 (ipykernel)",
   "language": "python",
   "name": "python3"
  },
  "language_info": {
   "codemirror_mode": {
    "name": "ipython",
    "version": 3
   },
   "file_extension": ".py",
   "mimetype": "text/x-python",
   "name": "python",
   "nbconvert_exporter": "python",
   "pygments_lexer": "ipython3",
   "version": "3.10.0"
  }
 },
 "nbformat": 4,
 "nbformat_minor": 5
}
