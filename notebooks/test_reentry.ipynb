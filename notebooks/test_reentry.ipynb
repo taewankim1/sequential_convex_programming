{
 "cells": [
  {
   "cell_type": "code",
   "execution_count": null,
   "id": "e6c88526",
   "metadata": {},
   "outputs": [],
   "source": [
    "import matplotlib.pyplot as plt\n",
    "%matplotlib inline\n",
    "# %matplotlib qt\n",
    "%load_ext autoreload\n",
    "%autoreload 2\n",
    "import numpy as np\n",
    "import time\n",
    "import random\n",
    "def print_np(x):\n",
    "    print (\"Type is %s\" % (type(x)))\n",
    "    print (\"Shape is %s\" % (x.shape,))\n",
    "#     print (\"Values are: \\n%s\" % (x))"
   ]
  },
  {
   "cell_type": "code",
   "execution_count": null,
   "id": "ba9a1b83",
   "metadata": {},
   "outputs": [],
   "source": [
    "import sys\n",
    "# sys.path.append('../')\n",
    "sys.path.append('../')\n",
    "sys.path.append('../model')\n",
    "sys.path.append('../cost')\n",
    "sys.path.append('../constraints')\n",
    "sys.path.append('../utils')\n",
    "import Reentry\n",
    "from scipy.integrate import solve_ivp\n",
    "from Scvx_tf_free import Scvx_tf_free\n",
    "from Scaling import TrajectoryScaling"
   ]
  },
  {
   "cell_type": "code",
   "execution_count": null,
   "id": "d68fda0b",
   "metadata": {},
   "outputs": [],
   "source": [
    "ix = 6\n",
    "iu = 2\n",
    "tf = 3.4\n",
    "N = 99\n",
    "delT = tf/N\n",
    "max_iter = 10"
   ]
  },
  {
   "cell_type": "code",
   "execution_count": null,
   "id": "7a464576",
   "metadata": {},
   "outputs": [],
   "source": [
    "Re = 6371*1000\n",
    "ge = 9.806\n",
    "\n",
    "scl_d = Re;\n",
    "scl_v = np.sqrt(ge*Re);\n",
    "\n",
    "x0  = 0.0/scl_d; \n",
    "y0  = 0.0/scl_d; \n",
    "h0  = 122e3/scl_d;\n",
    "v0  = 7315.2/scl_v; \n",
    "gam0 = np.deg2rad(-1.5); \n",
    "thet0 = np.deg2rad(4); \n",
    "\n",
    "xi = np.array([x0,y0,h0,v0,gam0,thet0])\n",
    "xf = np.array([100,100,100,10,0,0])\n",
    "print(xi,xf)"
   ]
  },
  {
   "cell_type": "code",
   "execution_count": null,
   "id": "4fcb07af",
   "metadata": {},
   "outputs": [],
   "source": [
    "x0 = np.zeros((N+1,ix))\n",
    "for i in range(N+1) :\n",
    "    x0[i] = (N-i)/N * xi + i/N * xf\n",
    "\n",
    "u0 = np.zeros((N+1,iu))\n",
    "u0[:,0] = 1.7 # setting not as zero is pretty critical\n",
    "u0[:,1] = 0.0"
   ]
  },
  {
   "cell_type": "code",
   "execution_count": null,
   "id": "2df2a567",
   "metadata": {},
   "outputs": [],
   "source": [
    "myModel = Reentry.Reentry('Hello',ix,iu,'numeric_central')"
   ]
  },
  {
   "cell_type": "markdown",
   "id": "149cbb18",
   "metadata": {},
   "source": [
    "# test continuous"
   ]
  },
  {
   "cell_type": "code",
   "execution_count": null,
   "id": "35b42b83",
   "metadata": {},
   "outputs": [],
   "source": [
    "x = np.expand_dims(np.array([1,2,3,4,5,6]),0)\n",
    "u = np.expand_dims(np.array([100,20]),0)\n",
    "print_np(x)"
   ]
  },
  {
   "cell_type": "code",
   "execution_count": null,
   "id": "3a8bd209",
   "metadata": {},
   "outputs": [],
   "source": [
    "A,B = myModel.diff_numeric(x,u,discrete=False)"
   ]
  },
  {
   "cell_type": "code",
   "execution_count": null,
   "id": "947ecd41",
   "metadata": {},
   "outputs": [],
   "source": [
    "A"
   ]
  },
  {
   "cell_type": "markdown",
   "id": "2fc0bdce",
   "metadata": {},
   "source": [
    "# test discrete"
   ]
  },
  {
   "cell_type": "code",
   "execution_count": null,
   "id": "e822d2aa",
   "metadata": {},
   "outputs": [],
   "source": [
    "import scipy.io\n",
    "path = '/Users/keemtw/Documents/Code/Personal/reentryopt-master-purna/scp_tools/testing_foh/zbar_save.mat'\n",
    "mat = scipy.io.loadmat(path)"
   ]
  },
  {
   "cell_type": "code",
   "execution_count": null,
   "id": "92167113",
   "metadata": {},
   "outputs": [],
   "source": [
    "zbar = np.array(mat['zbar_']).T"
   ]
  },
  {
   "cell_type": "code",
   "execution_count": null,
   "id": "91ee7b66",
   "metadata": {
    "scrolled": true
   },
   "outputs": [],
   "source": [
    "zbar,u0"
   ]
  },
  {
   "cell_type": "code",
   "execution_count": null,
   "id": "b1bb9d3c",
   "metadata": {},
   "outputs": [],
   "source": [
    "print_np(zbar)\n",
    "print_np(u0)"
   ]
  },
  {
   "cell_type": "code",
   "execution_count": null,
   "id": "80a72bc9",
   "metadata": {},
   "outputs": [],
   "source": [
    "start = time.time()\n",
    "A,Bm,Bp,s,z,x_prop = myModel.diff_discrete_foh(zbar[:N],u0,delT,tf)\n",
    "end = time.time()\n",
    "print(end - start)"
   ]
  },
  {
   "cell_type": "code",
   "execution_count": null,
   "id": "bfb766b5",
   "metadata": {},
   "outputs": [],
   "source": [
    "start = time.time()\n",
    "A_,Bm_,Bp_,s_,z_,x_prop_ = myModel.diff_discrete_foh_serial(zbar[:N],u0,delT,tf)\n",
    "end = time.time()\n",
    "print(end - start)"
   ]
  },
  {
   "cell_type": "code",
   "execution_count": null,
   "id": "716a9222",
   "metadata": {},
   "outputs": [],
   "source": [
    "for mat,mat_ in zip([A,Bm,Bp,s,z,x_prop],[A_,Bm_,Bp_,s_,z_,x_prop_]) :\n",
    "    print(np.max(np.abs(mat - mat_)))"
   ]
  },
  {
   "cell_type": "code",
   "execution_count": null,
   "id": "510e2f19",
   "metadata": {},
   "outputs": [],
   "source": [
    "print_np(A_)"
   ]
  },
  {
   "cell_type": "code",
   "execution_count": null,
   "id": "b9d28974",
   "metadata": {},
   "outputs": [],
   "source": [
    "print_np(Bm_)"
   ]
  },
  {
   "cell_type": "code",
   "execution_count": null,
   "id": "34296549",
   "metadata": {},
   "outputs": [],
   "source": []
  }
 ],
 "metadata": {
  "kernelspec": {
   "display_name": "Python 3 (ipykernel)",
   "language": "python",
   "name": "python3"
  },
  "language_info": {
   "codemirror_mode": {
    "name": "ipython",
    "version": 3
   },
   "file_extension": ".py",
   "mimetype": "text/x-python",
   "name": "python",
   "nbconvert_exporter": "python",
   "pygments_lexer": "ipython3",
   "version": "3.10.0"
  }
 },
 "nbformat": 4,
 "nbformat_minor": 5
}
