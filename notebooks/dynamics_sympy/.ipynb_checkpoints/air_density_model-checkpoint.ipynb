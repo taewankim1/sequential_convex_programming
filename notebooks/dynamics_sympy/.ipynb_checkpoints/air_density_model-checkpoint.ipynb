{
 "cells": [
  {
   "cell_type": "code",
   "execution_count": 1,
   "id": "58ba6d67",
   "metadata": {},
   "outputs": [],
   "source": [
    "import matplotlib.pyplot as plt\n",
    "%matplotlib inline\n",
    "# %matplotlib qt\n",
    "%load_ext autoreload\n",
    "%autoreload 2\n",
    "import numpy as np\n",
    "import time\n",
    "import random\n",
    "def print_np(x):\n",
    "    print (\"Type is %s\" % (type(x)))\n",
    "    print (\"Shape is %s\" % (x.shape,))\n",
    "#     print (\"Values are: \\n%s\" % (x))"
   ]
  },
  {
   "cell_type": "code",
   "execution_count": null,
   "id": "43637dfe",
   "metadata": {},
   "outputs": [],
   "source": [
    "# flag_1 = rz < 11000 \n",
    "T1 = 15.04 - 0.00649 * rz # celsius\n",
    "p1 = 101.29 * np.power((T1+273.1)/288.08,5.256)\n",
    "rho1 = p1 / (0.2869 * (T1 + 273.1))"
   ]
  },
  {
   "cell_type": "code",
   "execution_count": null,
   "id": "5eb66072",
   "metadata": {},
   "outputs": [],
   "source": []
  }
 ],
 "metadata": {
  "kernelspec": {
   "display_name": "Python 3 (ipykernel)",
   "language": "python",
   "name": "python3"
  },
  "language_info": {
   "codemirror_mode": {
    "name": "ipython",
    "version": 3
   },
   "file_extension": ".py",
   "mimetype": "text/x-python",
   "name": "python",
   "nbconvert_exporter": "python",
   "pygments_lexer": "ipython3",
   "version": "3.8.12"
  }
 },
 "nbformat": 4,
 "nbformat_minor": 5
}
