{
 "cells": [
  {
   "cell_type": "code",
   "execution_count": 1,
   "id": "blank-coffee",
   "metadata": {},
   "outputs": [],
   "source": [
    "import sympy as sp\n",
    "def print_np(x):\n",
    "    print (\"Type is %s\" % (type(x)))\n",
    "    print (\"Shape is %s\" % (x.shape,))\n",
    "#     print (\"Values are: \\n%s\" % (x))"
   ]
  },
  {
   "cell_type": "code",
   "execution_count": 2,
   "id": "written-confirmation",
   "metadata": {},
   "outputs": [],
   "source": [
    "from sympy import symbols, Matrix\n",
    "m,g,Sw,CD0,K = symbols('m,g,Sw,CD0,K')"
   ]
  },
  {
   "cell_type": "code",
   "execution_count": 8,
   "id": "monthly-edgar",
   "metadata": {},
   "outputs": [],
   "source": [
    "# from sympy.matrices import Matrix, eye, zeros, ones, diag, GramSchmidt\n",
    "# from sympy import simplify, cos, sin\n",
    "from sympy import *\n",
    "f = zeros(6, 1)\n",
    "ix = 6\n",
    "iu = 3\n",
    "\n",
    "x = Matrix(symbols(\n",
    "    'rx ry rz v gamma psi', real=True))\n",
    "u = Matrix(symbols('CL,phi,thrust', real=True))\n",
    "\n",
    "rx = x[0,0]\n",
    "ry = x[1,0]\n",
    "rz = x[2,0]\n",
    "v = x[3,0] # speed\n",
    "gamma = x[4,0] # path angle\n",
    "psi = x[5,0] # velocity heading\n",
    "\n",
    "CL = u[0,0] # lift coefficient\n",
    "phi = u[1,0] # bank angle\n",
    "thrust = u[2,0] # thrust\n",
    "\n",
    "T1 = 15.04 - 0.00649 * rz # celsius\n",
    "p1 = 101.29 * Pow((T1+273.1)/288.08,5.256)\n",
    "rho = p1 / (0.2869 * (T1 + 273.1))\n",
    "\n",
    "\n",
    "L = 0.5 * rho * v * v * Sw * CL\n",
    "D = 0.5 * rho * v * v * Sw * (CD0 + K  * CL * CL)\n",
    "\n",
    "f[0,0] = v * cos(gamma) * cos(psi)\n",
    "f[1,0] = v * cos(gamma) * sin(psi)\n",
    "f[2,0] = v * sin(gamma)\n",
    "f[3,0] = 1 / m * (thrust - D - m * g * sin(gamma))\n",
    "f[4,0] = 1 /(m * v) * (L * cos(phi) - m * g * cos(gamma)) \n",
    "f[5,0] = - L * sin(phi) / (m * v * cos(gamma))"
   ]
  },
  {
   "cell_type": "code",
   "execution_count": 9,
   "id": "cultural-ground",
   "metadata": {},
   "outputs": [
    {
     "data": {
      "text/latex": [
       "$\\displaystyle \\left[\\begin{matrix}v \\cos{\\left(\\gamma \\right)} \\cos{\\left(\\psi \\right)}\\\\v \\sin{\\left(\\psi \\right)} \\cos{\\left(\\gamma \\right)}\\\\v \\sin{\\left(\\gamma \\right)}\\\\\\frac{50.7004654522744 Sw v^{2} \\left(1 - 2.25237731658222 \\cdot 10^{-5} rz\\right)^{5.256} \\left(CD_{0} + CL^{2} K\\right) + \\left(82.667366 - 0.001861981 rz\\right) \\left(g m \\sin{\\left(\\gamma \\right)} - thrust\\right)}{m \\left(0.001861981 rz - 82.667366\\right)}\\\\- \\frac{50.7004654522744 CL Sw v^{2} \\left(1 - 2.25237731658222 \\cdot 10^{-5} rz\\right)^{5.256} \\cos{\\left(\\phi \\right)} + g m \\left(0.001861981 rz - 82.667366\\right) \\cos{\\left(\\gamma \\right)}}{m v \\left(0.001861981 rz - 82.667366\\right)}\\\\\\frac{50.7004654522744 CL Sw v \\left(1 - 2.25237731658222 \\cdot 10^{-5} rz\\right)^{5.256} \\sin{\\left(\\phi \\right)}}{m \\left(0.001861981 rz - 82.667366\\right) \\cos{\\left(\\gamma \\right)}}\\end{matrix}\\right]$"
      ],
      "text/plain": [
       "Matrix([\n",
       "[                                                                                                                                                   v*cos(gamma)*cos(psi)],\n",
       "[                                                                                                                                                   v*sin(psi)*cos(gamma)],\n",
       "[                                                                                                                                                            v*sin(gamma)],\n",
       "[(50.7004654522744*Sw*v**2*(1 - 2.25237731658222e-5*rz)**5.256*(CD0 + CL**2*K) + (82.667366 - 0.001861981*rz)*(g*m*sin(gamma) - thrust))/(m*(0.001861981*rz - 82.667366))],\n",
       "[            -(50.7004654522744*CL*Sw*v**2*(1 - 2.25237731658222e-5*rz)**5.256*cos(phi) + g*m*(0.001861981*rz - 82.667366)*cos(gamma))/(m*v*(0.001861981*rz - 82.667366))],\n",
       "[                                                       50.7004654522744*CL*Sw*v*(1 - 2.25237731658222e-5*rz)**5.256*sin(phi)/(m*(0.001861981*rz - 82.667366)*cos(gamma))]])"
      ]
     },
     "metadata": {},
     "output_type": "display_data"
    },
    {
     "name": "stdout",
     "output_type": "stream",
     "text": [
      "f[:,0] = v*cos(gamma)*cos(psi)\n",
      "f[:,1] = v*sin(psi)*cos(gamma)\n",
      "f[:,2] = v*sin(gamma)\n",
      "f[:,3] = (-50.7004654522744*Sw*v**2*(1 - 2.25237731658222e-5*rz)**5.256*(CD0 + CL**2*K)/(82.667366 - 0.001861981*rz) - g*m*sin(gamma) + thrust)/m\n",
      "f[:,4] = (50.7004654522744*CL*Sw*v**2*(1 - 2.25237731658222e-5*rz)**5.256*cos(phi)/(82.667366 - 0.001861981*rz) - g*m*cos(gamma))/(m*v)\n",
      "f[:,5] = -50.7004654522744*CL*Sw*v*(1 - 2.25237731658222e-5*rz)**5.256*sin(phi)/(m*(82.667366 - 0.001861981*rz)*cos(gamma))\n"
     ]
    }
   ],
   "source": [
    "display(simplify(f)) # f\n",
    "for i in range(ix) :\n",
    "    if f[i] == 0 :\n",
    "        continue\n",
    "    print(\"f[:,{:}] = {}\".format(i,f[i]))"
   ]
  },
  {
   "cell_type": "code",
   "execution_count": null,
   "id": "adjusted-berkeley",
   "metadata": {
    "scrolled": false
   },
   "outputs": [],
   "source": [
    "fx = f.jacobian(x)\n",
    "display(simplify(fx))# A\n",
    "for i in range(ix) :\n",
    "    for j in range(ix) :\n",
    "        if fx[i,j] == 0 :\n",
    "            continue\n",
    "        print(\"fx[:,{:},{:}] = {}\".format(i,j,fx[i,j]))"
   ]
  },
  {
   "cell_type": "code",
   "execution_count": null,
   "id": "romance-intro",
   "metadata": {},
   "outputs": [],
   "source": [
    "fu = f.jacobian(u)\n",
    "display(simplify(fu))# A\n",
    "for i in range(ix) :\n",
    "    for j in range(iu) :\n",
    "        if fu[i,j] == 0 :\n",
    "            continue\n",
    "        print(\"fu[:,{:},{:}] = {}\".format(i,j,fu[i,j]))"
   ]
  },
  {
   "cell_type": "code",
   "execution_count": null,
   "id": "specific-anderson",
   "metadata": {},
   "outputs": [],
   "source": []
  }
 ],
 "metadata": {
  "kernelspec": {
   "display_name": "Python 3 (ipykernel)",
   "language": "python",
   "name": "python3"
  },
  "language_info": {
   "codemirror_mode": {
    "name": "ipython",
    "version": 3
   },
   "file_extension": ".py",
   "mimetype": "text/x-python",
   "name": "python",
   "nbconvert_exporter": "python",
   "pygments_lexer": "ipython3",
   "version": "3.9.7"
  }
 },
 "nbformat": 4,
 "nbformat_minor": 5
}
