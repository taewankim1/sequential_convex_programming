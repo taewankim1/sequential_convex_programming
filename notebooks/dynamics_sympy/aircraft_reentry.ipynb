{
 "cells": [
  {
   "cell_type": "code",
   "execution_count": 2,
   "id": "blank-coffee",
   "metadata": {},
   "outputs": [],
   "source": [
    "import sympy as sp\n",
    "def print_np(x):\n",
    "    print (\"Type is %s\" % (type(x)))\n",
    "    print (\"Shape is %s\" % (x.shape,))\n",
    "#     print (\"Values are: \\n%s\" % (x))"
   ]
  },
  {
   "cell_type": "code",
   "execution_count": 32,
   "id": "written-confirmation",
   "metadata": {},
   "outputs": [],
   "source": [
    "from sympy import symbols, Matrix\n",
    "m,R_0,S_ref,C_L,C_D,rho_0,H = symbols('m,R_0,S_ref,C_L,C_D,rho_0,H')"
   ]
  },
  {
   "cell_type": "code",
   "execution_count": 37,
   "id": "monthly-edgar",
   "metadata": {},
   "outputs": [],
   "source": [
    "# from sympy.matrices import Matrix, eye, zeros, ones, diag, GramSchmidt\n",
    "# from sympy import simplify, cos, sin\n",
    "from sympy import *\n",
    "f = zeros(6, 1)\n",
    "ix = 6\n",
    "iu = 1\n",
    "\n",
    "x = Matrix(symbols(\n",
    "    'r theta phi v gamma psi', real=True))\n",
    "u = Matrix(symbols('sigma,', real=True))\n",
    "# u = symbols('sigma')\n",
    "\n",
    "r = x[0,0]\n",
    "theta = x[1,0]\n",
    "phi = x[2,0]\n",
    "v = x[3,0] \n",
    "gamma = x[4,0] \n",
    "psi = x[5,0] \n",
    "\n",
    "sigma = u[0,0]\n",
    "\n",
    "# rho = rho_0 * exp(-R_0/H*(sqrt(r*r)-1))\n",
    "# L = R_0 * S_ref * C_L * rho * v * v / (2 * m)\n",
    "# D = R_0 * S_ref * C_D * rho * v * v / (2 * m)\n",
    "L_r,L_v,D_r,D_v = symbols('L_r,L_v,D_r,D_v')\n",
    "L = L_r *r + L_v * v\n",
    "D = D_r * r + D_v * v\n",
    "\n",
    "\n",
    "f[0,0] = v * sin(gamma)\n",
    "f[1,0] = v * cos(gamma) * sin(psi) / (r * cos(phi))\n",
    "f[2,0] = v * cos(gamma) * cos(psi) / r\n",
    "f[3,0] = -D-(sin(gamma)/r**2)\n",
    "f[4,0] = 1 / v * (L*cos(sigma)+(v**2 - 1/r)*(cos(gamma)/r))\n",
    "f[5,0] = 1 / v * (L*sin(sigma)/cos(gamma)+v**2/r*cos(gamma)*sin(psi)*tan(phi))"
   ]
  },
  {
   "cell_type": "code",
   "execution_count": 38,
   "id": "cultural-ground",
   "metadata": {},
   "outputs": [
    {
     "data": {
      "text/latex": [
       "$\\displaystyle \\left[\\begin{matrix}v \\sin{\\left(\\gamma \\right)}\\\\\\frac{v \\sin{\\left(\\psi \\right)} \\cos{\\left(\\gamma \\right)}}{r \\cos{\\left(\\phi \\right)}}\\\\\\frac{v \\cos{\\left(\\gamma \\right)} \\cos{\\left(\\psi \\right)}}{r}\\\\- D_{r} r - D_{v} v - \\frac{\\sin{\\left(\\gamma \\right)}}{r^{2}}\\\\\\frac{r^{2} \\left(L_{r} r + L_{v} v\\right) \\cos{\\left(\\sigma \\right)} + \\left(r v^{2} - 1\\right) \\cos{\\left(\\gamma \\right)}}{r^{2} v}\\\\\\frac{r \\left(L_{r} r + L_{v} v\\right) \\sin{\\left(\\sigma \\right)} + v^{2} \\sin{\\left(\\psi \\right)} \\cos^{2}{\\left(\\gamma \\right)} \\tan{\\left(\\phi \\right)}}{r v \\cos{\\left(\\gamma \\right)}}\\end{matrix}\\right]$"
      ],
      "text/plain": [
       "Matrix([\n",
       "[                                                                          v*sin(gamma)],\n",
       "[                                                    v*sin(psi)*cos(gamma)/(r*cos(phi))],\n",
       "[                                                               v*cos(gamma)*cos(psi)/r],\n",
       "[                                                      -D_r*r - D_v*v - sin(gamma)/r**2],\n",
       "[                  (r**2*(L_r*r + L_v*v)*cos(sigma) + (r*v**2 - 1)*cos(gamma))/(r**2*v)],\n",
       "[(r*(L_r*r + L_v*v)*sin(sigma) + v**2*sin(psi)*cos(gamma)**2*tan(phi))/(r*v*cos(gamma))]])"
      ]
     },
     "metadata": {},
     "output_type": "display_data"
    },
    {
     "name": "stdout",
     "output_type": "stream",
     "text": [
      "f[:,0] = v*sin(gamma)\n",
      "f[:,1] = v*sin(psi)*cos(gamma)/(r*cos(phi))\n",
      "f[:,2] = v*cos(gamma)*cos(psi)/r\n",
      "f[:,3] = -D_r*r - D_v*v - sin(gamma)/r**2\n",
      "f[:,4] = ((L_r*r + L_v*v)*cos(sigma) + (v**2 - 1/r)*cos(gamma)/r)/v\n",
      "f[:,5] = ((L_r*r + L_v*v)*sin(sigma)/cos(gamma) + v**2*sin(psi)*cos(gamma)*tan(phi)/r)/v\n"
     ]
    }
   ],
   "source": [
    "display(simplify(f)) # f\n",
    "for i in range(ix) :\n",
    "    if f[i] == 0 :\n",
    "        continue\n",
    "    print(\"f[:,{:}] = {}\".format(i,f[i]))"
   ]
  },
  {
   "cell_type": "code",
   "execution_count": 39,
   "id": "adjusted-berkeley",
   "metadata": {
    "scrolled": false
   },
   "outputs": [
    {
     "data": {
      "text/latex": [
       "$\\displaystyle \\left[\\begin{matrix}0 & 0 & 0 & \\sin{\\left(\\gamma \\right)} & v \\cos{\\left(\\gamma \\right)} & 0\\\\- \\frac{v \\sin{\\left(\\psi \\right)} \\cos{\\left(\\gamma \\right)}}{r^{2} \\cos{\\left(\\phi \\right)}} & 0 & \\frac{v \\sin{\\left(\\phi \\right)} \\sin{\\left(\\psi \\right)} \\cos{\\left(\\gamma \\right)}}{r \\cos^{2}{\\left(\\phi \\right)}} & \\frac{\\sin{\\left(\\psi \\right)} \\cos{\\left(\\gamma \\right)}}{r \\cos{\\left(\\phi \\right)}} & - \\frac{v \\sin{\\left(\\gamma \\right)} \\sin{\\left(\\psi \\right)}}{r \\cos{\\left(\\phi \\right)}} & \\frac{v \\cos{\\left(\\gamma \\right)} \\cos{\\left(\\psi \\right)}}{r \\cos{\\left(\\phi \\right)}}\\\\- \\frac{v \\cos{\\left(\\gamma \\right)} \\cos{\\left(\\psi \\right)}}{r^{2}} & 0 & 0 & \\frac{\\cos{\\left(\\gamma \\right)} \\cos{\\left(\\psi \\right)}}{r} & - \\frac{v \\sin{\\left(\\gamma \\right)} \\cos{\\left(\\psi \\right)}}{r} & - \\frac{v \\sin{\\left(\\psi \\right)} \\cos{\\left(\\gamma \\right)}}{r}\\\\- D_{r} + \\frac{2 \\sin{\\left(\\gamma \\right)}}{r^{3}} & 0 & 0 & - D_{v} & - \\frac{\\cos{\\left(\\gamma \\right)}}{r^{2}} & 0\\\\\\frac{L_{r} \\cos{\\left(\\sigma \\right)}}{v} - \\frac{v \\cos{\\left(\\gamma \\right)}}{r^{2}} + \\frac{2 \\cos{\\left(\\gamma \\right)}}{r^{3} v} & 0 & 0 & - \\frac{L_{r} r \\cos{\\left(\\sigma \\right)}}{v^{2}} + \\frac{\\cos{\\left(\\gamma \\right)}}{r} + \\frac{\\cos{\\left(\\gamma \\right)}}{r^{2} v^{2}} & - \\frac{v \\sin{\\left(\\gamma \\right)}}{r} + \\frac{\\sin{\\left(\\gamma \\right)}}{r^{2} v} & 0\\\\\\frac{L_{r} \\sin{\\left(\\sigma \\right)}}{v \\cos{\\left(\\gamma \\right)}} - \\frac{v \\sin{\\left(\\psi \\right)} \\cos{\\left(\\gamma \\right)} \\tan{\\left(\\phi \\right)}}{r^{2}} & 0 & \\frac{v \\sin{\\left(\\psi \\right)} \\cos{\\left(\\gamma \\right)}}{r \\cos^{2}{\\left(\\phi \\right)}} & - \\frac{L_{r} r \\sin{\\left(\\sigma \\right)}}{v^{2} \\cos{\\left(\\gamma \\right)}} + \\frac{\\sin{\\left(\\psi \\right)} \\cos{\\left(\\gamma \\right)} \\tan{\\left(\\phi \\right)}}{r} & \\frac{\\left(r \\left(L_{r} r + L_{v} v\\right) \\sin{\\left(\\sigma \\right)} - v^{2} \\sin{\\left(\\psi \\right)} \\cos^{2}{\\left(\\gamma \\right)} \\tan{\\left(\\phi \\right)}\\right) \\sin{\\left(\\gamma \\right)}}{r v \\cos^{2}{\\left(\\gamma \\right)}} & \\frac{v \\cos{\\left(\\gamma \\right)} \\cos{\\left(\\psi \\right)} \\tan{\\left(\\phi \\right)}}{r}\\end{matrix}\\right]$"
      ],
      "text/plain": [
       "Matrix([\n",
       "[                                                                  0, 0,                                              0,                                                           sin(gamma),                                                                                         v*cos(gamma),                                  0],\n",
       "[                             -v*sin(psi)*cos(gamma)/(r**2*cos(phi)), 0, v*sin(phi)*sin(psi)*cos(gamma)/(r*cos(phi)**2),                                     sin(psi)*cos(gamma)/(r*cos(phi)),                                                                  -v*sin(gamma)*sin(psi)/(r*cos(phi)), v*cos(gamma)*cos(psi)/(r*cos(phi))],\n",
       "[                                        -v*cos(gamma)*cos(psi)/r**2, 0,                                              0,                                                cos(gamma)*cos(psi)/r,                                                                             -v*sin(gamma)*cos(psi)/r,           -v*sin(psi)*cos(gamma)/r],\n",
       "[                                           -D_r + 2*sin(gamma)/r**3, 0,                                              0,                                                                 -D_v,                                                                                     -cos(gamma)/r**2,                                  0],\n",
       "[       L_r*cos(sigma)/v - v*cos(gamma)/r**2 + 2*cos(gamma)/(r**3*v), 0,                                              0,       -L_r*r*cos(sigma)/v**2 + cos(gamma)/r + cos(gamma)/(r**2*v**2),                                                                -v*sin(gamma)/r + sin(gamma)/(r**2*v),                                  0],\n",
       "[L_r*sin(sigma)/(v*cos(gamma)) - v*sin(psi)*cos(gamma)*tan(phi)/r**2, 0,          v*sin(psi)*cos(gamma)/(r*cos(phi)**2), -L_r*r*sin(sigma)/(v**2*cos(gamma)) + sin(psi)*cos(gamma)*tan(phi)/r, (r*(L_r*r + L_v*v)*sin(sigma) - v**2*sin(psi)*cos(gamma)**2*tan(phi))*sin(gamma)/(r*v*cos(gamma)**2),   v*cos(gamma)*cos(psi)*tan(phi)/r]])"
      ]
     },
     "metadata": {},
     "output_type": "display_data"
    },
    {
     "data": {
      "text/plain": [
       "'fx[1,4]'"
      ]
     },
     "metadata": {},
     "output_type": "display_data"
    },
    {
     "data": {
      "text/latex": [
       "$\\displaystyle \\sin{\\left(\\gamma \\right)}$"
      ],
      "text/plain": [
       "sin(gamma)"
      ]
     },
     "metadata": {},
     "output_type": "display_data"
    },
    {
     "data": {
      "text/plain": [
       "'fx[1,5]'"
      ]
     },
     "metadata": {},
     "output_type": "display_data"
    },
    {
     "data": {
      "text/latex": [
       "$\\displaystyle v \\cos{\\left(\\gamma \\right)}$"
      ],
      "text/plain": [
       "v*cos(gamma)"
      ]
     },
     "metadata": {},
     "output_type": "display_data"
    },
    {
     "data": {
      "text/plain": [
       "'fx[2,1]'"
      ]
     },
     "metadata": {},
     "output_type": "display_data"
    },
    {
     "data": {
      "text/latex": [
       "$\\displaystyle - \\frac{v \\sin{\\left(\\psi \\right)} \\cos{\\left(\\gamma \\right)}}{r^{2} \\cos{\\left(\\phi \\right)}}$"
      ],
      "text/plain": [
       "-v*sin(psi)*cos(gamma)/(r**2*cos(phi))"
      ]
     },
     "metadata": {},
     "output_type": "display_data"
    },
    {
     "data": {
      "text/plain": [
       "'fx[2,3]'"
      ]
     },
     "metadata": {},
     "output_type": "display_data"
    },
    {
     "data": {
      "text/latex": [
       "$\\displaystyle \\frac{v \\sin{\\left(\\phi \\right)} \\sin{\\left(\\psi \\right)} \\cos{\\left(\\gamma \\right)}}{r \\cos^{2}{\\left(\\phi \\right)}}$"
      ],
      "text/plain": [
       "v*sin(phi)*sin(psi)*cos(gamma)/(r*cos(phi)**2)"
      ]
     },
     "metadata": {},
     "output_type": "display_data"
    },
    {
     "data": {
      "text/plain": [
       "'fx[2,4]'"
      ]
     },
     "metadata": {},
     "output_type": "display_data"
    },
    {
     "data": {
      "text/latex": [
       "$\\displaystyle \\frac{\\sin{\\left(\\psi \\right)} \\cos{\\left(\\gamma \\right)}}{r \\cos{\\left(\\phi \\right)}}$"
      ],
      "text/plain": [
       "sin(psi)*cos(gamma)/(r*cos(phi))"
      ]
     },
     "metadata": {},
     "output_type": "display_data"
    },
    {
     "data": {
      "text/plain": [
       "'fx[2,5]'"
      ]
     },
     "metadata": {},
     "output_type": "display_data"
    },
    {
     "data": {
      "text/latex": [
       "$\\displaystyle - \\frac{v \\sin{\\left(\\gamma \\right)} \\sin{\\left(\\psi \\right)}}{r \\cos{\\left(\\phi \\right)}}$"
      ],
      "text/plain": [
       "-v*sin(gamma)*sin(psi)/(r*cos(phi))"
      ]
     },
     "metadata": {},
     "output_type": "display_data"
    },
    {
     "data": {
      "text/plain": [
       "'fx[2,6]'"
      ]
     },
     "metadata": {},
     "output_type": "display_data"
    },
    {
     "data": {
      "text/latex": [
       "$\\displaystyle \\frac{v \\cos{\\left(\\gamma \\right)} \\cos{\\left(\\psi \\right)}}{r \\cos{\\left(\\phi \\right)}}$"
      ],
      "text/plain": [
       "v*cos(gamma)*cos(psi)/(r*cos(phi))"
      ]
     },
     "metadata": {},
     "output_type": "display_data"
    },
    {
     "data": {
      "text/plain": [
       "'fx[3,1]'"
      ]
     },
     "metadata": {},
     "output_type": "display_data"
    },
    {
     "data": {
      "text/latex": [
       "$\\displaystyle - \\frac{v \\cos{\\left(\\gamma \\right)} \\cos{\\left(\\psi \\right)}}{r^{2}}$"
      ],
      "text/plain": [
       "-v*cos(gamma)*cos(psi)/r**2"
      ]
     },
     "metadata": {},
     "output_type": "display_data"
    },
    {
     "data": {
      "text/plain": [
       "'fx[3,4]'"
      ]
     },
     "metadata": {},
     "output_type": "display_data"
    },
    {
     "data": {
      "text/latex": [
       "$\\displaystyle \\frac{\\cos{\\left(\\gamma \\right)} \\cos{\\left(\\psi \\right)}}{r}$"
      ],
      "text/plain": [
       "cos(gamma)*cos(psi)/r"
      ]
     },
     "metadata": {},
     "output_type": "display_data"
    },
    {
     "data": {
      "text/plain": [
       "'fx[3,5]'"
      ]
     },
     "metadata": {},
     "output_type": "display_data"
    },
    {
     "data": {
      "text/latex": [
       "$\\displaystyle - \\frac{v \\sin{\\left(\\gamma \\right)} \\cos{\\left(\\psi \\right)}}{r}$"
      ],
      "text/plain": [
       "-v*sin(gamma)*cos(psi)/r"
      ]
     },
     "metadata": {},
     "output_type": "display_data"
    },
    {
     "data": {
      "text/plain": [
       "'fx[3,6]'"
      ]
     },
     "metadata": {},
     "output_type": "display_data"
    },
    {
     "data": {
      "text/latex": [
       "$\\displaystyle - \\frac{v \\sin{\\left(\\psi \\right)} \\cos{\\left(\\gamma \\right)}}{r}$"
      ],
      "text/plain": [
       "-v*sin(psi)*cos(gamma)/r"
      ]
     },
     "metadata": {},
     "output_type": "display_data"
    },
    {
     "data": {
      "text/plain": [
       "'fx[4,1]'"
      ]
     },
     "metadata": {},
     "output_type": "display_data"
    },
    {
     "data": {
      "text/latex": [
       "$\\displaystyle - D_{r} + \\frac{2 \\sin{\\left(\\gamma \\right)}}{r^{3}}$"
      ],
      "text/plain": [
       "-D_r + 2*sin(gamma)/r**3"
      ]
     },
     "metadata": {},
     "output_type": "display_data"
    },
    {
     "data": {
      "text/plain": [
       "'fx[4,4]'"
      ]
     },
     "metadata": {},
     "output_type": "display_data"
    },
    {
     "data": {
      "text/latex": [
       "$\\displaystyle - D_{v}$"
      ],
      "text/plain": [
       "-D_v"
      ]
     },
     "metadata": {},
     "output_type": "display_data"
    },
    {
     "data": {
      "text/plain": [
       "'fx[4,5]'"
      ]
     },
     "metadata": {},
     "output_type": "display_data"
    },
    {
     "data": {
      "text/latex": [
       "$\\displaystyle - \\frac{\\cos{\\left(\\gamma \\right)}}{r^{2}}$"
      ],
      "text/plain": [
       "-cos(gamma)/r**2"
      ]
     },
     "metadata": {},
     "output_type": "display_data"
    },
    {
     "data": {
      "text/plain": [
       "'fx[5,1]'"
      ]
     },
     "metadata": {},
     "output_type": "display_data"
    },
    {
     "data": {
      "text/latex": [
       "$\\displaystyle \\frac{L_{r} \\cos{\\left(\\sigma \\right)} - \\frac{\\left(v^{2} - \\frac{1}{r}\\right) \\cos{\\left(\\gamma \\right)}}{r^{2}} + \\frac{\\cos{\\left(\\gamma \\right)}}{r^{3}}}{v}$"
      ],
      "text/plain": [
       "(L_r*cos(sigma) - (v**2 - 1/r)*cos(gamma)/r**2 + cos(gamma)/r**3)/v"
      ]
     },
     "metadata": {},
     "output_type": "display_data"
    },
    {
     "data": {
      "text/plain": [
       "'fx[5,4]'"
      ]
     },
     "metadata": {},
     "output_type": "display_data"
    },
    {
     "data": {
      "text/latex": [
       "$\\displaystyle \\frac{L_{v} \\cos{\\left(\\sigma \\right)} + \\frac{2 v \\cos{\\left(\\gamma \\right)}}{r}}{v} - \\frac{\\left(L_{r} r + L_{v} v\\right) \\cos{\\left(\\sigma \\right)} + \\frac{\\left(v^{2} - \\frac{1}{r}\\right) \\cos{\\left(\\gamma \\right)}}{r}}{v^{2}}$"
      ],
      "text/plain": [
       "(L_v*cos(sigma) + 2*v*cos(gamma)/r)/v - ((L_r*r + L_v*v)*cos(sigma) + (v**2 - 1/r)*cos(gamma)/r)/v**2"
      ]
     },
     "metadata": {},
     "output_type": "display_data"
    },
    {
     "data": {
      "text/plain": [
       "'fx[5,5]'"
      ]
     },
     "metadata": {},
     "output_type": "display_data"
    },
    {
     "data": {
      "text/latex": [
       "$\\displaystyle - \\frac{\\left(v^{2} - \\frac{1}{r}\\right) \\sin{\\left(\\gamma \\right)}}{r v}$"
      ],
      "text/plain": [
       "-(v**2 - 1/r)*sin(gamma)/(r*v)"
      ]
     },
     "metadata": {},
     "output_type": "display_data"
    },
    {
     "data": {
      "text/plain": [
       "'fx[6,1]'"
      ]
     },
     "metadata": {},
     "output_type": "display_data"
    },
    {
     "data": {
      "text/latex": [
       "$\\displaystyle \\frac{\\frac{L_{r} \\sin{\\left(\\sigma \\right)}}{\\cos{\\left(\\gamma \\right)}} - \\frac{v^{2} \\sin{\\left(\\psi \\right)} \\cos{\\left(\\gamma \\right)} \\tan{\\left(\\phi \\right)}}{r^{2}}}{v}$"
      ],
      "text/plain": [
       "(L_r*sin(sigma)/cos(gamma) - v**2*sin(psi)*cos(gamma)*tan(phi)/r**2)/v"
      ]
     },
     "metadata": {},
     "output_type": "display_data"
    },
    {
     "data": {
      "text/plain": [
       "'fx[6,3]'"
      ]
     },
     "metadata": {},
     "output_type": "display_data"
    },
    {
     "data": {
      "text/latex": [
       "$\\displaystyle \\frac{v \\left(\\tan^{2}{\\left(\\phi \\right)} + 1\\right) \\sin{\\left(\\psi \\right)} \\cos{\\left(\\gamma \\right)}}{r}$"
      ],
      "text/plain": [
       "v*(tan(phi)**2 + 1)*sin(psi)*cos(gamma)/r"
      ]
     },
     "metadata": {},
     "output_type": "display_data"
    },
    {
     "data": {
      "text/plain": [
       "'fx[6,4]'"
      ]
     },
     "metadata": {},
     "output_type": "display_data"
    },
    {
     "data": {
      "text/latex": [
       "$\\displaystyle \\frac{\\frac{L_{v} \\sin{\\left(\\sigma \\right)}}{\\cos{\\left(\\gamma \\right)}} + \\frac{2 v \\sin{\\left(\\psi \\right)} \\cos{\\left(\\gamma \\right)} \\tan{\\left(\\phi \\right)}}{r}}{v} - \\frac{\\frac{\\left(L_{r} r + L_{v} v\\right) \\sin{\\left(\\sigma \\right)}}{\\cos{\\left(\\gamma \\right)}} + \\frac{v^{2} \\sin{\\left(\\psi \\right)} \\cos{\\left(\\gamma \\right)} \\tan{\\left(\\phi \\right)}}{r}}{v^{2}}$"
      ],
      "text/plain": [
       "(L_v*sin(sigma)/cos(gamma) + 2*v*sin(psi)*cos(gamma)*tan(phi)/r)/v - ((L_r*r + L_v*v)*sin(sigma)/cos(gamma) + v**2*sin(psi)*cos(gamma)*tan(phi)/r)/v**2"
      ]
     },
     "metadata": {},
     "output_type": "display_data"
    },
    {
     "data": {
      "text/plain": [
       "'fx[6,5]'"
      ]
     },
     "metadata": {},
     "output_type": "display_data"
    },
    {
     "data": {
      "text/latex": [
       "$\\displaystyle \\frac{\\frac{\\left(L_{r} r + L_{v} v\\right) \\sin{\\left(\\gamma \\right)} \\sin{\\left(\\sigma \\right)}}{\\cos^{2}{\\left(\\gamma \\right)}} - \\frac{v^{2} \\sin{\\left(\\gamma \\right)} \\sin{\\left(\\psi \\right)} \\tan{\\left(\\phi \\right)}}{r}}{v}$"
      ],
      "text/plain": [
       "((L_r*r + L_v*v)*sin(gamma)*sin(sigma)/cos(gamma)**2 - v**2*sin(gamma)*sin(psi)*tan(phi)/r)/v"
      ]
     },
     "metadata": {},
     "output_type": "display_data"
    },
    {
     "data": {
      "text/plain": [
       "'fx[6,6]'"
      ]
     },
     "metadata": {},
     "output_type": "display_data"
    },
    {
     "data": {
      "text/latex": [
       "$\\displaystyle \\frac{v \\cos{\\left(\\gamma \\right)} \\cos{\\left(\\psi \\right)} \\tan{\\left(\\phi \\right)}}{r}$"
      ],
      "text/plain": [
       "v*cos(gamma)*cos(psi)*tan(phi)/r"
      ]
     },
     "metadata": {},
     "output_type": "display_data"
    }
   ],
   "source": [
    "fx = f.jacobian(x)\n",
    "display(simplify(fx))# A\n",
    "for i in range(ix) :\n",
    "    for j in range(ix) :\n",
    "        if fx[i,j] == 0 :\n",
    "            continue\n",
    "#         print(\"fx[:,{:},{:}] = {}\".format(i,j,fx[i,j]))\n",
    "        display(\"fx[{:},{:}]\".format(i+1,j+1),fx[i,j])"
   ]
  },
  {
   "cell_type": "code",
   "execution_count": 40,
   "id": "romance-intro",
   "metadata": {},
   "outputs": [
    {
     "data": {
      "text/latex": [
       "$\\displaystyle \\left[\\begin{matrix}0\\\\0\\\\0\\\\0\\\\- \\frac{\\left(L_{r} r + L_{v} v\\right) \\sin{\\left(\\sigma \\right)}}{v}\\\\\\frac{\\left(L_{r} r + L_{v} v\\right) \\cos{\\left(\\sigma \\right)}}{v \\cos{\\left(\\gamma \\right)}}\\end{matrix}\\right]$"
      ],
      "text/plain": [
       "Matrix([\n",
       "[                                        0],\n",
       "[                                        0],\n",
       "[                                        0],\n",
       "[                                        0],\n",
       "[            -(L_r*r + L_v*v)*sin(sigma)/v],\n",
       "[(L_r*r + L_v*v)*cos(sigma)/(v*cos(gamma))]])"
      ]
     },
     "metadata": {},
     "output_type": "display_data"
    },
    {
     "data": {
      "text/plain": [
       "'fu[5,1]'"
      ]
     },
     "metadata": {},
     "output_type": "display_data"
    },
    {
     "data": {
      "text/latex": [
       "$\\displaystyle - \\frac{\\left(L_{r} r + L_{v} v\\right) \\sin{\\left(\\sigma \\right)}}{v}$"
      ],
      "text/plain": [
       "-(L_r*r + L_v*v)*sin(sigma)/v"
      ]
     },
     "metadata": {},
     "output_type": "display_data"
    },
    {
     "data": {
      "text/plain": [
       "'fu[6,1]'"
      ]
     },
     "metadata": {},
     "output_type": "display_data"
    },
    {
     "data": {
      "text/latex": [
       "$\\displaystyle \\frac{\\left(L_{r} r + L_{v} v\\right) \\cos{\\left(\\sigma \\right)}}{v \\cos{\\left(\\gamma \\right)}}$"
      ],
      "text/plain": [
       "(L_r*r + L_v*v)*cos(sigma)/(v*cos(gamma))"
      ]
     },
     "metadata": {},
     "output_type": "display_data"
    }
   ],
   "source": [
    "fu = f.jacobian(u)\n",
    "display(simplify(fu))# A\n",
    "for i in range(ix) :\n",
    "    for j in range(iu) :\n",
    "        if fu[i,j] == 0 :\n",
    "            continue\n",
    "#         print(\"fu[:,{:},{:}] = {}\".format(i,j,fu[i,j]))\n",
    "        display(\"fu[{:},{:}]\".format(i+1,j+1),fu[i,j])"
   ]
  },
  {
   "cell_type": "code",
   "execution_count": null,
   "id": "8b53007f",
   "metadata": {},
   "outputs": [],
   "source": []
  }
 ],
 "metadata": {
  "kernelspec": {
   "display_name": "Python 3 (ipykernel)",
   "language": "python",
   "name": "python3"
  },
  "language_info": {
   "codemirror_mode": {
    "name": "ipython",
    "version": 3
   },
   "file_extension": ".py",
   "mimetype": "text/x-python",
   "name": "python",
   "nbconvert_exporter": "python",
   "pygments_lexer": "ipython3",
   "version": "3.8.12"
  }
 },
 "nbformat": 4,
 "nbformat_minor": 5
}
