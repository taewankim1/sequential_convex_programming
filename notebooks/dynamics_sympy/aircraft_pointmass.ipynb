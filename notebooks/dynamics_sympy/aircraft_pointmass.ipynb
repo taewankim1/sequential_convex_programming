{
 "cells": [
  {
   "cell_type": "code",
   "execution_count": 1,
   "id": "blank-coffee",
   "metadata": {},
   "outputs": [],
   "source": [
    "import sympy as sp\n",
    "def print_np(x):\n",
    "    print (\"Type is %s\" % (type(x)))\n",
    "    print (\"Shape is %s\" % (x.shape,))\n",
    "#     print (\"Values are: \\n%s\" % (x))"
   ]
  },
  {
   "cell_type": "code",
   "execution_count": 2,
   "id": "written-confirmation",
   "metadata": {},
   "outputs": [],
   "source": [
    "from sympy import symbols, Matrix\n",
    "m,g,Sw,CD0,K = symbols('m,g,Sw,CD0,K')"
   ]
  },
  {
   "cell_type": "code",
   "execution_count": 8,
   "id": "monthly-edgar",
   "metadata": {},
   "outputs": [],
   "source": [
    "# from sympy.matrices import Matrix, eye, zeros, ones, diag, GramSchmidt\n",
    "# from sympy import simplify, cos, sin\n",
    "from sympy import *\n",
    "f = zeros(6, 1)\n",
    "ix = 6\n",
    "iu = 3\n",
    "\n",
    "x = Matrix(symbols(\n",
    "    'rx ry rz v gamma psi', real=True))\n",
    "u = Matrix(symbols('CL,phi,thrust', real=True))\n",
    "\n",
    "rx = x[0,0]\n",
    "ry = x[1,0]\n",
    "rz = x[2,0]\n",
    "v = x[3,0] # speed\n",
    "gamma = x[4,0] # path angle\n",
    "psi = x[5,0] # velocity heading\n",
    "\n",
    "CL = u[0,0] # lift coefficient\n",
    "phi = u[1,0] # bank angle\n",
    "thrust = u[2,0] # thrust\n",
    "\n",
    "T1 = 15.04 - 0.00649 * rz # celsius\n",
    "p1 = 101.29 * Pow((T1+273.1)/288.08,5.256)\n",
    "rho = p1 / (0.2869 * (T1 + 273.1))\n",
    "\n",
    "\n",
    "L = 0.5 * rho * v * v * Sw * CL\n",
    "D = 0.5 * rho * v * v * Sw * (CD0 + K  * CL * CL)\n",
    "\n",
    "f[0,0] = v * cos(gamma) * cos(psi)\n",
    "f[1,0] = v * cos(gamma) * sin(psi)\n",
    "f[2,0] = v * sin(gamma)\n",
    "f[3,0] = 1 / m * (thrust - D - m * g * sin(gamma))\n",
    "f[4,0] = 1 /(m * v) * (L * cos(phi) - m * g * cos(gamma)) \n",
    "f[5,0] = - L * sin(phi) / (m * v * cos(gamma))"
   ]
  },
  {
   "cell_type": "code",
   "execution_count": 12,
   "id": "cultural-ground",
   "metadata": {},
   "outputs": [
    {
     "data": {
      "text/latex": [
       "$\\displaystyle \\left[\\begin{matrix}v \\cos{\\left(\\gamma \\right)} \\cos{\\left(\\psi \\right)}\\\\v \\sin{\\left(\\psi \\right)} \\cos{\\left(\\gamma \\right)}\\\\v \\sin{\\left(\\gamma \\right)}\\\\\\frac{50.7004654522744 Sw v^{2} \\left(1 - 2.25237731658222 \\cdot 10^{-5} rz\\right)^{5.256} \\left(CD_{0} + CL^{2} K\\right) + \\left(82.667366 - 0.001861981 rz\\right) \\left(g m \\sin{\\left(\\gamma \\right)} - thrust\\right)}{m \\left(0.001861981 rz - 82.667366\\right)}\\\\- \\frac{50.7004654522744 CL Sw v^{2} \\left(1 - 2.25237731658222 \\cdot 10^{-5} rz\\right)^{5.256} \\cos{\\left(\\phi \\right)} + g m \\left(0.001861981 rz - 82.667366\\right) \\cos{\\left(\\gamma \\right)}}{m v \\left(0.001861981 rz - 82.667366\\right)}\\\\\\frac{50.7004654522744 CL Sw v \\left(1 - 2.25237731658222 \\cdot 10^{-5} rz\\right)^{5.256} \\sin{\\left(\\phi \\right)}}{m \\left(0.001861981 rz - 82.667366\\right) \\cos{\\left(\\gamma \\right)}}\\end{matrix}\\right]$"
      ],
      "text/plain": [
       "Matrix([\n",
       "[                                                                                                                                                   v*cos(gamma)*cos(psi)],\n",
       "[                                                                                                                                                   v*sin(psi)*cos(gamma)],\n",
       "[                                                                                                                                                            v*sin(gamma)],\n",
       "[(50.7004654522744*Sw*v**2*(1 - 2.25237731658222e-5*rz)**5.256*(CD0 + CL**2*K) + (82.667366 - 0.001861981*rz)*(g*m*sin(gamma) - thrust))/(m*(0.001861981*rz - 82.667366))],\n",
       "[            -(50.7004654522744*CL*Sw*v**2*(1 - 2.25237731658222e-5*rz)**5.256*cos(phi) + g*m*(0.001861981*rz - 82.667366)*cos(gamma))/(m*v*(0.001861981*rz - 82.667366))],\n",
       "[                                                       50.7004654522744*CL*Sw*v*(1 - 2.25237731658222e-5*rz)**5.256*sin(phi)/(m*(0.001861981*rz - 82.667366)*cos(gamma))]])"
      ]
     },
     "metadata": {},
     "output_type": "display_data"
    },
    {
     "name": "stdout",
     "output_type": "stream",
     "text": [
      "f[:,0] = v*cos(gamma)*cos(psi)\n",
      "f[:,1] = v*sin(psi)*cos(gamma)\n",
      "f[:,2] = v*sin(gamma)\n",
      "f[:,3] = (-50.7004654522744*Sw*v**2*(1 - 2.25237731658222e-5*rz)**5.256*(CD0 + CL**2*K)/(82.667366 - 0.001861981*rz) - g*m*sin(gamma) + thrust)/m\n",
      "f[:,4] = (50.7004654522744*CL*Sw*v**2*(1 - 2.25237731658222e-5*rz)**5.256*cos(phi)/(82.667366 - 0.001861981*rz) - g*m*cos(gamma))/(m*v)\n",
      "f[:,5] = -50.7004654522744*CL*Sw*v*(1 - 2.25237731658222e-5*rz)**5.256*sin(phi)/(m*(82.667366 - 0.001861981*rz)*cos(gamma))\n"
     ]
    }
   ],
   "source": [
    "display(simplify(f)) # f\n",
    "for i in range(ix) :\n",
    "    if f[i] == 0 :\n",
    "        continue\n",
    "    print(\"f[:,{:}] = {}\".format(i,f[i]))"
   ]
  },
  {
   "cell_type": "code",
   "execution_count": 13,
   "id": "adjusted-berkeley",
   "metadata": {
    "scrolled": false
   },
   "outputs": [
    {
     "data": {
      "text/latex": [
       "$\\displaystyle \\left[\\begin{matrix}0 & 0 & 0 & \\cos{\\left(\\gamma \\right)} \\cos{\\left(\\psi \\right)} & - v \\sin{\\left(\\gamma \\right)} \\cos{\\left(\\psi \\right)} & - v \\sin{\\left(\\psi \\right)} \\cos{\\left(\\gamma \\right)}\\\\0 & 0 & 0 & \\sin{\\left(\\psi \\right)} \\cos{\\left(\\gamma \\right)} & - v \\sin{\\left(\\gamma \\right)} \\sin{\\left(\\psi \\right)} & v \\cos{\\left(\\gamma \\right)} \\cos{\\left(\\psi \\right)}\\\\0 & 0 & 0 & \\sin{\\left(\\gamma \\right)} & v \\cos{\\left(\\gamma \\right)} & 0\\\\0 & 0 & \\frac{Sw v^{2} \\left(CD_{0} + CL^{2} K\\right) \\left(\\left(0.00114196578324863 - 2.57213782650226 \\cdot 10^{-8} rz\\right) \\left(1 - 2.25237731658222 \\cdot 10^{-5} rz\\right)^{5.256} - 0.00600217215675481 \\left(1 - 2.25237731658222 \\cdot 10^{-5} rz\\right)^{4.256} \\left(2.25237731658222 \\cdot 10^{-5} rz - 1\\right)^{2}\\right)}{m \\left(2.25237731658222 \\cdot 10^{-5} rz - 1\\right)^{2} \\left(0.001861981 rz - 82.667366\\right)} & \\frac{101.400930904549 Sw v \\left(1 - 2.25237731658222 \\cdot 10^{-5} rz\\right)^{5.256} \\left(CD_{0} + CL^{2} K\\right)}{m \\left(0.001861981 rz - 82.667366\\right)} & - g \\cos{\\left(\\gamma \\right)} & 0\\\\0 & 0 & \\frac{CL Sw v \\left(0.00600217215675481 \\left(1 - 2.25237731658222 \\cdot 10^{-5} rz\\right)^{4.256} \\left(2.25237731658222 \\cdot 10^{-5} rz - 1\\right)^{2} + \\left(1 - 2.25237731658222 \\cdot 10^{-5} rz\\right)^{5.256} \\left(2.57213782650226 \\cdot 10^{-8} rz - 0.00114196578324863\\right)\\right) \\cos{\\left(\\phi \\right)}}{m \\left(2.25237731658222 \\cdot 10^{-5} rz - 1\\right)^{2} \\left(0.001861981 rz - 82.667366\\right)} & \\frac{\\left(0.001861981 rz - 82.667366\\right) \\left(- 0.00741897224238988 CL Sw v^{2} \\left(1 - 2.25237731658222 \\cdot 10^{-5} rz\\right)^{5.256} \\cos{\\left(\\phi \\right)} + 0.000146329470078998 g m \\left(0.001861981 rz - 82.667366\\right) \\cos{\\left(\\gamma \\right)}\\right)}{m v^{2} \\left(2.25237731658222 \\cdot 10^{-5} rz - 1\\right)^{2}} & \\frac{g \\sin{\\left(\\gamma \\right)}}{v} & 0\\\\0 & 0 & \\frac{CL Sw v \\left(\\left(0.00114196578324863 - 2.57213782650226 \\cdot 10^{-8} rz\\right) \\left(1 - 2.25237731658222 \\cdot 10^{-5} rz\\right)^{5.256} - 0.00600217215675481 \\left(1 - 2.25237731658222 \\cdot 10^{-5} rz\\right)^{4.256} \\left(2.25237731658222 \\cdot 10^{-5} rz - 1\\right)^{2}\\right) \\sin{\\left(\\phi \\right)}}{m \\left(2.25237731658222 \\cdot 10^{-5} rz - 1\\right)^{2} \\left(0.001861981 rz - 82.667366\\right) \\cos{\\left(\\gamma \\right)}} & \\frac{50.7004654522744 CL Sw \\left(1 - 2.25237731658222 \\cdot 10^{-5} rz\\right)^{5.256} \\sin{\\left(\\phi \\right)}}{m \\left(0.001861981 rz - 82.667366\\right) \\cos{\\left(\\gamma \\right)}} & \\frac{50.7004654522744 CL Sw v \\left(1 - 2.25237731658222 \\cdot 10^{-5} rz\\right)^{5.256} \\sin{\\left(\\gamma \\right)} \\sin{\\left(\\phi \\right)}}{m \\left(0.001861981 rz - 82.667366\\right) \\cos^{2}{\\left(\\gamma \\right)}} & 0\\end{matrix}\\right]$"
      ],
      "text/plain": [
       "Matrix([\n",
       "[0, 0,                                                                                                                                                                                                                                                                           0,                                                                                                                                                                                                     cos(gamma)*cos(psi),                                                                                                          -v*sin(gamma)*cos(psi), -v*sin(psi)*cos(gamma)],\n",
       "[0, 0,                                                                                                                                                                                                                                                                           0,                                                                                                                                                                                                     sin(psi)*cos(gamma),                                                                                                          -v*sin(gamma)*sin(psi),  v*cos(gamma)*cos(psi)],\n",
       "[0, 0,                                                                                                                                                                                                                                                                           0,                                                                                                                                                                                                              sin(gamma),                                                                                                                    v*cos(gamma),                      0],\n",
       "[0, 0,     Sw*v**2*(CD0 + CL**2*K)*((0.00114196578324863 - 2.57213782650226e-8*rz)*(1 - 2.25237731658222e-5*rz)**5.256 - 0.00600217215675481*(1 - 2.25237731658222e-5*rz)**4.256*(2.25237731658222e-5*rz - 1)**2)/(m*(2.25237731658222e-5*rz - 1)**2*(0.001861981*rz - 82.667366)),                                                                                                              101.400930904549*Sw*v*(1 - 2.25237731658222e-5*rz)**5.256*(CD0 + CL**2*K)/(m*(0.001861981*rz - 82.667366)),                                                                                                                   -g*cos(gamma),                      0],\n",
       "[0, 0,            CL*Sw*v*(0.00600217215675481*(1 - 2.25237731658222e-5*rz)**4.256*(2.25237731658222e-5*rz - 1)**2 + (1 - 2.25237731658222e-5*rz)**5.256*(2.57213782650226e-8*rz - 0.00114196578324863))*cos(phi)/(m*(2.25237731658222e-5*rz - 1)**2*(0.001861981*rz - 82.667366)), (0.001861981*rz - 82.667366)*(-0.00741897224238988*CL*Sw*v**2*(1 - 2.25237731658222e-5*rz)**5.256*cos(phi) + 0.000146329470078998*g*m*(0.001861981*rz - 82.667366)*cos(gamma))/(m*v**2*(2.25237731658222e-5*rz - 1)**2),                                                                                                                  g*sin(gamma)/v,                      0],\n",
       "[0, 0, CL*Sw*v*((0.00114196578324863 - 2.57213782650226e-8*rz)*(1 - 2.25237731658222e-5*rz)**5.256 - 0.00600217215675481*(1 - 2.25237731658222e-5*rz)**4.256*(2.25237731658222e-5*rz - 1)**2)*sin(phi)/(m*(2.25237731658222e-5*rz - 1)**2*(0.001861981*rz - 82.667366)*cos(gamma)),                                                                                                         50.7004654522744*CL*Sw*(1 - 2.25237731658222e-5*rz)**5.256*sin(phi)/(m*(0.001861981*rz - 82.667366)*cos(gamma)), 50.7004654522744*CL*Sw*v*(1 - 2.25237731658222e-5*rz)**5.256*sin(gamma)*sin(phi)/(m*(0.001861981*rz - 82.667366)*cos(gamma)**2),                      0]])"
      ]
     },
     "metadata": {},
     "output_type": "display_data"
    },
    {
     "name": "stdout",
     "output_type": "stream",
     "text": [
      "fx[:,0,3] = cos(gamma)*cos(psi)\n",
      "fx[:,0,4] = -v*sin(gamma)*cos(psi)\n",
      "fx[:,0,5] = -v*sin(psi)*cos(gamma)\n",
      "fx[:,1,3] = sin(psi)*cos(gamma)\n",
      "fx[:,1,4] = -v*sin(gamma)*sin(psi)\n",
      "fx[:,1,5] = v*cos(gamma)*cos(psi)\n",
      "fx[:,2,3] = sin(gamma)\n",
      "fx[:,2,4] = v*cos(gamma)\n",
      "fx[:,3,2] = (0.00600217215675481*Sw*v**2*(1 - 2.25237731658222e-5*rz)**4.256*(CD0 + CL**2*K)/(82.667366 - 0.001861981*rz) - 1.38139853548573e-5*Sw*v**2*(1 - 2.25237731658222e-5*rz)**5.256*(CD0 + CL**2*K)/(1 - 2.25237731658222e-5*rz)**2)/m\n",
      "fx[:,3,3] = -101.400930904549*Sw*v*(1 - 2.25237731658222e-5*rz)**5.256*(CD0 + CL**2*K)/(m*(82.667366 - 0.001861981*rz))\n",
      "fx[:,3,4] = -g*cos(gamma)\n",
      "fx[:,4,2] = (-0.00600217215675481*CL*Sw*v**2*(1 - 2.25237731658222e-5*rz)**4.256*cos(phi)/(82.667366 - 0.001861981*rz) + 1.38139853548573e-5*CL*Sw*v**2*(1 - 2.25237731658222e-5*rz)**5.256*cos(phi)/(1 - 2.25237731658222e-5*rz)**2)/(m*v)\n",
      "fx[:,4,3] = 101.400930904549*CL*Sw*(1 - 2.25237731658222e-5*rz)**5.256*cos(phi)/(m*(82.667366 - 0.001861981*rz)) - (50.7004654522744*CL*Sw*v**2*(1 - 2.25237731658222e-5*rz)**5.256*cos(phi)/(82.667366 - 0.001861981*rz) - g*m*cos(gamma))/(m*v**2)\n",
      "fx[:,4,4] = g*sin(gamma)/v\n",
      "fx[:,5,2] = 0.00600217215675481*CL*Sw*v*(1 - 2.25237731658222e-5*rz)**4.256*sin(phi)/(m*(82.667366 - 0.001861981*rz)*cos(gamma)) - 1.38139853548573e-5*CL*Sw*v*(1 - 2.25237731658222e-5*rz)**5.256*sin(phi)/(m*(1 - 2.25237731658222e-5*rz)**2*cos(gamma))\n",
      "fx[:,5,3] = -50.7004654522744*CL*Sw*(1 - 2.25237731658222e-5*rz)**5.256*sin(phi)/(m*(82.667366 - 0.001861981*rz)*cos(gamma))\n",
      "fx[:,5,4] = -50.7004654522744*CL*Sw*v*(1 - 2.25237731658222e-5*rz)**5.256*sin(gamma)*sin(phi)/(m*(82.667366 - 0.001861981*rz)*cos(gamma)**2)\n"
     ]
    }
   ],
   "source": [
    "fx = f.jacobian(x)\n",
    "display(simplify(fx))# A\n",
    "for i in range(ix) :\n",
    "    for j in range(ix) :\n",
    "        if fx[i,j] == 0 :\n",
    "            continue\n",
    "        print(\"fx[:,{:},{:}] = {}\".format(i,j,fx[i,j]))"
   ]
  },
  {
   "cell_type": "code",
   "execution_count": 14,
   "id": "romance-intro",
   "metadata": {},
   "outputs": [
    {
     "data": {
      "text/latex": [
       "$\\displaystyle \\left[\\begin{matrix}0 & 0 & 0\\\\0 & 0 & 0\\\\0 & 0 & 0\\\\\\frac{101.400930904549 CL K Sw v^{2} \\left(1 - 2.25237731658222 \\cdot 10^{-5} rz\\right)^{5.256}}{m \\left(0.001861981 rz - 82.667366\\right)} & 0 & \\frac{1}{m}\\\\- \\frac{50.7004654522744 Sw v \\left(1 - 2.25237731658222 \\cdot 10^{-5} rz\\right)^{5.256} \\cos{\\left(\\phi \\right)}}{m \\left(0.001861981 rz - 82.667366\\right)} & \\frac{50.7004654522744 CL Sw v \\left(1 - 2.25237731658222 \\cdot 10^{-5} rz\\right)^{5.256} \\sin{\\left(\\phi \\right)}}{m \\left(0.001861981 rz - 82.667366\\right)} & 0\\\\\\frac{50.7004654522744 Sw v \\left(1 - 2.25237731658222 \\cdot 10^{-5} rz\\right)^{5.256} \\sin{\\left(\\phi \\right)}}{m \\left(0.001861981 rz - 82.667366\\right) \\cos{\\left(\\gamma \\right)}} & \\frac{50.7004654522744 CL Sw v \\left(1 - 2.25237731658222 \\cdot 10^{-5} rz\\right)^{5.256} \\cos{\\left(\\phi \\right)}}{m \\left(0.001861981 rz - 82.667366\\right) \\cos{\\left(\\gamma \\right)}} & 0\\end{matrix}\\right]$"
      ],
      "text/plain": [
       "Matrix([\n",
       "[                                                                                                             0,                                                                                                                 0,   0],\n",
       "[                                                                                                             0,                                                                                                                 0,   0],\n",
       "[                                                                                                             0,                                                                                                                 0,   0],\n",
       "[            101.400930904549*CL*K*Sw*v**2*(1 - 2.25237731658222e-5*rz)**5.256/(m*(0.001861981*rz - 82.667366)),                                                                                                                 0, 1/m],\n",
       "[          -50.7004654522744*Sw*v*(1 - 2.25237731658222e-5*rz)**5.256*cos(phi)/(m*(0.001861981*rz - 82.667366)),            50.7004654522744*CL*Sw*v*(1 - 2.25237731658222e-5*rz)**5.256*sin(phi)/(m*(0.001861981*rz - 82.667366)),   0],\n",
       "[50.7004654522744*Sw*v*(1 - 2.25237731658222e-5*rz)**5.256*sin(phi)/(m*(0.001861981*rz - 82.667366)*cos(gamma)), 50.7004654522744*CL*Sw*v*(1 - 2.25237731658222e-5*rz)**5.256*cos(phi)/(m*(0.001861981*rz - 82.667366)*cos(gamma)),   0]])"
      ]
     },
     "metadata": {},
     "output_type": "display_data"
    },
    {
     "name": "stdout",
     "output_type": "stream",
     "text": [
      "fu[:,3,0] = -101.400930904549*CL*K*Sw*v**2*(1 - 2.25237731658222e-5*rz)**5.256/(m*(82.667366 - 0.001861981*rz))\n",
      "fu[:,3,2] = 1/m\n",
      "fu[:,4,0] = 50.7004654522744*Sw*v*(1 - 2.25237731658222e-5*rz)**5.256*cos(phi)/(m*(82.667366 - 0.001861981*rz))\n",
      "fu[:,4,1] = -50.7004654522744*CL*Sw*v*(1 - 2.25237731658222e-5*rz)**5.256*sin(phi)/(m*(82.667366 - 0.001861981*rz))\n",
      "fu[:,5,0] = -50.7004654522744*Sw*v*(1 - 2.25237731658222e-5*rz)**5.256*sin(phi)/(m*(82.667366 - 0.001861981*rz)*cos(gamma))\n",
      "fu[:,5,1] = -50.7004654522744*CL*Sw*v*(1 - 2.25237731658222e-5*rz)**5.256*cos(phi)/(m*(82.667366 - 0.001861981*rz)*cos(gamma))\n"
     ]
    }
   ],
   "source": [
    "fu = f.jacobian(u)\n",
    "display(simplify(fu))# A\n",
    "for i in range(ix) :\n",
    "    for j in range(iu) :\n",
    "        if fu[i,j] == 0 :\n",
    "            continue\n",
    "        print(\"fu[:,{:},{:}] = {}\".format(i,j,fu[i,j]))"
   ]
  },
  {
   "cell_type": "code",
   "execution_count": null,
   "id": "specific-anderson",
   "metadata": {},
   "outputs": [],
   "source": []
  }
 ],
 "metadata": {
  "kernelspec": {
   "display_name": "Python 3 (ipykernel)",
   "language": "python",
   "name": "python3"
  },
  "language_info": {
   "codemirror_mode": {
    "name": "ipython",
    "version": 3
   },
   "file_extension": ".py",
   "mimetype": "text/x-python",
   "name": "python",
   "nbconvert_exporter": "python",
   "pygments_lexer": "ipython3",
   "version": "3.8.12"
  }
 },
 "nbformat": 4,
 "nbformat_minor": 5
}
