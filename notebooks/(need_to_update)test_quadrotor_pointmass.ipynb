{
 "cells": [
  {
   "cell_type": "code",
   "execution_count": null,
   "metadata": {},
   "outputs": [],
   "source": [
    "import matplotlib.pyplot as plt\n",
    "%matplotlib inline\n",
    "# %matplotlib qt\n",
    "%load_ext autoreload\n",
    "%autoreload 2\n",
    "import numpy as np\n",
    "import time\n",
    "import random\n",
    "def print_np(x):\n",
    "    print (\"Type is %s\" % (type(x)))\n",
    "    print (\"Shape is %s\" % (x.shape,))\n",
    "#     print (\"Values are: \\n%s\" % (x))\n",
    "import seaborn as sns\n",
    "sns.set_theme(style=\"whitegrid\")\n"
   ]
  },
  {
   "cell_type": "code",
   "execution_count": null,
   "metadata": {},
   "outputs": [],
   "source": [
    "import sys\n",
    "# sys.path.append('../')\n",
    "sys.path.append('../')\n",
    "sys.path.append('../model')\n",
    "sys.path.append('../cost')\n",
    "sys.path.append('../constraints')\n",
    "sys.path.append('../sensor')\n",
    "sys.path.append('../utils')\n",
    "import QuadRotorPointMassModel\n",
    "import QuadRotorPointMassCost\n",
    "import QuadRotorPointMassConstraints\n",
    "import QuadRotorSensor\n",
    "from scipy.integrate import solve_ivp\n",
    "from Scvx import Scvx\n",
    "from utils_obs import generate_obstacle_random"
   ]
  },
  {
   "cell_type": "code",
   "execution_count": null,
   "metadata": {},
   "outputs": [],
   "source": [
    "ix = 6\n",
    "iu = 3\n",
    "ih = 4\n",
    "tf = 5\n",
    "N = 50\n",
    "delT = tf/N"
   ]
  },
  {
   "cell_type": "code",
   "execution_count": null,
   "metadata": {},
   "outputs": [],
   "source": [
    "# obstacle\n",
    "r_safe = 0.3\n",
    "point_range = 0.2\n",
    "c,H_obs,H_safe,r = generate_obstacle_random(r_safe,5)"
   ]
  },
  {
   "cell_type": "code",
   "execution_count": null,
   "metadata": {},
   "outputs": [],
   "source": [
    "plt.figure(figsize=(5,8))\n",
    "ax=plt.gca()\n",
    "for ce,re in zip(c,r) :\n",
    "    circle1 = plt.Circle((ce[0],ce[1]),re,color='tab:red',alpha=0.5,fill=True)\n",
    "    circle2 = plt.Circle((ce[0],ce[1]),re+r_safe,linestyle='--',color='tab:red',alpha=0.5,fill=False)\n",
    "    ax.add_patch(circle1)\n",
    "    ax.add_patch(circle2)\n",
    "plt.axis([-2.5, 2.5, -1, 7])\n",
    "plt.gca().set_aspect('equal', adjustable='box')"
   ]
  },
  {
   "cell_type": "code",
   "execution_count": null,
   "metadata": {},
   "outputs": [],
   "source": [
    "xi = np.array([2,6,0,0,0,0])\n",
    "xf = np.array([-2,0,0,0,0,0])\n",
    "\n",
    "myModel = QuadRotorPointMassModel.quadrotorpm('Hello',ix,iu,delT,linearization=\"analytic\")\n",
    "myCost = QuadRotorPointMassCost.quadrotorpm('Hello',ix,iu,N)\n",
    "myConst = QuadRotorPointMassConstraints.quadrotorpm('Hello',ix,iu,c,H_safe)\n",
    "myObs = QuadRotorSensor.lidar('Hello',ix,iu)\n",
    "myVicon = QuadRotorSensor.vicon('Hello',ix,iu)\n",
    "\n",
    "x0 = np.zeros((N+1,ix))\n",
    "for i in range(N+1) :\n",
    "    x0[i] = (N-i)/N * xi + i/N * xf\n",
    "\n",
    "u0 = np.zeros((N+1,iu))\n",
    "u0[:,2] = 9.81"
   ]
  },
  {
   "cell_type": "code",
   "execution_count": null,
   "metadata": {},
   "outputs": [],
   "source": [
    "max_iter = 30\n",
    "# i1 = Scvx('unicycle',N,max_iter,myModel,myCost,myConst,\n",
    "#           type_discretization='zoh',w_c=1,w_vc=1e4,w_tr=1e-1)\n",
    "i1 = Scvx('unicycle',N,max_iter,myModel,myCost,myConst,\n",
    "          type_discretization='zoh',w_c=1,w_vc=1e4,w_tr=10,tol_vc=1e-8,tol_tr=1e-3)\n",
    "x,u,xbar,ubar,total_num_iter,flag_boundary,l,l_vc,l_tr = i1.run(x0,u0,xi,xf)"
   ]
  },
  {
   "cell_type": "code",
   "execution_count": null,
   "metadata": {},
   "outputs": [],
   "source": [
    "list_time = delT * np.array([i for i in range(N+1)])\n",
    "u_norm = np.linalg.norm(u,axis=1)\n",
    "gimbal_angle = np.arccos(u[:,2] / u_norm)"
   ]
  },
  {
   "cell_type": "code",
   "execution_count": null,
   "metadata": {},
   "outputs": [],
   "source": [
    "%matplotlib inline\n",
    "plt.figure(figsize=(5,8))\n",
    "ax=plt.gca()\n",
    "for ce,re in zip(c,r) :\n",
    "    circle1 = plt.Circle((ce[0],ce[1]),re,color='tab:red',alpha=0.5,fill=True)\n",
    "    circle2 = plt.Circle((ce[0],ce[1]),re+r_safe,linestyle='--',color='tab:red',alpha=0.5,fill=False)\n",
    "    ax.add_patch(circle1)\n",
    "    ax.add_patch(circle2)\n",
    "plt.plot(xbar[:,0],xbar[:,1],color='tab:blue')\n",
    "plt.axis([-2.5, 2.5, -1, 7])\n",
    "plt.gca().set_aspect('equal', adjustable='box')\n",
    "plt.plot(0,0,color='tab:blue',label=\"path\")\n",
    "plt.plot(xi[0],xi[1],'o',color='tab:green',label=\"start\")\n",
    "plt.plot(-2,0,'*',color='tab:green',label=\"goal\")\n",
    "plt.legend(fontsize=15)"
   ]
  },
  {
   "cell_type": "code",
   "execution_count": null,
   "metadata": {},
   "outputs": [],
   "source": [
    "# %matplotlib qt\n",
    "# def data_for_cylinder_along_z(center_x,center_y,radius,height_z):\n",
    "#     z = np.linspace(-height_z, height_z, 50)\n",
    "#     theta = np.linspace(0, 2*np.pi, 50)\n",
    "#     theta_grid, z_grid=np.meshgrid(theta, z)\n",
    "#     x_grid = radius*np.cos(theta_grid) + center_x\n",
    "#     y_grid = radius*np.sin(theta_grid) + center_y\n",
    "#     return x_grid,y_grid,z_grid\n",
    "# from mpl_toolkits.mplot3d import art3d\n",
    "# fig = plt.figure(figsize=(15,15))\n",
    "# ax = fig.add_subplot(111, projection='3d')\n",
    "# ax.set_xlabel('X, east')\n",
    "# ax.set_ylabel('Y, north')\n",
    "# ax.set_zlabel('Z, up')\n",
    "# ax.plot(x[:,0],x[:,1],x[:,2])\n",
    "# ax.set_xlim([-3,3])\n",
    "# ax.set_ylim([-1,7])\n",
    "# ax.set_zlim([-1,1])\n",
    "\n",
    "# Xc,Yc,Zc = data_for_cylinder_along_z(c[0][0],c[0][1],r1,1)\n",
    "# ax.plot_surface(Xc, Yc, Zc, alpha=0.5)\n",
    "# Xc,Yc,Zc = data_for_cylinder_along_z(c[1][0],c[1][1],r2,1)\n",
    "# ax.plot_surface(Xc, Yc, Zc, alpha=0.5)"
   ]
  },
  {
   "cell_type": "code",
   "execution_count": null,
   "metadata": {},
   "outputs": [],
   "source": [
    "%matplotlib inline\n",
    "fS = 15\n",
    "plt.figure(figsize=(15,6))\n",
    "plt.subplot(311)\n",
    "plt.plot(list_time[:N],u[:N,0])\n",
    "plt.xlabel('time (s)',fontsize=fS)\n",
    "plt.ylim([-6,6])\n",
    "plt.title('T1',fontsize=fS)\n",
    "plt.subplot(312)\n",
    "plt.plot(list_time[:N],u[:N,1])\n",
    "plt.xlabel('time (s)',fontsize=fS)\n",
    "plt.ylim([-6,6])\n",
    "plt.title('T2',fontsize=fS)\n",
    "plt.subplot(313)\n",
    "plt.plot(list_time[:N],u[:N,2])\n",
    "plt.xlabel('time (s)',fontsize=fS)\n",
    "plt.ylim([0,20])\n",
    "plt.title('T3',fontsize=fS)\n",
    "\n",
    "\n",
    "plt.figure(figsize=(15,3))\n",
    "plt.plot(list_time[:N],u_norm[:N])\n",
    "plt.plot(list_time[:N],list_time[:N]*0+myConst.T_max,'--',color='tab:orange')\n",
    "plt.plot(list_time[:N],list_time[:N]*0+myConst.T_min,'--',color='tab:orange')\n",
    "plt.xlabel('time (s)',fontsize=fS)\n",
    "plt.ylim([0,32])\n",
    "plt.title('u_norm',fontsize=fS)\n",
    "\n",
    "plt.figure(figsize=(15,3))\n",
    "plt.plot(list_time[:N],np.rad2deg(gimbal_angle[:N]))\n",
    "plt.plot(list_time[:N],list_time[:N]*0+np.rad2deg(myConst.delta_max),'--',color='tab:orange')\n",
    "plt.xlabel('time (s)',fontsize=fS)\n",
    "plt.title('gimbal angle',fontsize=fS)\n",
    "plt.ylim([0,np.rad2deg(myConst.delta_max)+10])"
   ]
  },
  {
   "cell_type": "code",
   "execution_count": null,
   "metadata": {},
   "outputs": [],
   "source": [
    "np.arctan2(0,0)"
   ]
  },
  {
   "cell_type": "code",
   "execution_count": null,
   "metadata": {},
   "outputs": [],
   "source": [
    "vis = myVicon.state2obs(x[0],c,H_obs)\n",
    "print(vis['length'])"
   ]
  },
  {
   "cell_type": "code",
   "execution_count": null,
   "metadata": {},
   "outputs": [],
   "source": [
    "vis = myVicon.state2obs(x[10],c,H_obs)\n",
    "print(vis['length'])"
   ]
  },
  {
   "cell_type": "code",
   "execution_count": null,
   "metadata": {},
   "outputs": [],
   "source": [
    "idx = 20\n",
    "xp = x[idx]\n",
    "vis = myVicon.state2obs(x[idx],c,H_obs)\n",
    "lp = np.reshape(vis['length'],(-1,3))\n",
    "plt.figure(figsize=(5,8))\n",
    "ax=plt.gca()\n",
    "for ce,re in zip(c,r) :\n",
    "    circle1 = plt.Circle((ce[0],ce[1]),re,color='tab:red',alpha=0.5,fill=True)\n",
    "    circle2 = plt.Circle((ce[0],ce[1]),re+r_safe,linestyle='--',color='tab:red',alpha=0.5,fill=False)\n",
    "    ax.add_patch(circle1)\n",
    "    ax.add_patch(circle2)\n",
    "for ro in lp :\n",
    "    if ro[2] == 100 :\n",
    "        print(\"a\")\n",
    "        continue\n",
    "    else :\n",
    "        plt.plot([xp[0],xp[0]+ro[0]],[xp[1],xp[1]+ro[1]],color='tab:blue')\n",
    "        break\n",
    "#     plt.plot(ro[0],ro[1],'o',color='tab:blue')\n",
    "plt.plot(xp[0],xp[1],'o',color='black')\n",
    "plt.axis([-2.5, 2.5, -1, 7])\n",
    "\n",
    "\n",
    "\n",
    "plt.gca().set_aspect('equal', adjustable='box')"
   ]
  },
  {
   "cell_type": "code",
   "execution_count": null,
   "metadata": {
    "scrolled": true
   },
   "outputs": [],
   "source": [
    "# myObs = QuadRotorSensor.lidar('Hello',ix,iu)\n",
    "# vis = myObs.state2obs(x[25],c,H_obs,method=3)\n",
    "# print(vis['length'])\n",
    "# print(vis['point'])"
   ]
  },
  {
   "cell_type": "code",
   "execution_count": null,
   "metadata": {
    "scrolled": true
   },
   "outputs": [],
   "source": [
    "# myObs = QuadRotorSensor.lidar('Hello',ix,iu)\n",
    "# vis = myObs.state2obs(x[25],c,H_obs,method=2)\n",
    "# print(vis['length'])\n",
    "# print(vis['point'])"
   ]
  },
  {
   "cell_type": "code",
   "execution_count": null,
   "metadata": {},
   "outputs": [],
   "source": [
    "obs = myObs.state2obs(x,c,H_obs,method=2)"
   ]
  },
  {
   "cell_type": "code",
   "execution_count": null,
   "metadata": {},
   "outputs": [],
   "source": [
    "idx = 0\n",
    "xp = x[idx]\n",
    "lp = obs['point'][idx]\n",
    "print(lp[0])\n",
    "plt.figure(figsize=(5,8))\n",
    "ax=plt.gca()\n",
    "for ce,re in zip(c,r) :\n",
    "    circle1 = plt.Circle((ce[0],ce[1]),re,color='tab:red',alpha=0.5,fill=True)\n",
    "    circle2 = plt.Circle((ce[0],ce[1]),re+r_safe,linestyle='--',color='tab:red',alpha=0.5,fill=False)\n",
    "    ax.add_patch(circle1)\n",
    "    ax.add_patch(circle2)\n",
    "for ro in lp :\n",
    "    plt.plot([xp[0],ro[0]],[xp[1],ro[1]],color='tab:green')\n",
    "    plt.plot(ro[0],ro[1],'o',color='tab:green')\n",
    "plt.plot(xp[0],xp[1],'o',color='black',label='vehicle')\n",
    "plt.axis([-2.5, 2.5, -1, 7])\n",
    "plt.xlabel('X (m)',fontsize=15)\n",
    "plt.ylabel('Y (m)',fontsize=15)\n",
    "\n",
    "# plt.plot(xi[0],xi[1],'o',color='tab:green',label=\"start\")\n",
    "# plt.plot(-2,0,'*',color='tab:green',label=\"goal\")\n",
    "# only for label\n",
    "plt.plot(-200,0,'o-',color='tab:green',label=\"rangefinder\")\n",
    "circle1 = plt.Circle((-200,0),0.1,color='tab:red',alpha=0.5,fill=True,label='obstacle')\n",
    "circle2 = plt.Circle((-200,0),re+r_safe,linestyle='--',color='tab:red',alpha=0.5,fill=False,label='safe boundary')\n",
    "ax.add_patch(circle1)\n",
    "ax.add_patch(circle2)\n",
    "\n",
    "plt.legend(fontsize=15)\n",
    "plt.gca().set_aspect('equal', adjustable='box')\n",
    "# plt.savefig('/Users/keemtw/Documents/Papers/2022 ACC/lyx/images/raw_images/obstacle_environ2.pdf')"
   ]
  },
  {
   "cell_type": "code",
   "execution_count": null,
   "metadata": {},
   "outputs": [],
   "source": [
    "import imageio\n",
    "from utils import make_quadrotor_trajectory_fig\n",
    "make_quadrotor_trajectory_fig(x,obs,c,H,r)"
   ]
  },
  {
   "cell_type": "code",
   "execution_count": null,
   "metadata": {},
   "outputs": [],
   "source": []
  }
 ],
 "metadata": {
  "kernelspec": {
   "display_name": "Python 3",
   "language": "python",
   "name": "python3"
  },
  "language_info": {
   "codemirror_mode": {
    "name": "ipython",
    "version": 3
   },
   "file_extension": ".py",
   "mimetype": "text/x-python",
   "name": "python",
   "nbconvert_exporter": "python",
   "pygments_lexer": "ipython3",
   "version": "3.8.13"
  }
 },
 "nbformat": 4,
 "nbformat_minor": 5
}
